{
 "cells": [
  {
   "cell_type": "markdown",
   "metadata": {},
   "source": [
    "# Temperature Control Lab, step identification\n",
    "\n",
    "The [temperature control lab](https://apmonitor.com/pdc/index.php/Main/ArduinoTemperatureControl) or TCLab is a laboratory device used for thermal projects. It can be used to simulate and develop thermal control and regulation systems. The TCLab features a feedback control application with an Arduino, an LED, 2 heaters and 2 temperature sensors:  \n",
    "- one heater will represent the TCS heating elements used for temperature control. \n",
    "- another will represent external disturbances such as solar radiation in the Cubesat application.\n",
    "\n",
    "During this tutorial we will start using this card and carry out temperature measurements on control steps. The aim is to identify a dynamic model that can be used to synthesise the control."
   ]
  },
  {
   "cell_type": "markdown",
   "metadata": {},
   "source": [
    "### The TCLab Arduino Package\n",
    "\n",
    "The Temperature Control Laboratory hardware consists of five components:\n",
    "\n",
    "1. Arduino microcontroller board (Arduino Uno, Arduino Leonardo, or equivalents).\n",
    "\n",
    "2. The Temperature Control Laboratory plug-in board (also known as a shield).\n",
    "\n",
    "3. Five watt USB power supply.\n",
    "\n",
    "4. 5.5mm to USB power supply cable.\n",
    "\n",
    "5. USB 2.0 data cable. (w/mini-USB connector for Arduino Uno, or micro-USB cable for Arduino \n",
    "Leonardo.)\n",
    "\n",
    "*TCLab kit:*\n",
    "![TCLab](figures/B.00-arduino_lab_kit.png)\n",
    "\n",
    "#### The main TCLab components\n",
    "Thermistors: These are temperature sensors, there are two thermistors on a TCLab to measure at two different points.\n",
    "The TCLab is equipped with 2 heaters to heat the system for temperature control experiments.\n",
    "#### Assembly \n",
    "The TCLab is attached to the inputs of the arduino board (sort of metal teeth), then a blue cable connects the micro USB type B port on the arduino board to the USBA port on the PC. The TCLab is powered via the mains and its DC power port.\n",
    "#### Setup\n",
    "Before going further, be sure to complete the steps outlined under *Hardware setup* as described in TCLab [README](https://github.com/jckantor/TCLab/blob/master/README.rst). Mac OS users may need to install a serial driver available [here](https://github.com/adrianmihalko/ch340g-ch34g-ch34x-mac-os-x-driver). Normally the TCLab shield will already be mounted on the Arduino board, and the firmware driver will have been loaded on to the Arduino.\n",
    "\n"
   ]
  },
  {
   "cell_type": "markdown",
   "metadata": {
    "slideshow": {
     "slide_type": "slide"
    }
   },
   "source": [
    "### Overall software architecture\n",
    "The accompanying diagram shows how to access the temperature control laboratory using the TCLab library.\n",
    "\n",
    "<img src='figures/B.00-TCLabOverview.png' style=\"float: right;padding-left:30px;\"></img>\n",
    "\n",
    "**_Jupyter notebooks and Python scripts:_**\n",
    "The highest level consists of the you code you write to implement control algorithms. This can be done in Jupyter/Python notebooks, directly from Python using a development environment such as Spyder or PyCharm. This repository contains several examples, lessons, and student projects.\n",
    "\n",
    "**_TCLab:_**\n",
    "[TCLab](https://github.com/jckantor/TCLab) consists of a Python library entitled `tclab` that provides high-level access to sensors, heaters, a pseudo-realtime clock. The package includes `TCLab()` class that creates an object to access to the device, an iterator `clock` for synchronizing with a real time clock, `Historian()` class to create objects for data logging, and a `Plotter()` class to visualize data in realtime.\n",
    "\n",
    "**_TCLab-sketch:_**\n",
    "The [TCLab-sketch](https://github.com/jckantor/TCLab-sketch) github repository provides firmware to ensure intrisically safe operation of the Arduino board and shield. The sketch is downloaded to the Arduino using the [Arduino IDE](https://www.arduino.cc/en/Main/Software). Loading firmware to the Arduino is a one-time operation. \n",
    "\n",
    "**_Arduino:_**\n",
    "The hardware platform for the Temperature Control Laboratory. The Python tools and libraries have been tested with the Arduino Uno and Arduino Leonardo boards."
   ]
  },
  {
   "cell_type": "markdown",
   "metadata": {},
   "source": [
    "### Getting to grips with the Arduino code\n",
    "\n",
    "The Arduino sketch, when downloaded and installed on a compatible Arduino device, supports the Temperature Control Lab. The sketch is used in conjunction with the compatible Python library TCLab for programmable control of the Temperature Control Lab with Python via Python Serial library.\n",
    "\n",
    "> Read the Arduino .ino code in C language from the file [here](https://github.com/jckantor/TCLab-sketch/blob/master/TCLab-sketch/TCLab-sketch.ino). Describe its structure and, in particular, its temporal execution. Copy below the part of the code that initalises the microntroleur at start-up, as well as the main loop.  \n",
    "\n",
    "**Note:** For a better understanding, read the following page [Basic structure of an arduino code](https://arduinogetstarted.com/tutorials/arduino-code-structure)"
   ]
  },
  {
   "cell_type": "markdown",
   "metadata": {},
   "source": [
    ":::{dropdown} Answers  \n",
    "`setup()`: The setup function starts configurations with analogReference(EXTERNAL), then initializes serial communication using Serial.begin(baud) where baud is the communication speed. There is a while() that waits for serial communication to be established. This empty loop is necessary to ensure that the program doesn't try to communicate via the serial port until it's ready. \n",
    "The pinQ1 and pinQ2 outputs are initialized to a value of 0 using analogWrite, which initially switches off the 2 radiators. \n",
    "\n",
    "```\n",
    "// arduino startup\n",
    "void setup() {\n",
    "  analogReference(EXTERNAL);\n",
    "  Serial.begin(baud); \n",
    "  while (!Serial) {\n",
    "    ; // wait for serial port to connect.\n",
    "  }\n",
    "  analogWrite(pinQ1, 0);\n",
    "  analogWrite(pinQ2, 0);\n",
    "}\n",
    "```\n",
    "\n",
    "`loop()`: This function is the main execution function and is executed in a loop, at each iteration of the loop it calls parseSerial() to analyze the data received via the serial port, then it calls dispatchCommand() to execute the commands. The checkTemp() function is written as a comment and is inactive.\n",
    " \n",
    "``` \n",
    "// arduino main event loop\n",
    "void loop() {\n",
    "  parseSerial();\n",
    "  dispatchCommand();\n",
    "  //checkTemp();\n",
    "}\n",
    "```\n",
    ":::"
   ]
  },
  {
   "cell_type": "markdown",
   "metadata": {},
   "source": [
    "### Compiling and uploading code to an Arduino microcontroller\n",
    "\n",
    "Complete the following steps:\n",
    "- install Arduino software (if not done)\n",
    "- if necessary upload the Tclab [TCLab-sketch.ino](https://github.com/jckantor/TCLab-sketch/blob/master/TCLab-sketch/TCLab-sketch.ino) code in the Arduino microcontroller (select the right Arduino card before with `Tools/Card` the right card type)\n",
    "- select the communication port `Tools/Port`\n",
    "- open the serial monitor `Tools/Serial Monitor`  \n"
   ]
  },
  {
   "cell_type": "markdown",
   "metadata": {},
   "source": [
    "### Reading Temperatures with serial monitor\n",
    "\n",
    "The temperature sensors on the temperature control lab can be acccessed with the attributes `T1` and `T2`.  \n",
    "> In the serial monitor, send orders `T1` and `T2` what do you observe? Can you find the corresponding part of the code? "
   ]
  },
  {
   "cell_type": "markdown",
   "metadata": {},
   "source": [
    ":::{dropdown} Answers  \n",
    "\n",
    "The `dispatchcommand()` function in the main execution loop executes commands (cmd) received over the serial link from the serial monitor or the python environment. \n",
    "\n",
    "```\n",
    "void dispatchCommand(void) {\n",
    "[...]\n",
    "  else if (cmd == \"T1\") {\n",
    "    sendFloatResponse(readTemperature(pinT1));\n",
    "  }\n",
    "[...]\n",
    "  else if (cmd == \"T2\") {\n",
    "    sendFloatResponse(readTemperature(pinT2));\n",
    "  }\n",
    "```\n",
    "\n",
    "In our case, it executes commands T1 or T2 and calls the functions below: \n",
    "- Reading an analogue input with analogue-to-digital conversion and scaling. Averaging several acquisitions reduces sensitivity to measurement noise. \n",
    "\n",
    "``` \n",
    "// return average  of n reads of thermister temperature in °C\n",
    "inline float readTemperature(int pin) {\n",
    "  float degC = 0.0;\n",
    "  for (int i = 0; i < n; i++) {\n",
    "    degC += analogRead(pin) * 0.322265625 - 50.0;    // use for 3.3v AREF\n",
    "    //degC += analogRead(pin) * 0.170898438 - 50.0;  // use for 1.75v AREF\n",
    "  }\n",
    "  return degC / float(n);\n",
    "}\n",
    "```\n",
    "\n",
    "- The averaged value is sent via the serial link. \n",
    "```\n",
    "void sendFloatResponse(float val) {\n",
    "  Serial.println(String(val, 3));\n",
    "}\n",
    "```\n",
    ":::"
   ]
  },
  {
   "cell_type": "markdown",
   "metadata": {},
   "source": [
    "### Setting Heaters\n",
    "\n",
    "Both heaters can be set between 0 to 100% power with the functions `Q1 x` ou `Q2 x` (where x is between 0 and 100). The device firmware limits the heaters to a range of 0 to 100%. The current value of attributes may be accessed via\n",
    "    \n",
    "> Using the serial monitor, set source Q1 to 100% heat and observe the change in temperatures T1 and T2. What do you observe? **Stop all the heaters** with the `X` command.\n",
    " \n",
    "    \n",
    "**Note A:**  \n",
    "1. The led on the temperature control laboratory will turns from dim to bright when either heater is on.\n",
    "2. Closing the TCLab instance turns the heaters off.\n",
    "3. The power level of the two heaters may be different. Current versions of the firmware limit maximum power of first heater to 4 watts, and maximum power of the second heater to 2 watts.\n",
    "4. In addition to the constraints imposed by the firmware, the power supply may not be capable of providing all of the power needed to operate both heaters at 100%\n",
    "5. The values retrieved from these functions may be different than the values set due to the power limits enforced by the device firmware.\n",
    "\n",
    "**Note B:**\n",
    "Each command returns a result string.\n",
    "\n",
    "  A         software restart. Returns \"Start\".\n",
    "  LED float set LED to float for 10 sec. range 0 to 100. Returns actual float\n",
    "  P1 float  set pwm limit on heater 1, range 0 to 255. Default 200. Returns P1.\n",
    "  P2 float  set pwm limit on heater 2, range 0 to 255. Default 100. Returns P2.\n",
    "  Q1 float  set Heater 1, range 0 to 100. Returns value of Q1.\n",
    "  Q2 float  set Heater 2, range 0 to 100. Returns value of Q2.\n",
    "  Q1B float set Heater 1, range 0 to 100. Returns value of Q1 as a 32-bit float.\n",
    "  Q2B float set Heater 2, range 0 to 100. Returns value of Q2 as a 32-bit float.\n",
    "  R1        get value of Heater 1, range 0 to 100\n",
    "  R2        get value of Heater 2, range 0 to 100\n",
    "  SCAN      get values T1 T2 Q1 Q1 in line delimited values\n",
    "  T1        get Temperature T1. Returns value of T1 in °C.\n",
    "  T2        get Temperature T2. Returns value of T2 in °C.\n",
    "  T1B       get Temperature T1. Returns value of T1 in °C as a 32-bit float.\n",
    "  T2B       get Temperature T2. Returns value of T2 in °C as a 32-bit float.\n",
    "  VER       get firmware version string\n",
    "  X         stop, enter sleep mode. Returns \"Stop\"\n"
   ]
  },
  {
   "cell_type": "markdown",
   "metadata": {},
   "source": [
    "### Getting to grips with the Arduino code\n",
    "\n",
    "### Installing the tclab library\n",
    "\n",
    "The TCLab package is installed from a terminal window (MacOS) or command window (PC) with the command\n",
    "\n",
    "    pip install tclab\n",
    "\n",
    "Alternatively, the installation can be performed from within a Jupyter/Python notebook with the command\n",
    "\n",
    "    !pip install tclab\n",
    "\n",
    "There are occasional updates to the library. These can be installed by appending a ` --upgrade` to the above commands and demonstrated in the next cell."
   ]
  },
  {
   "cell_type": "code",
   "execution_count": 1,
   "metadata": {},
   "outputs": [
    {
     "name": "stdout",
     "output_type": "stream",
     "text": [
      "Collecting tclab\n",
      "  Downloading tclab-1.0.0-py2.py3-none-any.whl (20 kB)\n",
      "Collecting pyserial\n",
      "  Using cached pyserial-3.5-py2.py3-none-any.whl (90 kB)\n",
      "Installing collected packages: pyserial, tclab\n",
      "Successfully installed pyserial-3.5 tclab-1.0.0\n"
     ]
    }
   ],
   "source": [
    "!pip install tclab --upgrade"
   ]
  },
  {
   "cell_type": "markdown",
   "metadata": {},
   "source": [
    "#### Creating a TCLab instance\n",
    "    \n",
    "Once installed, the `tclab` package can be imported into Python and an instance created with the Python statements\n",
    "\n",
    "```\n",
    "    from tclab import TCLab\n",
    "    lab = TCLab()\n",
    "    # do something\n",
    "    lab.close()\n",
    "```\n",
    "\n",
    "TCLab() attempts to find a device connected to a serial port and return a connection. An error is generated if no device is found.  The connection must be closed when no longer in use.\n",
    "\n",
    "**Note:** Before python use of the TCLab card, close the Arduino IDE Serial monitor. "
   ]
  },
  {
   "cell_type": "code",
   "execution_count": 5,
   "metadata": {},
   "outputs": [
    {
     "name": "stdout",
     "output_type": "stream",
     "text": [
      "TCLab version 1.0.0\n",
      "Arduino Leonardo connected on port COM6 at 115200 baud.\n",
      "TCLab Firmware 2.0.1 Arduino Leonardo/Micro.\n",
      "TCLab disconnected successfully.\n"
     ]
    }
   ],
   "source": [
    "from tclab import TCLab\n",
    "\n",
    "lab = TCLab()\n",
    "lab.close()"
   ]
  },
  {
   "cell_type": "code",
   "execution_count": null,
   "metadata": {},
   "outputs": [],
   "source": []
  },
  {
   "cell_type": "code",
   "execution_count": null,
   "metadata": {},
   "outputs": [],
   "source": [
    ".ino  # Il existe d'autres parties semblables à ce texte\n",
    "\n",
    "void dispatchCommand(void) {\n",
    "  // Heaters control Q1 or Q2\n",
    "  if (cmd == \"Q1\") {\n",
    "    Q1 = max(0.0, min(100.0, pv));\n",
    "    iwrite = int(Q1 * 2.0); // 255 max\n",
    "    iwrite = max(0, min(255, iwrite));    \n",
    "    analogWrite(pinQ1, iwrite);\n",
    "    Serial.println(Q1);\n",
    "  }\n",
    "\n",
    "    # Il existe d'autres parties semblables concernant la mesure de temperature\n",
    "  else if (cmd == \"Q2\") {\n",
    "    Q2 = max(0.0, min(100.0, pv));\n",
    "    iwrite = int(Q2 * 1.0); // 255 max\n",
    "    iwrite = max(0, min(255, iwrite));\n",
    "    analogWrite(pinQ2, iwrite);\n",
    "    Serial.println(Q2);\n",
    "  } "
   ]
  },
  {
   "cell_type": "markdown",
   "metadata": {},
   "source": [
    "dispatchCommand: This function is called to process a command, and is designed to control radiators (Q1 and Q2).\n",
    " Q1 control: If the command received is \"Q1\", the code performs the following steps: Q1 is set equal to the current value of pv (a temperature value) limited between 0 and 100. The value of Q1 is then converted into a value suitable for the PWM (pulse width modulation) command used to control heating power. \n",
    "Here the value is multiplied by 2 and limited between 0 and 255 (the acceptable range for analogWrite which controls the PWM output). Finally, using the analogWrite function, the Q1 value is sent to the serial port. \n",
    "The rest of the code is similar for the Q2 command, the values are adjusted and we focus on the pinQ2 output.\n",
    "The dispatchCommand function analyzes a received command and controls heating Q1 or Q2 according to the command received and the value of pv"
   ]
  },
  {
   "cell_type": "code",
   "execution_count": null,
   "metadata": {},
   "outputs": [],
   "source": []
  },
  {
   "cell_type": "markdown",
   "metadata": {},
   "source": [
    "> **Note :** dans ce projet nous allons utilisé une ancienne version logicielle de TCLab notemment au niveau du code .ino à télécharger sur le microcontroleur. Il est disponible sur Github [ici](https://github.com/APMonitor/arduino/tree/master/0_Test_Device/Python/tclab) et présente l'avantage d'être plus simple et facile à modifier que la version la plus récente.\n"
   ]
  },
  {
   "cell_type": "markdown",
   "metadata": {},
   "source": [
    "## The Arduino board  \n",
    "An Arduino board is an open-source electronic prototyping platform. \n",
    "\n",
    "### The main Arduino components\n",
    "Microcontroller (MCU): This is the heart of the Arduino board, executing programs and controlling inputs/outputs. \n",
    "Input/Output (I/O) ports: These are the pins to which electronic components are connected. There are digital I/O pins (binary 1-0) and analog I/O pins (DC via 5V). \n",
    "Finally, we can add a reset button, LEDs and a USB port for communication with a computer (5V). Pins for connecting shields/other external components "
   ]
  },
  {
   "cell_type": "markdown",
   "metadata": {},
   "source": [
    "## summury & utility\n",
    "the Arduino board is a versatile prototyping platform, while the TCLab is a specific device for controlling, collecting data and analyzing results\n",
    "By combining the 2 boards, we can build a variety of models for developing controllers that can be adapted to the projects and applications we meet. For example, you can regulate, monitor and control the temperature of the TCLab as you wish. By setting threshold values, we can decide to heat up if necessary."
   ]
  },
  {
   "cell_type": "markdown",
   "metadata": {},
   "source": [
    "## Explication du code TCLab.py "
   ]
  },
  {
   "cell_type": "raw",
   "metadata": {},
   "source": [
    "import sys import time import numpy as np try:\n",
    "import serial except: \n",
    "import pip pip.main(['install','pyserial']) \n",
    "import serial from serial.tools import list_ports\n",
    "\n",
    "class TCLab(object):                                                  \n",
    "def __init__(self, port=None, baud=9600):                             \n",
    "    port = self.findPort()\n",
    "    print('Opening connection')\n",
    "    self.sp = serial.Serial(port=port, baudrate=baud, timeout=2)\n",
    "    self.sp.flushInput()\n",
    "    self.sp.flushOutput()\n",
    "    time.sleep(3)\n",
    "    print('TCLab connected via Arduino on port ' + port)"
   ]
  },
  {
   "cell_type": "markdown",
   "metadata": {},
   "source": [
    "**The necessary modules are imported: time, numpy...\n",
    "\n",
    "**A TCLab class is defined with a __init__ method, which initializes the serial connection with the Arduino, specifying the port and baud rate.\n",
    "\n",
    "**The findPort() method is used to find the serial port to which the Arduino is connected.\n",
    "\n",
    "**Once the serial connection has been established, self.sp.flushOutput() flushes the input and output buffers, then waits 3 seconds to allow the Arduino to initialize.\n",
    "\n",
    "**Once the connection is complete, you'll get the message \"TCLab connected via Arduino on port\""
   ]
  },
  {
   "cell_type": "raw",
   "metadata": {},
   "source": [
    " def findPort(self):\n",
    "        found = False\n",
    "        for port in list(list_ports.comports()):\n",
    "            # Arduino Uno\n",
    "            if port[2].startswith('USB VID:PID=2341:0043'):\n",
    "                port = port[0]\n",
    "                found = True\n",
    "            # Arduino HDuino\n",
    "            if port[2].startswith('USB VID:PID=1A86:7523'):\n",
    "                port = port[0]\n",
    "                found = True                \n",
    "            # Arduino Leonardo\n",
    "            if port[2].startswith('USB VID:PID=2341:8036'):\n",
    "                port = port[0]\n",
    "                found = True"
   ]
  },
  {
   "cell_type": "markdown",
   "metadata": {},
   "source": [
    "**def findPort(self) :\n",
    "        found = False : This variable is initialized to False. It will be used to indicate whether a port corresponding to the Arduino has been found.\n",
    "\n",
    "**The system has a list of serial ports with \"for port in list(list_ports.comports()) :\" it browses its list\n",
    "\n",
    "example_ **\"if port[2].startswith('USB VID:PID=2341:0043') :\" is a condition that searches for a specific port designation\n",
    "\n",
    "**port = port[0] : This assigns the first part of the port description to the port variable, which is usually the name of the port itself.\n",
    "found = True: This indicates that the port corresponding to the Arduino has been found.\n",
    "\n",
    "**The findPort method is designed to search for specific port descriptors corresponding to different types of Arduino, such as Arduino Uno, Arduino HDuino and Arduino Leonardo.  "
   ]
  },
  {
   "cell_type": "raw",
   "metadata": {},
   "source": [
    " if (not found):\n",
    "        print('Arduino COM port not found')\n",
    "        print('Please ensure that the USB cable is connected')\n",
    "        print('--- Printing Serial Ports ---')            \n",
    "        for port in list(serial.tools.list_ports.comports()):\n",
    "            print(port[0] + ' ' + port[1] + ' ' + port[2])\n",
    "        print('For Windows:')\n",
    "        print('  Open device manager, select \"Ports (COM & LPT)\"')\n",
    "        print('  Look for COM port of Arduino such as COM4')\n",
    "        print('For MacOS:')\n",
    "        print('  Open terminal and type: ls /dev/*.')\n",
    "        print('  Search for /dev/tty.usbmodem* or /dev/tty.usbserial*. The port number is *.')\n",
    "        print('For Linux')\n",
    "        print('  Open terminal and type: ls /dev/tty*')\n",
    "        print('  Search for /dev/ttyUSB* or /dev/ttyACM*. The port number is *.')\n",
    "        print('')\n",
    "        port = input('Input port: ')\n",
    "        # or hard-code it here\n",
    "        #port = 'COM3' # for Windows\n",
    "        #port = '/dev/tty.wchusbserial1410' # for MacOS\n",
    "    return port"
   ]
  },
  {
   "cell_type": "markdown",
   "metadata": {},
   "source": [
    "**This part is very similar to the previous one, adding specific instructions for finding the Arduino's COM port. \n",
    "Depending on your system: Windows, MacOS, Linux, by manually specifying "
   ]
  },
  {
   "cell_type": "markdown",
   "metadata": {},
   "source": [
    "## Parallele with TCLab.ino code"
   ]
  },
  {
   "cell_type": "markdown",
   "metadata": {},
   "source": [
    "### .ino program generalities \n",
    "The TCLab program we have consists of several parts. A part where variables and constants are shifted. A SETUP section used to initialize the program, i.e. configure inputs, start serial communication, etc. \n",
    "A LOOP section, executed after SETUP, containing all the lines needed to perform an action such as taking a temperature. It is in the LOOP that periodic and continuous actions are recorded, as it is read in a loop. \n",
    "Finally, the program contains comments, and library import is necessary at the start."
   ]
  },
  {
   "cell_type": "markdown",
   "metadata": {},
   "source": [
    "Common points and Differences :\n",
    "\n",
    " Both programs control radiators. The Python program uses Q1, Q2 and LED directly, whereas the Arduino program uses the dispatchCommand() function in response to 'Q1' and 'Q2' commands. Similarly, to read the temperatures (T1 and T2) we use dispatchCommand() with the arduino interface.\n",
    "\n",
    "Both programs use serial communication to exchange data with the hardware. Python uses the serial module for serial communication, while the Arduino uses the Serial.begin() and Serial.println() functions for serial communication.\n",
    "on python you can display information directly in the cell, while on the arduino you have to go through the serial monitor. \n",
    " \n",
    "Execution environment: The first program runs on the computer, while the second runs on an Arduino microcontroller.\n",
    "\n",
    "**In the first program, initialization is performed in the constructor of the TCLab class. In the second program, initialization is performed in a separate function called setup().\n",
    "\n",
    "In the Python program, the serial port is detected automatically using the serial.tools list_ports module, while in the Arduino program the port is specified manually.\n",
    "\n",
    "Each program has features specific to its platform. For example, the Python program includes methods for saving data in a text file, while the Arduino program includes functions for checking temperatures above a certain limit."
   ]
  },
  {
   "cell_type": "raw",
   "metadata": {},
   "source": [
    ".py\n",
    "\n",
    "def stop(self):\n",
    "    return self.read('X')\n",
    "\n",
    "def version(self):\n",
    "    return self.read('VER')\n",
    "\n",
    "@property\n",
    "def T1(self):\n",
    "    self._T1 = float(self.read('T1'))\n",
    "    return self._T1\n",
    "\n",
    "@property\n",
    "def T2(self):\n",
    "    self._T2 = float(self.read('T2'))\n",
    "    return self._T2\n",
    "    \n",
    "def LED(self,pwm):\n",
    "    pwm = max(0.0,min(100.0,pwm))/2.0\n",
    "    self.write('LED',pwm)\n",
    "    return pwm\n",
    "\n",
    "def Q1(self,pwm):\n",
    "    pwm = max(0.0,min(100.0,pwm)) \n",
    "    self.write('Q1',pwm)\n",
    "    return pwm\n",
    "    \n",
    "def Q2(self,pwm):\n",
    "    pwm = max(0.0,min(100.0,pwm)) \n",
    "    self.write('Q2',pwm)\n",
    "    return pwm"
   ]
  },
  {
   "cell_type": "markdown",
   "metadata": {},
   "source": [
    "stop(self): Sends a command to stop current operations on the device. version(self): Queries software version. \n",
    "@property def T1(self): Sends a command to read the temperature value, then converts this value into a float and stores it. \n",
    "@property def T2(self): Works similarly to T1\n",
    "def LED(self, pwm): Sets and sends a PWM (pulse width modulation) value to control an LED\n",
    "def Q1(self, pwm) and def Q2(self, pwm): Set and send PWM values to control 2 heaters Q1 and Q2. \n",
    "This code can be used to send commands to Arduino, read responses ... it's mainly used to control the radiators and monitor temperature."
   ]
  },
  {
   "cell_type": "code",
   "execution_count": null,
   "metadata": {},
   "outputs": [],
   "source": [
    ".ino\n",
    "\n",
    "// check temperature and shut-off heaters if above high limit\n",
    "void checkTemp(void) {\n",
    "    float mV = (float) analogRead(pinT1) * (3300.0/1024.0);\n",
    "    float degC = (mV - 500.0)/10.0;\n",
    "    if (degC >= 100.0) {\n",
    "      Q1 = 0.0;\n",
    "      Q2 = 0.0;\n",
    "      analogWrite(pinQ1, 0);\n",
    "      analogWrite(pinQ2, 0);\n",
    "      Serial.println(\"High Temp 1 (>100C): \");\n",
    "      Serial.println(degC);"
   ]
  },
  {
   "cell_type": "markdown",
   "metadata": {},
   "source": [
    "This checkTemp function monitors the temperature measured by a T1 sensor. This may be a safety measure to protect components. \n",
    "The function begins by measuring the voltage in millivolts (mV) using the analogRead() function. The measured voltage is then converted to °C using a formula (float) analogRead(pinT1) * (3300.0/1024. 0);which converts the voltage in millivolts into °C Assuming that the voltage of 500 mV corresponds to 0°C and that the temperature rises by 10°C for every 1 V increase in voltage, the formula used is (mV - 500.0) / 10.0. Temperature check: Next, the function checks whether the measured temperature is >= 100 °C If the temperature exceeds this threshold, the heaters (Q1 and Q2) are deactivated = 0.0. The heater control outputs (pinQ1 and pinQ2) are also set to 0 using analogWrite to stop the current. "
   ]
  },
  {
   "cell_type": "raw",
   "metadata": {},
   "source": [
    ".py\n",
    "\n",
    "# save txt file with data and set point\n",
    "# t = time\n",
    "# u1,u2 = heaters\n",
    "# y1,y2 = tempeatures\n",
    "# sp1,sp2 = setpoints\n",
    "def save_txt(self,t,u1,u2,y1,y2,sp1,sp2):\n",
    "    data = np.vstack((t,u1,u2,y1,y2,sp1,sp2))  # vertical stack\n",
    "    data = data.T                 # transpose data\n",
    "    top = 'Time (sec), Heater 1 (%), Heater 2 (%), ' \\\n",
    "      + 'Temperature 1 (degC), Temperature 2 (degC), ' \\\n",
    "      + 'Set Point 1 (degC), Set Point 2 (degC)' \n",
    "    np.savetxt('data.txt',data,delimiter=',',header=top,comments='')"
   ]
  },
  {
   "cell_type": "markdown",
   "metadata": {},
   "source": [
    "save_txt(self, t, u1, u2, y1, y2, sp1, sp2) : This method takes into account different data elements t: time u1 and u2: heating values y1 and y2: temperature values, sp1 and sp2: setpoint values It uses the NumPy library to manipulate data efficiently. Data are stacked vertically using np.vstack((t, u1, u2, y1, y2, sp1, sp2)) to form a data matrix, then transposed (data.T) to make them compatible with the np.savetxt() function. A top= string is defined to represent the column headers in the text file. Finally, the np.savetxt() function is used to save the data in a text file named \"data.txt\".\n",
    " To summarize this method saves the data supplied as parameters in a text file with the appropriate headers for each column, facilitating data analysis."
   ]
  },
  {
   "cell_type": "raw",
   "metadata": {},
   "source": [
    ".py\n",
    "\n",
    "rdef read(self,cmd):\n",
    "    cmd_str = self.build_cmd_str(cmd,'')\n",
    "    try:\n",
    "        self.sp.write(cmd_str.encode())\n",
    "        self.sp.flush()\n",
    "    except Exception:\n",
    "        return None\n",
    "    return self.sp.readline().decode('UTF-8').replace(\"\\r\\n\", \"\")\n",
    "\n",
    "def write(self,cmd,pwm):       \n",
    "    cmd_str = self.build_cmd_str(cmd,(pwm,))\n",
    "    try:\n",
    "        self.sp.write(cmd_str.encode())\n",
    "        self.sp.flush()\n",
    "    except:\n",
    "        return None\n",
    "    return self.sp.readline().decode('UTF-8').replace(\"\\r\\n\", \"\")\n",
    "\n",
    "def build_cmd_str(self,cmd, args=None):\n",
    "    \"\"\"\n",
    "    Build a command string that can be sent to the arduino.\n",
    "\n",
    "    Input:\n",
    "        cmd (str): the command to send to the arduino, must not\n",
    "            contain a % character\n",
    "        args (iterable): the arguments to send to the command\n",
    "    \"\"\"\n",
    "    if args:\n",
    "        args = ' '.join(map(str, args))\n",
    "    else:\n",
    "        args = ''\n",
    "    return \"{cmd} {args}\\n\".format(cmd=cmd, args=args)\n",
    "    \n",
    "def close(self):\n",
    "    try:\n",
    "        self.sp.close()\n",
    "        print('Arduino disconnected successfully')\n",
    "    except:\n",
    "        print('Problems disconnecting from Arduino.')\n",
    "        print('Please unplug and reconnect Arduino.')\n",
    "    return True"
   ]
  },
  {
   "cell_type": "markdown",
   "metadata": {},
   "source": [
    "read(self, cmd) sends a command to the Arduino to read data, first constructing a command string, then attempting to write and read on the serial port, returning the decoded response. \n",
    "write(self, cmd, pwm) sends a command to the Arduino to write data, building a command string and sending it to the serial port, then returning the decoded response. \n",
    "build_cmd_str(self, cmd, args=None) builds a command string with possible arguments for the Arduino, and returns it. \n",
    "close(self) closes the connection with the Arduino by attempting to close the serial port and returning True. \n",
    "The aim is to establish and manage the connection, to send commands with or without arguments, and to read responses."
   ]
  },
  {
   "cell_type": "markdown",
   "metadata": {},
   "source": [
    "## Objectif \n",
    "\n",
    "For example, we're going to carry out tests/experiments to study the heat exchanges that will take place between the batteries and the envelope of a sat cube. \n",
    "We're working on a sat cube measuring 10x10x10 cm and weighing 1.3 Kg. We will assimilate certain satellite components to the 2 radiators. The batteries will be considered as the 1st radiator and the envelope as the 2nd. \n",
    "Our aim is to regulate the temperature so that the batteries work optimally, because they are constrained by temperature. For efficient operation, the temperature range must be maintained between 0 and 5 °C.To do this, we're going to study different situations: the case where the batteries are the only heat emitters, the case where they are inactive but the solar flux causes them to heat up, and finally the case where the batteries are used in addition to solar exposure (after 200s)."
   ]
  },
  {
   "cell_type": "markdown",
   "metadata": {},
   "source": [
    "## Tests protocol  \n",
    "** Radiators Q1 and Q2 don't have the same wattage/power, so test curves 1 and 2 will be different."
   ]
  },
  {
   "cell_type": "markdown",
   "metadata": {},
   "source": [
    " ### Test_1\n",
    "-Taking temperatures in 1 the battery and in 2 the envelope\n",
    "-Heater Q1 heats up for 10 min\n",
    "-Plot the following graph showing temperature (in °C) vs. time (in seconds). For T1 and T2 \n",
    "-The graph also shows the percentage of Q1.\n",
    "-Switch off Q1 after 10 min.\n",
    "-Take final temperature in 1"
   ]
  },
  {
   "cell_type": "markdown",
   "metadata": {},
   "source": [
    " ### Test_2\n",
    "-Taking temperatures in 1 (the battery) and in 2 the envelope\n",
    "-Heater Q2 heats up for 10 min\n",
    "-Plot the following graph showing temperature (in °C) vs. time (in seconds). For T1 and T2 \n",
    "-The graph also shows the percentage of Q2.\n",
    "-Switch off Q2 after 10 min.\n",
    "-Take final temperature in 1"
   ]
  },
  {
   "cell_type": "markdown",
   "metadata": {},
   "source": [
    " ### Test_3\n",
    "-Taking temperatures in 1 (the battery) and in 2 the envelope\n",
    "-Heater Q1 heats up for 10 min\n",
    "-Heater Q2 starts heating 200 seconds after Q1 and switches off at the same time as Q1 after 10 mins.\n",
    "-Plot the following graph showing temperature (in °C) vs. time (in seconds). For T1 and T2 \n",
    "-The graph also shows the percentage of Q2.\n",
    "-Switch off Q1 & Q2.\n",
    "-Take final temperature in 1"
   ]
  },
  {
   "cell_type": "code",
   "execution_count": null,
   "metadata": {},
   "outputs": [],
   "source": [
    "#ESSAI 1 F\n",
    "\n",
    "from tclab import TCLab, clock  # we import useful libraries, each time we call \"import\n",
    "                                                \n",
    "lab = TCLab()              #TCLab enables initialization\n",
    "lab.LED(100)             #clock is used to define the duration of a loop \n",
    "\n",
    "import time\n",
    "\n",
    "print(\"\\nStarting Temperature 1: %0.2f °C\"%(lab.T1))\n",
    "print(\"Starting Temperature 2: %0.2f °C\"%(lab.T2))\n",
    "\n",
    "\n",
    "import matplotlib.pyplot as plt #allows you to enter data that will be used to draw curves\n",
    "import numpy as np     #Allows you to perform calculations and represent data (Tabeleau,...).\n",
    "\n",
    "time = []\n",
    "Q1 = []                # These are the lists left empty by \"plt\".\n",
    "T1 = []                # These are the lists left empty by \"plt\".\n",
    "T2 = []\n",
    "\n",
    "print(\"\\nTurn Heater Q1 On\")\n",
    "lab.Q1(50)\n",
    "\n",
    "tfinal = 600        # duration of test \n",
    "tstep = 1           # The measurement step, which also corresponds to the graph resolution\n",
    "\n",
    "for t in clock(tfinal, tstep): # the clock loop is defined by these 2 time instructions\n",
    "    print('+', end='') # For each measure/step the monitor will add the \"+\" character on the same line. \n",
    "    time = time + [t]         # We now fill the lists we left empty \n",
    "    T1 = T1 + [lab.T1]\n",
    "    T2 = T2 + [lab.T2]\n",
    "    Q1 = Q1 + [50]\n",
    "\n",
    "    \n",
    "import pandas as pd   # allows you to analyze and manipulate data for graph plotting\n",
    "# Dataframe creation from lists where each column corresponds to one of these lists\n",
    "df = pd.DataFrame([time, T1, T2, Q1]).T \n",
    "df.columns = ['Time', 'T1', 'T2', 'Q1'] \n",
    "df = df.set_index('Time') #to index time in the dataframe (trame de données)\n",
    "\n",
    "# Dataframe display\n",
    "df.plot(grid=True) #to create grids that make reading easier \n",
    "\n",
    "# Save as an excel or csv file\n",
    "df.to_csv('Step_Test_Data_testing1.csv') \n",
    "print(\"\\nTurn Heaters Off\")\n",
    "print(\"\\nFinal Temperature 1: %0.2f °C\"%(lab.T1))\n",
    "lab.Q1(0)"
   ]
  },
  {
   "cell_type": "code",
   "execution_count": null,
   "metadata": {},
   "outputs": [],
   "source": [
    "#ESSAI 1 \n",
    "\n",
    "from tclab import TCLab, clock\n",
    "#from tclab import TCLab\n",
    "\n",
    "lab = TCLab()\n",
    "lab.LED(100)\n",
    "\n",
    "import time\n",
    "\n",
    "print(\"\\nStarting Temperature 1: %0.2f °C\"%(lab.T1))\n",
    "print(\"Starting Temperature 2: %0.2f °C\"%(lab.T2))"
   ]
  },
  {
   "cell_type": "code",
   "execution_count": null,
   "metadata": {},
   "outputs": [],
   "source": [
    "#ESSAI 1 F\n",
    "\n",
    "import matplotlib.pyplot as plt\n",
    "import numpy as np\n",
    "\n",
    "time = []\n",
    "Q1 = []\n",
    "T1 = []\n",
    "T2 = []\n",
    "\n",
    "print(\"\\nTurn Heater Q1 On\")\n",
    "lab.Q1(50)"
   ]
  },
  {
   "cell_type": "code",
   "execution_count": null,
   "metadata": {},
   "outputs": [],
   "source": [
    "#ESSAI 1 F\n",
    "\n",
    "tfinal = 30\n",
    "tstep = 1\n",
    "\n",
    "for t in clock(tfinal, tstep):\n",
    "    print('.', end='')\n",
    "    time = time + [t]\n",
    "    T1 = T1 + [lab.T1]\n",
    "    T2 = T2 + [lab.T2]\n",
    "    Q1 = Q1 + [50]"
   ]
  },
  {
   "cell_type": "code",
   "execution_count": null,
   "metadata": {},
   "outputs": [],
   "source": [
    "#ESSAI 1 F\n",
    "    \n",
    "import pandas as pd\n",
    "# Creation du dataframe\n",
    "df = pd.DataFrame([time, T1, T2, Q1]).T\n",
    "df.columns = ['Time', 'T1', 'T2', 'Q1']\n",
    "df = df.set_index('Time')\n",
    "\n",
    "# Affichage du dataframe\n",
    "df.plot(grid=True)\n",
    "\n",
    "# Enregistrement sous la forme d'un ficher excel ou csv\n",
    "df.to_csv('Step_Test_Data.csv')\n",
    "print(\"\\nTurn Heaters Off\")\n",
    "lab.Q1(0)"
   ]
  },
  {
   "cell_type": "code",
   "execution_count": null,
   "metadata": {},
   "outputs": [],
   "source": []
  },
  {
   "cell_type": "code",
   "execution_count": null,
   "metadata": {},
   "outputs": [],
   "source": [
    "#ESSAI 2 F\n",
    "\n",
    "from tclab import TCLab, clock  # we import useful libraries, each time we call \"import\n",
    "                                                \n",
    "lab = TCLab()              #TCLab enables initialization\n",
    "lab.LED(100)             #clock is used to define the duration of a loop \n",
    "\n",
    "import time\n",
    "\n",
    "print(\"\\nStarting Temperature 1: %0.2f °C\"%(lab.T1))\n",
    "print(\"Starting Temperature 2: %0.2f °C\"%(lab.T2))\n",
    "\n",
    "\n",
    "import matplotlib.pyplot as plt #allows you to enter data that will be used to draw curves\n",
    "import numpy as np     #Allows you to perform calculations and represent data (Tabeleau,...).\n",
    "\n",
    "time = []\n",
    "Q2 = []                # These are the lists left empty by \"plt\".\n",
    "T1 = []                # These are the lists left empty by \"plt\".\n",
    "T2 = []\n",
    "\n",
    "print(\"\\nTurn Heater Q1 On\")\n",
    "lab.Q2(50)\n",
    "\n",
    "tfinal = 600        # duration of test \n",
    "tstep = 1           # The measurement step, which also corresponds to the graph resolution\n",
    "\n",
    "for t in clock(tfinal, tstep): # the clock loop is defined by these 2 time instructions\n",
    "    print('+', end='') # For each measure/step the monitor will add the \"+\" character on the same line. \n",
    "    time = time + [t]         # We now fill the lists we left empty \n",
    "    T1 = T1 + [lab.T1]\n",
    "    T2 = T2 + [lab.T2]\n",
    "    Q2 = Q2 + [50]\n",
    "\n",
    "    \n",
    "import pandas as pd   # allows you to analyze and manipulate data for graph plotting\n",
    "# Dataframe creation from lists where each column corresponds to one of these lists\n",
    "df = pd.DataFrame([time, T1, T2, Q2]).T \n",
    "df.columns = ['Time', 'T1', 'T2', 'Q2'] \n",
    "df = df.set_index('Time') #to index time in the dataframe (trame de données)\n",
    "\n",
    "# Dataframe display\n",
    "df.plot(grid=True) #to create grids that make reading easier \n",
    "\n",
    "# Save as an excel or csv file\n",
    "df.to_csv('Step_Test_Data_testing2.csv') \n",
    "print(\"\\nTurn Heater Off\")\n",
    "print(\"\\nFinal Temperature 1: %0.2f °C\"%(lab.T1))\n",
    "lab.Q2(0)"
   ]
  },
  {
   "cell_type": "code",
   "execution_count": null,
   "metadata": {},
   "outputs": [],
   "source": []
  },
  {
   "cell_type": "code",
   "execution_count": 1,
   "metadata": {},
   "outputs": [
    {
     "name": "stdout",
     "output_type": "stream",
     "text": [
      "TCLab version 1.0.0\n",
      "Arduino Leonardo connected on port COM3 at 115200 baud.\n",
      "TCLab Firmware 2.0.1 Arduino Leonardo/Micro.\n",
      "\n",
      "Starting Temperature 1: 23.38 °C\n",
      "Starting Temperature 2: 22.93 °C\n",
      "\n",
      "Turn Heaters Q1 On\n",
      "\n",
      "Turn Heaters Q2 On after 200 seconds\n",
      ".........................................................................................................................................................................................................................................................................................................................................................................................................................................................................................................................................................................................................................\n",
      "Turn Heaters Off\n",
      "\n",
      "Final Temperature 1: 23.48 °C\n"
     ]
    },
    {
     "data": {
      "image/png": "[encoded data removed]",
      "text/plain": [
       "<Figure size 640x480 with 1 Axes>"
      ]
     },
     "metadata": {},
     "output_type": "display_data"
    }
   ],
   "source": [
    "#ESSAI 3 F\n",
    "\n",
    "from tclab import TCLab, clock  # we import useful libraries, each time we call \"import\n",
    "                  #clock is used to define the duration of a loop \n",
    "lab = TCLab()     #TCLab enables initialization\n",
    "lab.LED(100)\n",
    "\n",
    "\n",
    "import time\n",
    "import pandas as pd\n",
    "\n",
    "print(\"\\nStarting Temperature 1: %0.2f °C\"%(lab.T1))\n",
    "print(\"Starting Temperature 2: %0.2f °C\"%(lab.T2))\n",
    "\n",
    "\n",
    "import matplotlib.pyplot as plt   #allows you to enter data that will be used to draw curves\n",
    "import numpy as np      #Allows you to perform calculations and represent data.\n",
    "\n",
    "time = []  \n",
    "Q1 = []\n",
    "Q2 = []         # __= [] These are the lists left empty by \"plt\"\n",
    "T1 = []\n",
    "T2 = []\n",
    "\n",
    "print(\"\\nTurn Heaters Q1 On\")\n",
    "print(\"\\nTurn Heaters Q2 On after 200 seconds\")\n",
    "lab.Q1(50)\n",
    "\n",
    "tfinal = 600   # duration of test \n",
    "tstep = 1      # The measurement step, which also corresponds to the graph resolution\n",
    "\n",
    "for t in clock(tfinal, tstep): # the clock loop is defined by these 2 time instructions\n",
    "    print('.', end='') # For each measure/step the monitor will add the \".\" character on the same line. \n",
    "    time = time + [t]  # We now fill the lists we left empty \n",
    "    T1 = T1 + [lab.T1]\n",
    "    T2 = T2 + [lab.T2]\n",
    "    Q1 = Q1 + [50]\n",
    "    if t >= 200:       # Time condition for engage Q2 \n",
    "        lab.Q2(50)\n",
    "        Q2 = Q2 + [50]  \n",
    "    else:              # We now fill the lists we left empty, \"else:\" because Q2 can be in 2 states\n",
    "        Q2 = Q2 + [0]\n",
    "    \n",
    "\n",
    "print(\"\\nTurn Heaters Off\")\n",
    "lab.Q1(0)\n",
    "lab.Q2(0)\n",
    "lab.LED(0)\n",
    "\n",
    "import pandas as pd # allows you to analyze and manipulate data for graph plotting\n",
    "# Dataframe creation from lists where each column corresponds to one of these lists\n",
    "df = pd.DataFrame([time, T1, T2, Q1, Q2]).T\n",
    "df.columns = ['Time', 'T1', 'T2', 'Q1', 'Q2']\n",
    "df = df.set_index('Time') #to index time in the dataframe (trame de données)\n",
    "\n",
    "# Dataframe display\n",
    "df.plot(grid=True) #to create grids that make reading easier\n",
    "\n",
    "# Save as an excel or csv file\n",
    "df.to_csv('Step_Test_Data_testing3.csv')\n",
    "print(\"\\nFinal Temperature 1: %0.2f °C\"%(lab.T1))"
   ]
  },
  {
   "cell_type": "code",
   "execution_count": null,
   "metadata": {},
   "outputs": [],
   "source": [
    "#ESSAI 3 F\n",
    "\n",
    "from tclab import TCLab, clock\n",
    "#from tclab import TCLab\n",
    "\n",
    "lab = TCLab()\n",
    "lab.LED(100)\n",
    "#lab.close()"
   ]
  },
  {
   "cell_type": "code",
   "execution_count": null,
   "metadata": {},
   "outputs": [],
   "source": [
    "#ESSAI 3 F\n",
    "\n",
    "import time\n",
    "import pandas as pd\n",
    "\n",
    "print(\"\\nStarting Temperature 1: %0.2f °C\"%(lab.T1))\n",
    "print(\"Starting Temperature 2: %0.2f °C\"%(lab.T2))\n",
    "\n",
    "\n",
    "import matplotlib.pyplot as plt\n",
    "import numpy as np\n",
    "\n",
    "time = []\n",
    "Q1 = []\n",
    "Q2 = []\n",
    "T1 = []\n",
    "T2 = []"
   ]
  },
  {
   "cell_type": "code",
   "execution_count": null,
   "metadata": {},
   "outputs": [],
   "source": [
    "#ESSAI 3 F\n",
    "\n",
    "print(\"\\nTurn Heaters Q1 On\")\n",
    "print(\"\\nTurn Heaters Q2 On after 200 seconds\")\n",
    "lab.Q1(50)\n",
    "\n",
    "tfinal = 600\n",
    "tstep = 1\n",
    "\n",
    "for t in clock(tfinal, tstep):\n",
    "    print('.', end='')\n",
    "    time = time + [t]\n",
    "    T1 = T1 + [lab.T1]\n",
    "    T2 = T2 + [lab.T2]\n",
    "    Q1 = Q1 + [50]\n",
    "    if t >= 200:\n",
    "        lab.Q2(50)\n",
    "        Q2 = Q2 + [50]\n",
    "    else:\n",
    "        Q2 = Q2 + [0]\n",
    "    \n",
    "\n",
    "print(\"\\nTurn Heaters Off\")\n",
    "lab.Q1(0)\n",
    "lab.Q2(0)\n",
    "lab.LED(0)"
   ]
  },
  {
   "cell_type": "code",
   "execution_count": null,
   "metadata": {},
   "outputs": [],
   "source": [
    "#ESSAI 3 F\n",
    "\n",
    "import pandas as pd\n",
    "# Creation du dataframe\n",
    "df = pd.DataFrame([time, T1, T2, Q1, Q2]).T\n",
    "df.columns = ['Time', 'T1', 'T2', 'Q1', 'Q2']\n",
    "df = df.set_index('Time')\n",
    "\n",
    "# Affichage du dataframe\n",
    "df.plot(grid=True)\n",
    "\n",
    "# Enregistrement sous la forme d'un ficher excel ou csv\n",
    "df.to_csv('Step_Test_Data.csv')\n",
    "\n",
    "print(\"\\nFinal Temperature 1: %0.2f °C\"%(lab.T1))"
   ]
  },
  {
   "cell_type": "markdown",
   "metadata": {},
   "source": [
    "*La carte Arduino et le shield TCLab peut être acheté chez [Amazon](https://www.amazon.com/TCLab-Temperature-Control-Lab/dp/B07GMFWMRY).* "
   ]
  },
  {
   "cell_type": "raw",
   "metadata": {},
   "source": [
    "# The Temperature Control Laboratory\n",
    "\n",
    "The [Temperature Control Laboratory](http://apmonitor.com/pdc/index.php/Main/ArduinoTemperatureControl) provides a hands-on learning environment for traditional courses in process control. The Arduino-based device consists of a two-input, two-output system of heaters and sensors. [TCLab](https://github.com/jckantor/TCLab) is a Python library providing the software tools to create and test control algorithms ranging from simple step testing to sophisticated multivarible predictive control."
   ]
  },
  {
   "cell_type": "code",
   "execution_count": null,
   "metadata": {},
   "outputs": [],
   "source": []
  },
  {
   "cell_type": "markdown",
   "metadata": {},
   "source": [
    "## Illustration "
   ]
  },
  {
   "cell_type": "code",
   "execution_count": null,
   "metadata": {},
   "outputs": [],
   "source": [
    "import sys\n",
    "import time\n",
    "import numpy as np\n",
    "try:\n",
    "    import serial\n",
    "except:\n",
    "    import pip\n",
    "    pip.main(['install','pyserial'])\n",
    "    import serial\n",
    "from serial.tools import list_ports\n",
    "        \n",
    "class TCLab(object):\n",
    "\n",
    "    def __init__(self, port=None, baud=9600):\n",
    "        port = self.findPort()\n",
    "        print('Opening connection')\n",
    "        self.sp = serial.Serial(port=port, baudrate=baud, timeout=2)\n",
    "        self.sp.flushInput()\n",
    "        self.sp.flushOutput()\n",
    "        time.sleep(3)\n",
    "        print('TCLab connected via Arduino on port ' + port)\n",
    "        \n",
    "    def findPort(self):\n",
    "        found = False\n",
    "        for port in list(list_ports.comports()):\n",
    "            # Arduino Uno\n",
    "            if port[2].startswith('USB VID:PID=2341:0043'):\n",
    "                port = port[0]\n",
    "                found = True\n",
    "            # Arduino HDuino\n",
    "            if port[2].startswith('USB VID:PID=1A86:7523'):\n",
    "                port = port[0]\n",
    "                found = True                \n",
    "            # Arduino Leonardo\n",
    "            if port[2].startswith('USB VID:PID=2341:8036'):\n",
    "                port = port[0]\n",
    "                found = True\n",
    "        if (not found):\n",
    "            print('Arduino COM port not found')\n",
    "            print('Please ensure that the USB cable is connected')\n",
    "            print('--- Printing Serial Ports ---')            \n",
    "            for port in list(serial.tools.list_ports.comports()):\n",
    "                print(port[0] + ' ' + port[1] + ' ' + port[2])\n",
    "            print('For Windows:')\n",
    "            print('  Open device manager, select \"Ports (COM & LPT)\"')\n",
    "            print('  Look for COM port of Arduino such as COM4')\n",
    "            print('For MacOS:')\n",
    "            print('  Open terminal and type: ls /dev/*.')\n",
    "            print('  Search for /dev/tty.usbmodem* or /dev/tty.usbserial*. The port number is *.')\n",
    "            print('For Linux')\n",
    "            print('  Open terminal and type: ls /dev/tty*')\n",
    "            print('  Search for /dev/ttyUSB* or /dev/ttyACM*. The port number is *.')\n",
    "            print('')\n",
    "            port = input('Input port: ')\n",
    "            # or hard-code it here\n",
    "            #port = 'COM3' # for Windows\n",
    "            #port = '/dev/tty.wchusbserial1410' # for MacOS\n",
    "        return port\n",
    "    \n",
    "    def stop(self):\n",
    "        return self.read('X')\n",
    "    \n",
    "    def version(self):\n",
    "        return self.read('VER')\n",
    "    \n",
    "    @property\n",
    "    def T1(self):\n",
    "        self._T1 = float(self.read('T1'))\n",
    "        return self._T1\n",
    "    \n",
    "    @property\n",
    "    def T2(self):\n",
    "        self._T2 = float(self.read('T2'))\n",
    "        return self._T2\n",
    "        \n",
    "    def LED(self,pwm):\n",
    "        pwm = max(0.0,min(100.0,pwm))/2.0\n",
    "        self.write('LED',pwm)\n",
    "        return pwm\n",
    "\n",
    "    def Q1(self,pwm):\n",
    "        pwm = max(0.0,min(100.0,pwm)) \n",
    "        self.write('Q1',pwm)\n",
    "        return pwm\n",
    "        \n",
    "    def Q2(self,pwm):\n",
    "        pwm = max(0.0,min(100.0,pwm)) \n",
    "        self.write('Q2',pwm)\n",
    "        return pwm\n",
    "\n",
    "    # save txt file with data and set point\n",
    "    # t = time\n",
    "    # u1,u2 = heaters\n",
    "    # y1,y2 = tempeatures\n",
    "    # sp1,sp2 = setpoints\n",
    "    def save_txt(self,t,u1,u2,y1,y2,sp1,sp2):\n",
    "        data = np.vstack((t,u1,u2,y1,y2,sp1,sp2))  # vertical stack\n",
    "        data = data.T                 # transpose data\n",
    "        top = 'Time (sec), Heater 1 (%), Heater 2 (%), ' \\\n",
    "          + 'Temperature 1 (degC), Temperature 2 (degC), ' \\\n",
    "          + 'Set Point 1 (degC), Set Point 2 (degC)' \n",
    "        np.savetxt('data.txt',data,delimiter=',',header=top,comments='')\n",
    "\n",
    "    def read(self,cmd):\n",
    "        cmd_str = self.build_cmd_str(cmd,'')\n",
    "        try:\n",
    "            self.sp.write(cmd_str.encode())\n",
    "            self.sp.flush()\n",
    "        except Exception:\n",
    "            return None\n",
    "        return self.sp.readline().decode('UTF-8').replace(\"\\r\\n\", \"\")\n",
    "    \n",
    "    def write(self,cmd,pwm):       \n",
    "        cmd_str = self.build_cmd_str(cmd,(pwm,))\n",
    "        try:\n",
    "            self.sp.write(cmd_str.encode())\n",
    "            self.sp.flush()\n",
    "        except:\n",
    "            return None\n",
    "        return self.sp.readline().decode('UTF-8').replace(\"\\r\\n\", \"\")\n",
    "    \n",
    "    def build_cmd_str(self,cmd, args=None):\n",
    "        \"\"\"\n",
    "        Build a command string that can be sent to the arduino.\n",
    "    \n",
    "        Input:\n",
    "            cmd (str): the command to send to the arduino, must not\n",
    "                contain a % character\n",
    "            args (iterable): the arguments to send to the command\n",
    "        \"\"\"\n",
    "        if args:\n",
    "            args = ' '.join(map(str, args))\n",
    "        else:\n",
    "            args = ''\n",
    "        return \"{cmd} {args}\\n\".format(cmd=cmd, args=args)\n",
    "        \n",
    "    def close(self):\n",
    "        try:\n",
    "            self.sp.close()\n",
    "            print('Arduino disconnected successfully')\n",
    "        except:\n",
    "            print('Problems disconnecting from Arduino.')\n",
    "            print('Please unplug and reconnect Arduino.')\n",
    "        return True\n",
    "    "
   ]
  },
  {
   "cell_type": "markdown",
   "metadata": {},
   "source": [
    "## References \n",
    "\n",
    "[Kantor, 2021] Kantor, JC., Chemical Process Control class materials [Link](https://jckantor.github.io/cbe30338-2021/) [github](https://github.com/jckantor/cbe30338-2021)"
   ]
  },
  {
   "cell_type": "code",
   "execution_count": null,
   "metadata": {},
   "outputs": [],
   "source": []
  }
 ],
 "metadata": {
  "kernelspec": {
   "display_name": "Python 3 (ipykernel)",
   "language": "python",
   "name": "python3"
  },
  "language_info": {
   "codemirror_mode": {
    "name": "ipython",
    "version": 3
   },
   "file_extension": ".py",
   "mimetype": "text/x-python",
   "name": "python",
   "nbconvert_exporter": "python",
   "pygments_lexer": "ipython3",
   "version": "3.9.13"
  }
 },
 "nbformat": 4,
 "nbformat_minor": 4
}
