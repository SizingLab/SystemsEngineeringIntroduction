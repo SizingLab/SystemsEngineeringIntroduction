{
 "cells": [
  {
   "cell_type": "markdown",
   "metadata": {},
   "source": [
    "# Temperature Control Lab, step identification\n",
    "\n",
    "The [temperature control lab](https://apmonitor.com/pdc/index.php/Main/ArduinoTemperatureControl) or TCLab is a laboratory device used for thermal projects. It can be used to simulate and develop thermal control and regulation systems. The TCLab features a feedback control application with an Arduino, an LED, 2 heaters and 2 temperature sensors:  \n",
    "- one heater will represent the TCS heating elements used for temperature control. \n",
    "- another will represent external disturbances such as solar radiation in the Cubesat application.\n",
    "\n",
    "During this tutorial we will start using this card and carry out temperature measurements on control steps. The aim is to identify a dynamic model that can be used to synthesise the control. In this second part of the tutorial, we'll identify a transfer function to represent the step response previously measured.\n",
    "\n",
    "> Follow the steps below in Colab, using the measurement file provided. When revising, you can repeat these steps with your measurements in Anaconda."
   ]
  },
  {
   "cell_type": "markdown",
   "metadata": {},
   "source": [
    "## Fitting the Step Change Data to a First Order Model\n",
    "\n",
    "For a first-order linear system initially at steady-state, the response to a step input change at $t=0$ is given by\n",
    "\n",
    "$$y(t) = y(0) + K(1 - e^{-t/\\tau}) \\Delta U$$\n",
    "\n",
    "where $\\Delta U$ is the magnitude of the step change. Converting to notation used for the temperature control lab where $y(t) = T_1(t)$ and $\\Delta U = \\Delta Q_1$\n",
    "\n",
    "$$T_1(t) = T_1(0) + K_1(1 - e^{-t/\\tau_1}) \\Delta Q_1$$\n",
    "\n",
    "> **Questions:** \n",
    ">- Recall the differential equation and the transfer function of a 1st order SISO (Single Input Single Output) dynamic system. Use notations compatible with the description of the step response above. \n",
    "> - Identify the steady state gain $K_1$ and time constant $\\tau_1$\n",
    ">- Compare the 1st order response with the measured data. Conclusion."
   ]
  },
  {
   "cell_type": "code",
   "execution_count": 3,
   "metadata": {},
   "outputs": [
    {
     "name": "stdout",
     "output_type": "stream",
     "text": [
      "Couldn't find program: 'echo'\n"
     ]
    }
   ],
   "source": [
    "# With this line : no print \n",
    "%%script echo skipping\n",
    "\n",
    "import pandas as pd\n",
    "\n",
    "# Read data\n",
    "df = pd.read_csv('https://github.com/SizingLab/SystemsEngineeringIntroduction/blob/main/notebook/Step_Test_Data.csv') # provided data \n",
    "# df = pd.read_csv('./data/Step_Test_Data.csv') # my data \n",
    "\n",
    "df = df.set_index('Time')\n",
    "\n",
    "T1 = df['T1']\n",
    "Q1 = df['Q1']\n",
    "\n",
    "# Static gain K1\n",
    "# complete\n",
    "\n",
    "# Time constant tau1\n",
    "# complete\n",
    "\n",
    "\n",
    "import matplotlib.pyplot as plt\n",
    "import numpy as np\n",
    "\n",
    "exp = np.exp\n",
    "t = df.index\n",
    "\n",
    "T1_est = T1.min() + K1*(1 - exp(-t/tau1))*DeltaQ1\n",
    "\n",
    "plt.figure(figsize=(10,5))\n",
    "ax = plt.subplot(2,1,1)\n",
    "df['T1'].plot(ax = ax, grid=True)\n",
    "plt.plot(t,T1_est)\n",
    "plt.title('Step Test Data Compared to Model')\n",
    "\n",
    "plt.subplot(2,1,2)\n",
    "plt.plot(t,T1_est-T1)\n",
    "plt.grid()\n",
    "plt.title('Residual Error')\n",
    "plt.show()"
   ]
  },
  {
   "cell_type": "markdown",
   "metadata": {},
   "source": [
    "## Nodal thermal model\n",
    "\n",
    "We will show here that a physical model made up of thermal resistances and capacities can explain the dynamic responses observed and the transfer functions identified previously.\n",
    "\n",
    "> **Questions:** \n",
    ">- Recall the characteristic equations for thermal resistances and capacities relating temperatures $T_i$ and heat flows (power) $P$.   \n",
    ">- Select the thermal model to represent the temperature rise if we assume that the heating element and the temperature sensor are at the same temperature. \n",
    ">- Determine the values of the thermal resistance $R_{th}$ and the thermal capacity $C_{th}$ from the 1st order transfer function identified above. Assume that the maximum power of the heating element (4W) and the outside temperature are known.    \n",
    "    \n",
    "![Modèle thermique 1 corps](figures/Order1.png)"
   ]
  },
  {
   "cell_type": "code",
   "execution_count": null,
   "metadata": {},
   "outputs": [],
   "source": [
    "# With this line : no print \n",
    "%%script echo skipping\n",
    "\n",
    "%matplotlib inline\n",
    "import numpy as np                  # basic package for numerical calculations\n",
    "import matplotlib.pyplot as plt     # plotting package\n",
    "from scipy.signal import step       # Import from scipy of the step response\n",
    "\n",
    "# parameter values and units\n",
    "# complete\n",
    "\n",
    "# First order step response\n",
    "num = [Rth]\n",
    "den = [Rth*Cth, 1]\n",
    "t, y = step(system=(num, den))\n",
    "T1_est = T_ambient  + P1*y\n",
    "\n",
    "plt.figure(figsize=(10,5))\n",
    "ax = plt.subplot(1,1,1)\n",
    "df['T1'].plot(ax = ax, grid=True)\n",
    "plt.plot(t,T1_est)\n",
    "plt.title('Step Test Data Compared to Model')\n",
    "plt.show()\n",
    "\n",
    "#Print data\n",
    "print(\"Thermal resistance Rth = %.2f K/W\"%Rth)\n",
    "print(\"Thermal capcitance Cth = %.2f J/K\"%Cth)"
   ]
  },
  {
   "cell_type": "markdown",
   "metadata": {},
   "source": [
    "The parameter values in the above plot were chosen to (at least roughly) reproduce the measured response of temperature control laboratory. The [specific heat capacity for solids](https://en.wikipedia.org/wiki/Heat_capacity) is typically has values in the range of 0.2 to 0.9 J/K/gram. Using a value of 0.9 that is typical of aluminum and plastics used for electronic products, the estimated mass of the heater/sensor pair would be:"
   ]
  },
  {
   "cell_type": "code",
   "execution_count": null,
   "metadata": {},
   "outputs": [],
   "source": [
    "print(\"Equivalent mass : %.2f g\"%(Cth/0.9))"
   ]
  },
  {
   "cell_type": "markdown",
   "metadata": {},
   "source": [
    "## Two State Model \n",
    "\n",
    "### From first order to second order thermal model\n",
    "\n",
    "> **Question:** Explain why the 1st order model is not completely satisfactory. \n",
    "\n",
    "> **Question:** Propose a nodal thermal diagram to represent the observed dynamics, taking into account the response of the temperature sensor. For this third model, we consider the possibility that the heater and sensor may not be at the same temperature. In other words, that the heater/sensor assembly is not at a uniform temperature. To account for this possibility, we introduce $𝑇_𝐻$ to denote the temperature of heater one and $𝑇_𝑆$ to denote the temperature of the corresponding sensor. We'll further assume that sensor mainly exchanges heat with the heater, and the dominant heat transfer to the surroundings is through the heat sink attached to the heater.\n",
    "\n",
    "> **Exercice or homework:** Determine the form of the transfer function corresponding to this thermal diagram. The input is the temperature rise in %, the output is the temperature measurement in °C. \n",
    "\n",
    "### Fitting a Second Order Model by Least Squares\n",
    "\n",
    "Graphically determining a large number of parameters can be difficult. Second-order parameters can be determined using the [least_square function](https://docs.scipy.org/doc/scipy/reference/generated/scipy.optimize.least_squares.html), which minimises an error by optimisation.  \n",
    "\n",
    "> **Exercice:** Propose a Python code to determine the second-order transfer function best suited to the measurement.\n"
   ]
  },
  {
   "cell_type": "code",
   "execution_count": null,
   "metadata": {},
   "outputs": [],
   "source": [
    "# With this line : no print \n",
    "%%script echo skipping\n",
    "\n",
    "from scipy.optimize import least_squares\n",
    "import numpy as np\n",
    "Qmax = 50\n",
    "\n",
    "def f(x):\n",
    "# complete\n",
    "    return resid\n",
    "\n",
    "ic = [0.86,40,130,20]\n",
    "\n",
    "r = least_squares(f,ic,bounds=(0,np.inf))\n",
    "r.x"
   ]
  },
  {
   "cell_type": "markdown",
   "metadata": {},
   "source": [
    "For the next tutorial, we'll use the following transfer function: \n",
    "$ G_1(s) = \\frac{0.65}{(27s + 1)(160s + 1)} $"
   ]
  },
  {
   "cell_type": "code",
   "execution_count": null,
   "metadata": {},
   "outputs": [],
   "source": [
    "# With this line : no print \n",
    "%%script echo skipping\n",
    "\n",
    "%matplotlib inline\n",
    "import numpy as np                  # basic package for numerical calculations\n",
    "import matplotlib.pyplot as plt     # plotting package\n",
    "from scipy.signal import step       # Import from scipy of the step response\n",
    "\n",
    "# First order step response\n",
    "num = [0.657]\n",
    "den = [160*27,160+27,1]\n",
    "t, y = step(system=(num, den),T=np.linspace(0,600,100))\n",
    "T1_est = 20.25  + y*50\n",
    "\n",
    "plt.figure(figsize=(10,5))\n",
    "ax = plt.subplot(1,1,1)\n",
    "df['T1'].plot(ax = ax, grid=True)\n",
    "plt.plot(t,T1_est)\n",
    "plt.title('Step Test Data Compared to Model')\n",
    "plt.show()"
   ]
  },
  {
   "cell_type": "markdown",
   "metadata": {},
   "source": [
    "## Correction\n",
    "\n",
    "An example of correction can be found [here](./06_TD2_TCLab_IdentificationStep.ipynb)\n"
   ]
  },
  {
   "cell_type": "markdown",
   "metadata": {},
   "source": [
    "## References \n",
    "\n",
    "[Hedengren] Hedengren, J., Process Dynamics and Control, Brigham Young University.  [Link](http://apmonitor.com/pdc/index.php/Main/ArduinoTemperatureControl)\n",
    "\n",
    "[Kantor, 2021] Kantor, JC., Chemical Process Control class materials, University of Notre Dame. [Link](https://jckantor.github.io/cbe30338-2021/) / [Github](https://github.com/jckantor/cbe30338-2021)"
   ]
  },
  {
   "cell_type": "code",
   "execution_count": null,
   "metadata": {},
   "outputs": [],
   "source": []
  }
 ],
 "metadata": {
  "kernelspec": {
   "display_name": "Python 3 (ipykernel)",
   "language": "python",
   "name": "python3"
  },
  "language_info": {
   "codemirror_mode": {
    "name": "ipython",
    "version": 3
   },
   "file_extension": ".py",
   "mimetype": "text/x-python",
   "name": "python",
   "nbconvert_exporter": "python",
   "pygments_lexer": "ipython3",
   "version": "3.9.13"
  }
 },
 "nbformat": 4,
 "nbformat_minor": 4
}
