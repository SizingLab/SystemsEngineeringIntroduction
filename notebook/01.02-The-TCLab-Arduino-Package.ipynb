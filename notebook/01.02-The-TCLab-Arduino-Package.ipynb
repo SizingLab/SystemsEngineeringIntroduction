{
 "cells": [
  {
   "cell_type": "markdown",
   "metadata": {
    "slideshow": {
     "slide_type": "slide"
    }
   },
   "source": [
    "# The TCLab Arduino Package\n",
    "The accompanying diagram shows how to access the temperature contol laboratory using the TCLab library.\n",
    "\n",
    "<img src='figures/B.00-TCLabOverview.png' style=\"float: right;padding-left:30px;\"></img>\n",
    "\n",
    "**_Jupyter notebooks and Python scripts:_**\n",
    "The highest level consists of the you code you write to implement control algorithms. This can be done in Jupyter/Python notebooks, directly from Python using a development environment such as Spyder or PyCharm. This repository contains several examples, lessons, and student projects.\n",
    "\n",
    "**_TCLab:_**\n",
    "[TCLab](https://github.com/jckantor/TCLab) consists of a Python library entitled `tclab` that provides high-level access to sensors, heaters, a pseudo-realtime clock. The package includes `TCLab()` class that creates an object to access to the device, an iterator `clock` for synchronizing with a real time clock, `Historian()` class to create objects for data logging, and a `Plotter()` class to visualize data in realtime.\n",
    "\n",
    "**_TCLab-sketch:_**\n",
    "The [TCLab-sketch](https://github.com/jckantor/TCLab-sketch) github repository provides firmware to ensure intrisically safe operation of the Arduino board and shield. The sketch is downloaded to the Arduino using the [Arduino IDE](https://www.arduino.cc/en/Main/Software). Loading firmware to the Arduino is a one-time operation. \n",
    "\n",
    "**_Arduino:_**\n",
    "The hardware platform for the Temperature Control Laboratory. The Python tools and libraries have been tested with the Arduino Uno and Arduino Leonardo boards."
   ]
  },
  {
   "cell_type": "markdown",
   "metadata": {},
   "source": [
    "> **Objectif de ce notebook :** dans ce notebook nous allons nous concentrer sur la partie Arduino et code .ino de TCLab afin de comprendre et verifier son bon fonctionnement.  "
   ]
  },
  {
   "cell_type": "markdown",
   "metadata": {},
   "source": [
    "> **Note :** dans ce projet nous allons utilisé une ancienne version logicielle de TCLab notemment au niveau du code .ino à télécharger sur le microcontroleur. Il est disponible sur Github [ici](https://github.com/APMonitor/arduino/tree/master/0_Test_Device/Python/tclab) et présente l'avantage d'être plus simple et facile à modifier que la version la plus récente.\n"
   ]
  },
  {
   "cell_type": "markdown",
   "metadata": {
    "slideshow": {
     "slide_type": "skip"
    }
   },
   "source": [
    "## Analyse du code Arduino \n",
    "\n",
    "Lire le code Arduino .ino en langage C du fichier présent [ici](Arduino\\tclab_v1) dans le répertoire Arduino. Décrire sa structure et notemment son execution temporelle. Copier ci-dessous la partie de code réalisant l'initalisation du microntroleur au démarrage ainsi que la boucle principale.  \n",
    "Il est possible pour mieux le comprendre de lire la page suivante : [Structure de base d'un code arduino](https://arduinogetstarted.com/tutorials/arduino-code-structure)"
   ]
  },
  {
   "cell_type": "markdown",
   "metadata": {},
   "source": [
    "## Compilation et téleversement du code dans un microcontroleur Arduino\n",
    "\n",
    "Réaliser les étapes suivantes :\n",
    "- installation du logiciel Arduino\n",
    "- Téléverser le code tclab_v1.ino dans un microntroleur Arduino Uno\n",
    "- Ouvrir le moniteur série (Outils/Moniteur Série)  \n",
    "\n",
    "Pour chaque étape, donner une petite description, un lien internet et/ou une copie d'écran.\n"
   ]
  },
  {
   "cell_type": "markdown",
   "metadata": {},
   "source": [
    "## Reading Temperatures\n",
    "\n",
    "Once a tclab instance is created and connected to a device, the temperature sensors on the temperature control lab can be acccessed with the attributes `T1` and `T2`.  \n",
    "> Dans le moniteur série envoyer les ordres T1 et T2 : qu'observez-vous ? Retrouvez-vous la partie de code correspondante ?  Copier la ci-dessous."
   ]
  },
  {
   "cell_type": "markdown",
   "metadata": {
    "slideshow": {
     "slide_type": "skip"
    }
   },
   "source": [
    "## Setting Heaters\n",
    "\n",
    "Both heaters can be set between 0 to 100% power with the functions `Q1 x` ou `Q2 x` (where x is between 0 and 100). \n",
    "The device firmware limits the heaters to a range of 0 to 100%. The current value of attributes may be accessed via\n",
    "    \n",
    "In the last version of TCLab (not this one):\n",
    "1. The led on the temperature control laboratory will turns from dim to bright when either heater is on.\n",
    "2. Closing the TCLab instance turns the heaters off.\n",
    "3. The power level of the two heaters may be different. Current versions of the firmware limit maximum power of first heater to 4 watts, and maxium power of the second heater to 2 watts.\n",
    "4. In addition to the constraints imposed by the firmware, the power supply may not be capable of providing all of the power needed to operate both heaters at 100%\n",
    "5. The values retrieved from these functions may be different than the values set due to the power limits enforced by the device firmware.\n",
    "\n",
    "> A l'aide du moniteur serie mettre la source Q1 à 100% de chauffe et observer l'evolution des températures T1 et T2. Qu'observez-vous ? "
   ]
  },
  {
   "cell_type": "code",
   "execution_count": null,
   "metadata": {},
   "outputs": [],
   "source": []
  }
 ],
 "metadata": {
  "kernelspec": {
   "display_name": "Python 3 (ipykernel)",
   "language": "python",
   "name": "python3"
  },
  "language_info": {
   "codemirror_mode": {
    "name": "ipython",
    "version": 3
   },
   "file_extension": ".py",
   "mimetype": "text/x-python",
   "name": "python",
   "nbconvert_exporter": "python",
   "pygments_lexer": "ipython3",
   "version": "3.9.13"
  }
 },
 "nbformat": 4,
 "nbformat_minor": 4
}
