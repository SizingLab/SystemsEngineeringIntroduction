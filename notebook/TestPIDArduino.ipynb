{
 "cells": [
  {
   "cell_type": "markdown",
   "id": "c1b33f72",
   "metadata": {},
   "source": [
    "# Test PID"
   ]
  },
  {
   "cell_type": "code",
   "execution_count": null,
   "id": "75c39fb4",
   "metadata": {},
   "outputs": [],
   "source": [
    "import serial\n",
    "from tclab import clock\n",
    "\n",
    "serial_port = serial.Serial(port = \"COM6\", baudrate = 9600)\n",
    "\n",
    "tfinal = 50\n",
    "tstep= 4\n",
    "\n",
    "serial_port.write(b'PIDON')\n",
    "\n",
    "for t in clock(tfinal, tstep):\n",
    "    serial_port.write(b'T1')\n",
    "    print(serial_port.readline())\n",
    "        \n",
    "serial_port.write(b'PIDOFF')\n",
    "\n"
   ]
  },
  {
   "cell_type": "code",
   "execution_count": null,
   "id": "44df1ce3",
   "metadata": {},
   "outputs": [],
   "source": []
  },
  {
   "cell_type": "code",
   "execution_count": null,
   "id": "b91219f0",
   "metadata": {},
   "outputs": [],
   "source": []
  }
 ],
 "metadata": {
  "kernelspec": {
   "display_name": "Python 3 (ipykernel)",
   "language": "python",
   "name": "python3"
  },
  "language_info": {
   "codemirror_mode": {
    "name": "ipython",
    "version": 3
   },
   "file_extension": ".py",
   "mimetype": "text/x-python",
   "name": "python",
   "nbconvert_exporter": "python",
   "pygments_lexer": "ipython3",
   "version": "3.9.13"
  }
 },
 "nbformat": 4,
 "nbformat_minor": 5
}
