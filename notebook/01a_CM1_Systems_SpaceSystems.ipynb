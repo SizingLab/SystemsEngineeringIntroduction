{
 "cells": [
  {
   "cell_type": "markdown",
   "id": "f984ccb7",
   "metadata": {},
   "source": [
    "# Complex technological systems and space systems\n",
    "*Written by Marc Budinger, INSA Toulouse, France*"
   ]
  },
  {
   "cell_type": "markdown",
   "id": "256f5cfc",
   "metadata": {},
   "source": [
    "## From mechanical systems to complex technological systems\n",
    "\n",
    "Many mechanical systems have evolved into complex technological systems.\n",
    "\n",
    "> Under each figure, answer the following questions:  \n",
    ">- What are their functions, performance and reliability?  \n",
    ">- What technical fields are needed to design them?    \n",
    ">- Which engineers?  \n",
    "\n",
    "![Mechanical Systems](./figures/MechanicalSystems.png)  \n",
    "\n",
    "![Complex Systems](./figures/ComplexSystems.png)  \n"
   ]
  },
  {
   "cell_type": "markdown",
   "id": "8b905fb8",
   "metadata": {},
   "source": [
    "The car is typical of this evolution in technological systems.\n",
    "\n",
    "![Complex Systems](./figures/ElectricAutomotive.png)\n",
    "\n",
    ":::{dropdown} Description  \n",
    "\n",
    "**Electronic and computer technologies** have been integrated into combustion-powered vehicles:\n",
    "- 10 circuits (electrical and fluids)\n",
    "- 12% value = IT, > 25 computers per vehicle\n",
    "- 30% value other than mechanical \n",
    "\n",
    "**New architectures** are seeing a multiplication of functions:\n",
    "- GPS, Mobile, Multimedia\n",
    "- Active safety (ABS, ESP, lane tracking, ADAS)\n",
    "\n",
    "**Power electronics, electric motors and electrochemical technologies** are playing an increasingly important role in:\n",
    "- Driving assistance: electric steering, variable assistance and gear ratios\n",
    "- Propulsion systems: hybrid and electric\n",
    "- Energy storage: the price of the battery can represent 40 to 50% of the total price of the vehicle.\n",
    ":::"
   ]
  },
  {
   "cell_type": "markdown",
   "id": "faacbec7",
   "metadata": {},
   "source": [
    "## System definition   \n",
    "The System Engineering Handbook of NASA define a system [[Nasa, 2017](#References)] as:   \n",
    "> A **“system”** is the *combination of elements* that function together to produce the capability required to *meet a need*. The elements include all *hardware, software*, equipment, facilities, personnel, processes, and procedures needed for this purpose; that is, all things required to produce system-level results. [...] The value added by the system as a whole, beyond that contributed independently by the parts, is primarily created by the *relationship among the parts*; that is, *how they are interconnected*.\n",
    "\n",
    "The aim of this teaching module is to introduce you to the approaches needed to design a system, particularly with regard to the following aspects:    \n",
    "-*meet a need*: functional analysis, preliminary design    \n",
    "-*hardware, software*: mechatronic and electronic technology, programming   \n",
    "-*how they are interconnected*: architecture, system simulation  \n",
    "through a **space subsystem**."
   ]
  },
  {
   "cell_type": "markdown",
   "id": "15a631b2",
   "metadata": {},
   "source": [
    "## Space systems in New Space\n",
    "\n",
    "NewSpace refers to the emergence of a private-initiative space industry at the beginning of the 21st century, stimulated by certain governments to strengthen international competitiveness while guaranteeing strategic independence in key sectors. \n",
    "\n",
    "> **Note:** [Connect by CNES](https://www.connectbycnes.fr/) is a CNES field programme launched in 2016 to support the development of new space in France.\n",
    "\n",
    "![Complex Systems](./figures/ConnectByCnes.png)\n",
    "\n",
    "NewSpace concern in particular a group of relatively new aerospace companies working to develop low-cost, public access to space exploration and space applications:  \n",
    "\n",
    "- **New Launchers:** [Latitude](https://www.latitude.eu) (formerly Venture Orbital Systems) is a French start-up based in Reims. It produces the Zephyr micro-launcher and its Navier 3D-printed engine to provide orbital launch services tailored to nano-satellites. \n",
    "\n",
    "```{image} https://www.journaldugeek.com/app/uploads/2022/06/cover-1.jpg\n",
    ":alt: Latitude\n",
    ":class: bg-primary mb-1\n",
    ":width: 300px\n",
    ":align: center\n",
    "```\n",
    "\n",
    "- **Nanosatellites constellations:** [Kineis](https://www.kineis.com/iot-technologie/) is a French project for a constellation of nano-satellites designed to provide Internet of Things (IoT) services via satellite. The Kineis project is a continuation of the Argos system, which has been in existence since the 1980s. [Hemeria](https://www.hemeria-group.com/wp-content/uploads/2022/05/NANOSAT_FR_2022.pdf) supplies Kineis with the 25 nanosatellites of this 1st European nanosatellite constellation dedicated to the Internet of Things.\n",
    "\n",
    "```{image} https://www.kineis.com/wp-content/uploads/bb-plugin/cache/Constellation_1-circle-0de2c2188bf1839c34a8b9b26c0efb3b-5efuvcdow74l.jpg\n",
    ":alt: Kineis\n",
    ":class: bg-primary mb-1\n",
    ":width: 300px\n",
    ":align: center\n",
    "```\n",
    "\n",
    "- **Ground applications**: [Naïo Technologies](https://www.naio-technologies.com/) is a Toulouse-based start-up specialising in agricultural robotics. The company develops and markets robots for farmers designed to reduce drudgery at work. Robtos are autonomous thanks to RTK GNSS positionning (Real-time kinematic satelite positioning providing up to centimetre-level accuracy).\n",
    "\n",
    "```{image} https://www.reference-agro.fr/wp-content/uploads/2020/09/Nouvelle-version-Ted-Naio-Technologies-min-1140x370.jpg.webp\n",
    ":alt: Naio\n",
    ":class: bg-primary mb-1\n",
    ":width: 400px\n",
    ":align: center\n",
    "```\n"
   ]
  },
  {
   "cell_type": "markdown",
   "id": "711973f3",
   "metadata": {},
   "source": [
    "## Cubesat platform\n",
    "\n",
    "[Cubesats](https://en.wikipedia.org/wiki/CubeSat) are nanosatellites using standardised formats (1 unit or 1U = 10 cm x 10 cm x 10 cm) and reusable technical subsystem [kits](https://www.cubesatshop.com/) supplied by an ecosystem of companies and start-ups.\n",
    "\n",
    "```{image} https://upload.wikimedia.org/wikipedia/commons/9/9d/ArduSat3.png\n",
    ":alt: Cubesat\n",
    ":class: bg-primary mb-1\n",
    ":width: 400px\n",
    ":align: center\n",
    "```\n",
    "\n",
    "The graphic below, called Work Breakdown Structure (WBS), shows how a cubesat satellite programme can be broken down into products of different sizes or levels of complexity [Beale, 2006](#References): systems, sub-systems, components, parts.\n",
    "\n",
    "![Cubesat WBS](./figures/CubeSatWBS.svg)\n",
    "\n",
    "\n",
    "The Product Breakdown Structure (PBS) decomposes the studied system into products and the Work Breakdown Structure (WBS) complete this structure with the tasks [[Faure, 2020](#References)]:\n",
    "- Products – Anything that can be built (e.g., structure), created (e.g., software), or bought\n",
    "(e.g., solar cells)\n",
    "- Tasks – The work (and the workpackages) that need to be executed throughout the project (e.g., manage requirements; perform vibration test; carry out the integration of the payload with the\n",
    "satellite bus)\n"
   ]
  },
  {
   "cell_type": "markdown",
   "id": "c96a6623",
   "metadata": {},
   "source": [
    "## Case study\n",
    "\n",
    "During this teaching module, you will have to put yourself in the role of a start-up wanting to offer kits enabling the thermal control of cubesats. Your first products will be for applications requiring heating, such as batteries, liquid propellant tanks, scientific experiments, etc. This type of product contains both hardware (temperature control components) and software (temperature control algorithms). \n",
    "\n",
    "```{image} https://gomspace.com/Storage/cache/img/Storage/plugin_files/shop/productimages/12/59b7d4091c0df936bdccfd63e80de10b.png\n",
    ":alt: BatteryPack\n",
    ":class: bg-primary mb-1\n",
    ":width: 400px\n",
    ":align: center\n",
    "```\n"
   ]
  },
  {
   "cell_type": "markdown",
   "id": "820a475d",
   "metadata": {},
   "source": [
    "## Homework\n",
    "\n",
    ">- Create your team (\"binome\" compatible with your Tutorials and Labs groups). \n",
    ">- Read these documents: [Les CubeSats en bref](https://www.asc-csa.gc.ca/fra/satellites/cubesat/qu-est-ce-qu-un-cubesat.asp) and [Introduction to CubeSat Technologies](https://www.unoosa.org/documents/pdf/psa/access2space4all/KiboCUBE/AcademySeason2/On-demand_Pre-recorded_Lectures/KiboCUBE_Academy_2021_OPL07.pdf) \n",
    ">- Analysing the activities, products and services offered by companies in the NewSpace.  \n",
    ">- Prepare a 2-slide pitch positioning a company on CubeSat's Thermal Managment System (hardware, software, service)."
   ]
  },
  {
   "cell_type": "markdown",
   "id": "addeeea3",
   "metadata": {},
   "source": [
    "## References \n",
    "\n",
    "[Nasa, 2017a] Hirshorn, S. R., Voss, L. D., & Bromley, L. K. (2017). Nasa systems engineering handbook (No. HQ-E-DAA-TN38707). [Link](https://www.nasa.gov/wp-content/uploads/2018/09/nasa_systems_engineering_handbook_0.pdf)\n",
    "\n",
    "[Nasa, 2017b] Jamie, C., Roland, C., Justin, F., & Alicia, J. (2017). Basic concepts and processes for first-time CubeSat developers. CubeSat101, CaliforDesign of a CubeSat Testbednia. [Link](https://www.nasa.gov/wp-content/uploads/2017/03/nasa_csli_cubesat_101_508.pdf)\n",
    "\n",
    "[Beale, 2006] Beale, D., & Bonometti, J. (2006). Systems engineering (SE)-the systems design process. The Lunar Engineering Handbook, Auburg University, Auburn. [Link](https://www.eng.auburn.edu/~dbeale/ESMDCourse/Chapter3.htm)\n",
    "\n",
    "[Faure, 2020] Faure, P., (2020). SmallSats and Systems Engineering,  California Polytechnic State University.[Link](https://www.nasa.gov/wp-content/uploads/2020/06/s3vi_smallsats_and_se_pf_200715_0.pdf)"
   ]
  },
  {
   "cell_type": "code",
   "execution_count": null,
   "id": "cda3a259",
   "metadata": {},
   "outputs": [],
   "source": []
  }
 ],
 "metadata": {
  "kernelspec": {
   "display_name": "Python 3 (ipykernel)",
   "language": "python",
   "name": "python3"
  },
  "language_info": {
   "codemirror_mode": {
    "name": "ipython",
    "version": 3
   },
   "file_extension": ".py",
   "mimetype": "text/x-python",
   "name": "python",
   "nbconvert_exporter": "python",
   "pygments_lexer": "ipython3",
   "version": "3.9.13"
  }
 },
 "nbformat": 4,
 "nbformat_minor": 5
}
