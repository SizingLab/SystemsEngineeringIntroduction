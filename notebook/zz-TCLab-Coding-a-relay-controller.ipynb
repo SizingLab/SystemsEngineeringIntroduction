{
 "cells": [
  {
   "cell_type": "markdown",
   "metadata": {},
   "source": [
    "<!--NOTEBOOK_HEADER-->\n",
    "*This notebook contains course material from [CBE32338](https://jckantor.github.io/CBE32338)\n",
    "by Jeffrey Kantor (jeff at nd.edu); the content is available [on Github](https://github.com/jckantor/CBE2338.git).\n",
    "The text is released under the [CC-BY-NC-ND-4.0 license](https://creativecommons.org/licenses/by-nc-nd/4.0/legalcode),\n",
    "and code is released under the [MIT license](https://opensource.org/licenses/MIT).*"
   ]
  },
  {
   "cell_type": "markdown",
   "metadata": {},
   "source": [
    "# TCLab : Coding a relay controller"
   ]
  },
  {
   "cell_type": "markdown",
   "metadata": {},
   "source": [
    "The purpose of this first laboratory session is to verify that you can interface and interact with the TCLab hardware, and familiarize you with the TCLab library. This exercise will be to code a rudimentary relay (also called 'on-off' or thermostat) controller for one of the two heaters.\n"
   ]
  },
  {
   "cell_type": "markdown",
   "metadata": {},
   "source": [
    "## Verify that your hardware and software are working correctly.\n",
    "\n",
    "The following cell should cause the LED on the TCLab shield to light up to 100% maximum brightness."
   ]
  },
  {
   "cell_type": "code",
   "execution_count": 4,
   "metadata": {},
   "outputs": [
    {
     "name": "stdout",
     "output_type": "stream",
     "text": [
      "Opening connection\n",
      "TCLab connected via Arduino on port COM5\n"
     ]
    },
    {
     "data": {
      "text/plain": [
       "50.0"
      ]
     },
     "execution_count": 4,
     "metadata": {},
     "output_type": "execute_result"
    }
   ],
   "source": [
    "from tclab import TCLab\n",
    "\n",
    "lab = TCLab()\n",
    "lab.LED(100)"
   ]
  },
  {
   "cell_type": "markdown",
   "metadata": {},
   "source": [
    "## Code an on-off controller. \n",
    "\n",
    "Code an on-off controller for a setpoint of 40 degrees C using heater 1 as the manipulated variable, and temperature 1 as the measured variable. Operate the controller for at least 5 minutes (600 seconds), reporting time/power/temperature measurements every 2 seconds. "
   ]
  },
  {
   "cell_type": "code",
   "execution_count": 8,
   "metadata": {},
   "outputs": [
    {
     "name": "stdout",
     "output_type": "stream",
     "text": [
      "Start control\n",
      ".ON .ON .ON .ON .ON .ON .ON .ON .ON .ON .ON .ON .ON .ON .ON .ON .ON .ON .ON .ON .ON .ON .ON .ON .ON .ON .ON .ON .ON .ON .ON .ON .ON .ON .ON .ON .ON .ON .ON .ON .ON .ON .ON .ON .ON .ON .ON .ON .ON .ON .ON .ON .ON .ON .ON .ON .ON .ON .ON .ON .ON .ON .ON .ON ............................OFF..OFF.OFF.OFF.OFF.OFF.OFF.OFF.OFF.OFF.OFF.OFF.OFF.OFF.OFF.OFF.OFF.OFF.OFF.OFF.OFF.OFF.OFF.OFF.OFF.OFF.OFF.OFF.OFF.OFF.OFF.OFF.OFF.OFF.OFF.OFF.OFF.OFF.OFF.OFF.OFF.OFF.OFF.OFF.OFF.....................................................ON ....ON .ON .ON .ON .ON .ON .ON .ON .ON .ON .ON .ON .ON .ON ......................................OFF..OFF.OFF.OFF.OFF.OFF.OFF.OFF.OFF.OFF.OFF.OFF.OFF.OFF.OFF.OFF.OFF.OFF.OFF.OFF.OFF.OFF.OFF.OFF.OFF.OFF.OFF.OFF.OFF.OFF.OFF.OFF.OFF.OFF.OFF.OFF.OFF.OFF.OFF.OFF.OFF.OFF...........................................................ON ....ON .ON .ON .ON .ON .ON .ON .ON .ON .ON .ON .ON .......................................OFF..OFF.OFF.OFF.OFF.OFF.OFF.OFF.OFF.OFF.OFF.OFF.OFF.OFF.OFF.OFF.OFF.OFF.OFF.OFF.OFF.OFF.OFF.OFF.OFF.OFF.OFF.OFF.OFF.OFF.OFF.OFF.OFF.OFF.OFF.OFF.OFF.OFF.OFF.OFF.OFF.OFF.........................................................ON .....ON .ON .ON .ON .ON .ON .ON .ON .ON .ON .ON .ON ......................................OFF...OFF.OFF.OFF.OFF.OFF.OFF.OFF.OFF.OFF.OFF.OFF.OFF.OFF.OFF.OFF.OFF.OFF.OFF.OFF.OFF.OFF.OFF.OFF.OFF.OFF.OFF.OFF.OFF.OFF.OFF.OFF.OFF.OFF.OFF.OFF.OFF.OFF.OFF.OFF.......\n",
      "Turn Heater Q1 Off\n"
     ]
    },
    {
     "data": {
      "text/plain": [
       "0.0"
      ]
     },
     "execution_count": 8,
     "metadata": {},
     "output_type": "execute_result"
    }
   ],
   "source": [
    "# put your code here.\n",
    "\n",
    "from labtime import clock\n",
    "\n",
    "time = []\n",
    "T1 = []\n",
    "Q1 = []\n",
    "\n",
    "tfinal = 600\n",
    "tstep = 1\n",
    "\n",
    "Torder=40\n",
    "Terror=5\n",
    "\n",
    "Q=0\n",
    "\n",
    "print(\"Start control\")\n",
    "\n",
    "for t in clock(tfinal, tstep):\n",
    "    print('.', end='')\n",
    "    time = time + [t]\n",
    "    T = lab.T1\n",
    "    \n",
    "    # Hysteresis control\n",
    "    if T < (Torder - Terror/2):\n",
    "        Q=100\n",
    "        print(\"ON \", end='')\n",
    "    elif T > (Torder + Terror/2):\n",
    "        Q=0\n",
    "        print(\"OFF\", end='')\n",
    "    else:\n",
    "        Q=Q\n",
    "    \n",
    "    # Order\n",
    "    lab.Q1(Q)\n",
    "    \n",
    "    # Store measures\n",
    "    T1 = T1 + [T]\n",
    "    Q1 = Q1 + [Q]\n",
    "    \n",
    "    \n",
    "    \n",
    "print(\"\\nTurn Heater Q1 Off\")\n",
    "lab.Q1(0)"
   ]
  },
  {
   "cell_type": "markdown",
   "metadata": {},
   "source": [
    "## Analysis\n",
    "\n",
    "Examine the results of the previous exercise and answer the following questions.\n",
    "\n",
    "1. Approximately how much time elapses between power on and power off events?\n",
    "\n",
    "2. What is the approximate duty cycle (i.e, fraction of time the heater is in the 'on' state) once the initial start-up period has passed.\n",
    "\n",
    "3. What is the size of the oscillation around the setpoint?  Why does this occur?"
   ]
  },
  {
   "cell_type": "markdown",
   "metadata": {},
   "source": [
    "Write your answers in this markdown cell."
   ]
  },
  {
   "cell_type": "code",
   "execution_count": 16,
   "metadata": {},
   "outputs": [
    {
     "data": {
      "image/png": "[encoded data removed]",
      "text/plain": [
       "<Figure size 432x288 with 1 Axes>"
      ]
     },
     "metadata": {
      "needs_background": "light"
     },
     "output_type": "display_data"
    }
   ],
   "source": [
    "\n",
    "import matplotlib.pyplot as plt\n",
    "import numpy as np\n",
    "\n",
    "plt.plot(time, T1,'g-', label='T1')\n",
    "plt.plot(time, (Torder+Terror/2)*np.ones(len(time)), 'y-', label='Max')\n",
    "plt.plot(time, (Torder-Terror/2)*np.ones(len(time)), 'y-', label='Min')\n",
    "plt.plot(time, Q1,'r-', label='Q1')\n",
    "plt.xlabel('Time (s)')\n",
    "plt.ylabel('Temperature (°C) and Power (%)')\n",
    "plt.legend()\n",
    "plt.show()"
   ]
  },
  {
   "cell_type": "code",
   "execution_count": null,
   "metadata": {},
   "outputs": [],
   "source": []
  }
 ],
 "metadata": {
  "kernelspec": {
   "display_name": "Python 3 (ipykernel)",
   "language": "python",
   "name": "python3"
  },
  "language_info": {
   "codemirror_mode": {
    "name": "ipython",
    "version": 3
   },
   "file_extension": ".py",
   "mimetype": "text/x-python",
   "name": "python",
   "nbconvert_exporter": "python",
   "pygments_lexer": "ipython3",
   "version": "3.8.13"
  }
 },
 "nbformat": 4,
 "nbformat_minor": 4
}
