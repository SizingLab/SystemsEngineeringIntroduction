{
 "cells": [
  {
   "cell_type": "markdown",
   "id": "f984ccb7",
   "metadata": {},
   "source": [
    "# System engineering\n",
    "*Written by Marc Budinger, INSA Toulouse, France*"
   ]
  },
  {
   "cell_type": "markdown",
   "id": "c74c0819",
   "metadata": {},
   "source": [
    "Figure below illustrates the complete lifecycle of a complex technological system. Differents standards define the interdisciplinary tasks required to transform needs, requirements and constraints encountered. We will focus in this lecture on the first step: the system definition.\n",
    "\n",
    "![System lifecycle](./figures/SystemEngineeringStandards.png)"
   ]
  },
  {
   "cell_type": "markdown",
   "id": "255e72d9",
   "metadata": {},
   "source": [
    "## System design process\n",
    "\n",
    "The NASA System Engineering Handbook [[NASA, 2017](#References)] distingues four system design processes enabling the system definition: developing stakeholder expectations, technical requirements, logical decompositions, and design solutions. These system design processes are interdependent, highly iterative and recursive processes resulting on the different systems, subsystems in a validated set of requirements and a design solution that satisfies a set of stakeholder expectations.  \n",
    "\n",
    "*System design process:*\n",
    "![System design process](./figures/NasaDesignProcess.PNG)\n"
   ]
  },
  {
   "cell_type": "markdown",
   "id": "6793a40d",
   "metadata": {},
   "source": [
    "Graphical representation tools can be uses for theses processes:\n",
    "- Those of the APTE method [[Audry, 2010](#References)]  derived from value analysis applied to the redesign of technical systems. \n",
    "- The SYSML language [[Le Gallou](#References)], which offers a wide range of diagrams for representing technological or IT systems.\n",
    "\n",
    "We will follow the theses processes on a example of a space sub-system: the rocket nozzle thrust vector control actuation system. The actuation system of the 1st stage of a launcher consists of two actuators used to control the nozzle according to 2 axes of rotation. \n",
    "\n",
    "*Vega Launcher 1st stage (P80) (from [ESA presentation](http://www.ingaero.uniroma1.it/attachments/1609_VEGA%20%20sapienza%20small.pdf)):*  \n",
    "![Vega 1st stage](./figures/P80_stage1.png)\n"
   ]
  },
  {
   "cell_type": "markdown",
   "id": "106f12b1",
   "metadata": {},
   "source": [
    "## Stakeholders expectations\n",
    "\n",
    "### Fundamental need\n",
    "\n",
    "The objective is first to understand the fundamental need justifying the development of the system studied. This can be done by answering the questions:\n",
    "- Who does it serve? À qui le Produit rend-il service ?\n",
    "- Who does it affect? Sur quoi le Produit agit-il ? \n",
    "- \"For what purpose\" (what for?) « Dans quel but ? » (pour_quoi faire ?) \n",
    "\n",
    ":::{dropdown} Thrust Vector Control System, fundamental need:\n",
    "- Who does it serve? À qui le Produit rend-il service ? *The launcher flight control system*\n",
    "\n",
    "- Who does it affect? Sur quoi le Produit agit-il ? *The system acts on the nozzle*\n",
    "\n",
    "- \"For what purpose\" (what for?) « Dans quel but ? » (pour_quoi faire ?) *To control the angular velocities of the vehicle*\n",
    "\n",
    "The Initial Function Statement is thus:\n",
    "The Thrust Vector Control (TVC) actuation system  shall control the nozzle position in order to control the vehicle about the pitch and yaw axes.\n",
    "This statement describes a high-level function that the TVC actuation system must perform. \n",
    ":::\n",
    "\n",
    "### Life cycle analysis\n",
    "An analysis of the various life phases can help to determine which of them may have a significant influence on the solution finally developed. \n",
    "Examples of life phases: \n",
    "\n",
    "|   |   |\n",
    "|:-:|:-:|\n",
    "design |normal (primary) use\n",
    "manufacturing |normal use (secondary)\n",
    "metrology / integration testing |abnormal use (degraded mode)\n",
    "packaging |maintenance\n",
    "transportation |non-use\n",
    "marketing |storage\n",
    "assembly |repackaging\n",
    "installation / implementation |updating\n",
    "validation |recycling / destruction\n",
    "\n",
    ":::{dropdown} The main ones or Concept of Operations (ConOps) scenarios for our example are:\n",
    "- Qualification tests \n",
    "- The operating phase from take-off to separation of the propulsion stage\n",
    "- Recovery and return to service\n",
    ":::"
   ]
  },
  {
   "cell_type": "markdown",
   "id": "acf9ae02",
   "metadata": {},
   "source": [
    "### System boundaries definition \n",
    "\n",
    "It is also important to define the boundaries of the system under study. This will make it possible to \n",
    "define: \n",
    "- what is imposed = the external elements with which the system will interact\n",
    "- on what the designer can act = the system\n",
    "\n",
    "\n",
    ":::{dropdown} Main interfaces of the TVC system:\n",
    "- The system shall be self-sufficient in energy = no power interface\n",
    "- The system shall communicate with the on-board computer via a data bus = data communication interfaces\n",
    "- The system shall be mechanically connected to the nozzle and skirt of the launcher stage = structural interfaces\n",
    ":::\n",
    "\n",
    "The context diagram of SysML language can help to give a graphical representation of the system and stakeholders.  "
   ]
  },
  {
   "cell_type": "markdown",
   "id": "660e9a20",
   "metadata": {},
   "source": [
    "## Requirements Definition\n",
    "\n",
    "### Functional analysis\n",
    "By analysing each life phase, the functions can be determinated. Use case diagrams (SysML) or 'Diagramme pieuvre' (APTE) can be helpful. These diagrams can be constructed by following the steps below:\n",
    "- **Step 1:** Identify Actors. Determine who or what interacts with the system. These are your actors. They can be users, other systems, or external entities.  \n",
    "- **Step 2:** Identify Use Cases (oval). Identify the main functionalities or actions the system must perform. These are your use cases. Each use case should represent a specific piece of functionality.  \n",
    "- **Step 3:** Connect Actors and Use Cases. Draw lines (associations) between actors and the use cases they are involved in. This represents the interactions between actors and the system.  \n",
    "- **Step 4:** Add System Boundary. Draw a box around the actors and use cases to represent the system boundary. This defines the scope of your system.  \n",
    "- **Step 5:** Define Relationships. If certain use cases are related.   \n",
    "\n",
    "\n",
    "**Operating phase:**\n",
    "\n",
    "*Use Case diagram:*\n",
    "![Use Case diagram](./figures/UseCaseTVC.png)\n",
    "\n",
    "**Qualification phase:** The standard environmental test conditions such as DO160 define test conditions helpfull to define test qualifications: Vibrations, Thermal cycling, Humidity, Endurance, ...\n",
    "\n",
    "Functional analysis reveals a large number of functions, and it may be useful to rank them in the form of a functional tree. The FAST (Function Analysis Systems Technique) diagram advices to developp this \n",
    "functional tree thanks the questions 'Why?' and 'How?'. This can also help to identify or fully formulate the functions that would have escaped with the usual research methods research methods (spontaneous research in particular). The SySML requirement diagram can implement this tree.\n",
    "\n",
    "*Requirements diagram:* \n",
    "![Requirements diagram](./figures/RequirementsDiagram.png)\n"
   ]
  },
  {
   "cell_type": "markdown",
   "id": "01f6e847",
   "metadata": {},
   "source": [
    "### Requirements expressions\n",
    "\n",
    "The expression of requirements can take different forms. For example:\n",
    "- According to the Nasa handbook [[Nasa, 2017](#References)]: *The requirement is in the form “product ABC shall XYZ.” A requirement should state “The product shall” (do, perform, provide, weigh, or other verb) followed by a description of what should be done.*\n",
    "\n",
    ">Functional Requirements - What the “system” does  \n",
    ">Performance Requirements - How well the “system” executes the function  \n",
    ">Interface Requirements - An Interface Requirement is a requirement that specifies the ports for connecting systems and parts of a system. \n",
    "\n",
    ":::{dropdown} Example of Functional Requirements with Associated Performance Requirements (from Nasa Handbook):\n",
    "• The TVC shall gimbal the engine a maximum of 9 degrees, ± 0.1 degree.\n",
    "• The TVC shall gimbal the engine at a maximum rate of 5 degrees/second ± 0.3 degrees/second.\n",
    "• The TVC shall provide a force of 40,000 pounds, ± 500 pounds.\n",
    "• The TVC shall have a frequency response of 20 Hz, ± 0.1 Hz.\n",
    ":::\n",
    "\n",
    "- According to APTE method: *A function is made up of a verb or verbal group characterising the action, and complements representing the elements of the external environment affected by the function. The subject of the sentence does not appear, but it always refers to the product.* \n",
    "\n",
    "| Function   | Criteria  | Level | Flexibility |\n",
    "|:--|:-:|:-:|:-:|\n",
    "FP1 Position the nozzle along 2 axis | Angle of rotation | +- 6° | F1\n",
    "FP1.1 Provide force and speed |Maximum speed | 10 °/s | F1\n",
    "|| Maximum torque | 100 kN.m | F1 \n",
    "FP1.2 Provide energy and power  | Evaluate the energy and power required for a typical mission profile | Nozzle angular deflection versus time data file | F1\n",
    "\n",
    ":::{dropdown} The functions are grouped together in a Functional Specification in the form of a table :\n",
    "**Criterion:** Characteristic used to assess the way in which a function is fulfilled or a constraint met.\n",
    "A scale must be used to assess the level.\n",
    "\n",
    "**Level of an assessment criterion:** Quantity identified in the scale adopted for a function assessment criterion. This quantity may be that sought as an objective or that achieved for a proposed solution. \n",
    "Quantified values with tolerance (Dimensions, Operating parameters, Costs, Noise level, etc.).\n",
    ":::\n",
    "\n",
    "The requirement diagram of SysML Language can represent the same informations. \n",
    "\n",
    "There are different specification documents depending on the design stage. \n",
    "- Requirements specification: they are independent of the solution and technological choices to avoid influencing the designers or sub-contractors and focus on the fundamental need to be met.\n",
    "- Technological specifications: The choice of solution can lead to additional functions or requirements. For example, an electromechanical solution required a thermal environment definition or a specific endurance [test profile](http://esmats.eu/esmatspapers/pastpapers/pdfs/2009/vanthuyne.pdf)\n",
    "\n",
    "*Endurance profile for P80 EMA*\n",
    "```{image} ./figures/EnduranceP80.png\n",
    ":alt: EnduranceProfile\n",
    ":class: bg-primary mb-1\n",
    ":width: 300px\n",
    ":align: center\n",
    "```"
   ]
  },
  {
   "cell_type": "markdown",
   "id": "2f2c8eac",
   "metadata": {},
   "source": [
    "### Logical definition\n",
    "\n",
    "The objective is to define the architecture (organic and software) that will enable the requirements developed above to be met. Each component of this architecture must satisfy at least one requirement (otherwise it is of no use to the system) and each requirement must be satisfied by at least one system component. The 'Satisfy' link is used to represent this requirement/system component relationship in a SysML diagram.\n",
    "\n",
    "*Architecture validation:* \n",
    "![Architecture validation](./figures/ArchitectureValidationTVC.png)\n",
    "\n",
    "To meet a set of functional requirements, a multi-technology system is made up of components organised around two chains :\n",
    "- the energy chain   \n",
    "- the information chain   \n",
    "These chains communicate with each other via sensors and pre-actuators (energy modulators). The block diagrams of the SysML language can help to represent them. The figures below represent an electromechanical solution such as the one implemented on the VEGA launcher.\n",
    "\n",
    "*IBD (Internal Block Diagram) of information processing and power transmission parts:*  \n",
    "![Architecture](./figures/ChaineNRJ_TVC.png)\n",
    "\n",
    "*Thrust Vector Control (TVC) actuation system:*  \n",
    "![TVC Actuation system](./figures/P80_vega_TVC_system.png)"
   ]
  },
  {
   "cell_type": "markdown",
   "id": "b816a77d",
   "metadata": {},
   "source": [
    "## Homework\n",
    "\n",
    ">- Follow the steps described here to define the requirements for a CubeSat battery with a thermal control such as this [one](https://gomspace.com/UserFiles/Subsystems/datasheet/gs-ds-nanopower-bp4_(DS_-_1013024_-_1_-_31)_-_1.pdf)\n",
    "\n",
    "*Nanopower board of GOMspace*\n",
    "![Battery Board](./figures/BatteryBoardGomSpace.PNG)\n",
    "\n",
    ">- Complete examples of a use case diagram, a function tree (specifying functions, criteria and requirement levels) and an Internal Block diagram (IBD) for the thermal control part.\n",
    "\n",
    "\n",
    "**Note:** The SysML diagrams on this notebook (see [here](https://github.com/SizingLab/SystemsEngineeringIntroduction/tree/main/notebook/figures) .drawio files) were produced using the free Draw.io tool. The software can be installed on a [PC](https://www.drawio.com/blog/diagrams-offline) or used online. The SySML library must be [activated](https://www.drawio.com/blog/sysml-vs-uml) to be used. "
   ]
  },
  {
   "cell_type": "markdown",
   "id": "3ce5a85a",
   "metadata": {},
   "source": [
    "## References \n",
    "\n",
    "[Nasa, 2017] Hirshorn, S. R., Voss, L. D., & Bromley, L. K. (2017). Nasa systems engineering handbook (No. HQ-E-DAA-TN38707). [Link](https://www.nasa.gov/wp-content/uploads/2018/09/nasa_systems_engineering_handbook_0.pdf)\n",
    "\n",
    "[Le Gallou] Le Gallou Y., Huguet, M., Ingénierie Systeme et langage SysML, notes de cours.  [Link](http://michel-huguet.fr/wp-content/uploads/2019/08/IS_SysMl.pdf)\n",
    "\n",
    "[Audry, 2010] Audry, M. F. (2010). La démarche d’analyse fonctionnelle. Académie de Versailles. [Link](https://sti.ac-versailles.fr/IMG/pdf/analyse_fonctionnelle_guide_pour_le_professeur-2.pdf)\n",
    "\n",
    "[Huguet] Huguet, M., Analyse fonctionnelle, Chaines d'énergie et d'information, notes de cours. [Link](http://michel-huguet.fr/wp-content/uploads/2019/08/1A3-Analyse-fonctionnelle.pdf)"
   ]
  },
  {
   "cell_type": "code",
   "execution_count": null,
   "id": "8b09e327",
   "metadata": {},
   "outputs": [],
   "source": []
  }
 ],
 "metadata": {
  "kernelspec": {
   "display_name": "Python 3 (ipykernel)",
   "language": "python",
   "name": "python3"
  },
  "language_info": {
   "codemirror_mode": {
    "name": "ipython",
    "version": 3
   },
   "file_extension": ".py",
   "mimetype": "text/x-python",
   "name": "python",
   "nbconvert_exporter": "python",
   "pygments_lexer": "ipython3",
   "version": "3.9.13"
  }
 },
 "nbformat": 4,
 "nbformat_minor": 5
}
