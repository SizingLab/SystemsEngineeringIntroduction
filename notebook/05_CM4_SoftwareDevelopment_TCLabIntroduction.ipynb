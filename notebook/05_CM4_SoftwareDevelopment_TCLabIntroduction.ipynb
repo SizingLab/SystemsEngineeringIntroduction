{
 "cells": [
  {
   "cell_type": "markdown",
   "id": "1cd1bfbf",
   "metadata": {},
   "source": [
    "# Control software development and TCLab Introduction"
   ]
  },
  {
   "cell_type": "code",
   "execution_count": null,
   "id": "71c96bb5",
   "metadata": {},
   "outputs": [],
   "source": [
    "Chaine d'information d'un système mécatronique"
   ]
  },
  {
   "cell_type": "code",
   "execution_count": null,
   "id": "7d40442b",
   "metadata": {},
   "outputs": [],
   "source": []
  },
  {
   "cell_type": "code",
   "execution_count": null,
   "id": "49580f08",
   "metadata": {},
   "outputs": [],
   "source": [
    "Cycle de développement d'un controleur numérique\n",
    "\n",
    "problématique : \n",
    "- le logiciel devient incontournable par ses fonctinnalités, sa souplesse\n",
    "- mais il apporte temps de developpement, erreurs de codages, temps d'essais\n",
    "\n",
    "Cycle en V\n",
    "MIL\n",
    "RCP\n",
    "SIL\n",
    "HIL\n",
    "\n",
    "Ici MIL + RCP\n",
    "Salle HIL à l'INSA. \n",
    "\n",
    "- cycle de développement d'un controleur numétrique\n",
    "\n",
    "\n",
    "\n",
    "Cycle de développement progressivement\n",
    "MIL :  \n",
    "SIL : \n",
    "RCP : \n",
    "HIL : \n",
    "\n"
   ]
  },
  {
   "cell_type": "code",
   "execution_count": null,
   "id": "60e5c750",
   "metadata": {},
   "outputs": [],
   "source": [
    "Numérisation d'un controleur et effet des fréquences d'échantillonage\n",
    "\n"
   ]
  },
  {
   "cell_type": "code",
   "execution_count": null,
   "id": "2e6df773",
   "metadata": {},
   "outputs": [],
   "source": [
    "TCLab card"
   ]
  },
  {
   "cell_type": "code",
   "execution_count": null,
   "id": "91b3c3f0",
   "metadata": {},
   "outputs": [],
   "source": [
    "Presentation\n",
    "\n",
    "- etapes du projets\n",
    ". synthese de correcteur lineaire (MIL)\n",
    ". numerisation et essais en python (SIL, RCP)\n",
    ". implementation finale dans contrôleur\n",
    "pas de HIL cette année mais 4ème année \n",
    "\n"
   ]
  },
  {
   "cell_type": "code",
   "execution_count": null,
   "id": "df4cb442",
   "metadata": {},
   "outputs": [],
   "source": [
    "TCLab card and PID python controller"
   ]
  },
  {
   "cell_type": "code",
   "execution_count": null,
   "id": "30a00c57",
   "metadata": {},
   "outputs": [],
   "source": [
    "Arduino and PID controller"
   ]
  },
  {
   "cell_type": "code",
   "execution_count": null,
   "id": "a9706a0a",
   "metadata": {},
   "outputs": [],
   "source": []
  },
  {
   "cell_type": "markdown",
   "id": "01af3cb2",
   "metadata": {},
   "source": [
    "\n",
    "- architetcure de controle pour le projet\n",
    "arduino\n",
    ". code\n",
    ". exemple d'essais dans moniteur\n",
    "python / PC\n",
    ". \n",
    ". yield vs return\n",
    ". \n",
    "\n",
    "\n",
    "- notion de controleur numerique\n",
    "\n",
    "discretisation d'une équation différentielle et d'une fonciton de transfert\n",
    "imperfection amene par la discretisation\n",
    "effet sur la marge de phase et critere d'echantillonnage pour négliger la nuémrisation\n",
    "\n",
    "- "
   ]
  }
 ],
 "metadata": {
  "kernelspec": {
   "display_name": "Python 3 (ipykernel)",
   "language": "python",
   "name": "python3"
  },
  "language_info": {
   "codemirror_mode": {
    "name": "ipython",
    "version": 3
   },
   "file_extension": ".py",
   "mimetype": "text/x-python",
   "name": "python",
   "nbconvert_exporter": "python",
   "pygments_lexer": "ipython3",
   "version": "3.9.13"
  }
 },
 "nbformat": 4,
 "nbformat_minor": 5
}
