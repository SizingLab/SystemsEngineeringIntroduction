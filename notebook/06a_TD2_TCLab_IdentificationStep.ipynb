{
 "cells": [
  {
   "cell_type": "markdown",
   "metadata": {
    "slideshow": {
     "slide_type": "slide"
    }
   },
   "source": [
    "# TCLab: identification step\n",
    "\n",
    "The accompanying diagram shows how to access the temperature contol laboratory using the TCLab library.\n",
    "\n",
    "<img src='figures/B.00-TCLabOverview.png' style=\"float: right;padding-left:30px;\"></img>\n",
    "\n",
    "**_Jupyter notebooks and Python scripts:_**\n",
    "The highest level consists of the you code you write to implement control algorithms. This can be done in Jupyter/Python notebooks, directly from Python using a development environment such as Spyder or PyCharm. This repository contains several examples, lessons, and student projects.\n",
    "\n",
    "**_TCLab:_**\n",
    "[TCLab](https://github.com/jckantor/TCLab) consists of a Python library entitled `tclab` that provides high-level access to sensors, heaters, a pseudo-realtime clock. The package includes `TCLab()` class that creates an object to access to the device, an iterator `clock` for synchronizing with a real time clock, `Historian()` class to create objects for data logging, and a `Plotter()` class to visualize data in realtime.\n",
    "\n",
    "**_TCLab-sketch:_**\n",
    "The [TCLab-sketch](https://github.com/jckantor/TCLab-sketch) github repository provides firmware to ensure intrisically safe operation of the Arduino board and shield. The sketch is downloaded to the Arduino using the [Arduino IDE](https://www.arduino.cc/en/Main/Software). Loading firmware to the Arduino is a one-time operation. \n",
    "\n",
    "**_Arduino:_**\n",
    "The hardware platform for the Temperature Control Laboratory. The Python tools and libraries have been tested with the Arduino Uno and Arduino Leonardo boards."
   ]
  },
  {
   "cell_type": "markdown",
   "metadata": {},
   "source": [
    "> **Objectif de ce notebook:** On va piloter ici l'Arduino à partir d'un code Python. L'objectif sera de réaliser un échelon de puissance et de mesurer la réponse en température. Cette réponse sera finalement enregistrée dans un fichier Excel. "
   ]
  },
  {
   "cell_type": "markdown",
   "metadata": {
    "slideshow": {
     "slide_type": "skip"
    }
   },
   "source": [
    "## Connecting to the Temperature Control Laboratory"
   ]
  },
  {
   "cell_type": "markdown",
   "metadata": {},
   "source": [
    ">Note : dans ce projet nous allons utilisé une ancienne version logicielle de TCLab notemment au niveau du code python. Il est disponible sur Github [ici](https://github.com/APMonitor/arduino/tree/master/0_Test_Device/Python/tclab) et présente l'avantage d'être plus simple et facile à modifier que la version la plus récente. Nous utiliserons les fichiers `tclab.py` et `labtime.py` présents dans ce répertoire.  Cela permettra d'analyser le code et de le modifier a terme.  "
   ]
  },
  {
   "cell_type": "markdown",
   "metadata": {
    "slideshow": {
     "slide_type": "skip"
    }
   },
   "source": [
    "\n",
    "\n",
    "> Dans `labtime.py` il y a une function [clock](https://tclab.readthedocs.io/en/latest/notebooks/03_Synchronizing_with_Real_Time.html) qui permet de cadencer précisement sur une période donnée les actions réalisées.  "
   ]
  },
  {
   "cell_type": "code",
   "execution_count": 4,
   "metadata": {},
   "outputs": [],
   "source": [
    "from labtime import clock"
   ]
  },
  {
   "cell_type": "markdown",
   "metadata": {},
   "source": [
    "> Dans `tclab.py`il existe une classe d'objet `TCLab` qui permettra de communiquer avec la carte Arduino."
   ]
  },
  {
   "cell_type": "code",
   "execution_count": 5,
   "metadata": {},
   "outputs": [],
   "source": [
    "from tclab import TCLab"
   ]
  },
  {
   "cell_type": "markdown",
   "metadata": {
    "slideshow": {
     "slide_type": "skip"
    }
   },
   "source": [
    "### Importing\n",
    "    \n",
    "Once installed, the `tclab` package can be imported into Python and an instance created with the Python statements\n",
    "\n",
    "    from tclab import TCLab\n",
    "    lab = TCLab()\n",
    "\n",
    "TCLab() attempts to find a device connected to a serial port and return a connection. An error is generated if no device is found.  The connection should be closed when no longer in use.\n",
    "\n",
    "The following cell demonstrates this process, and uses the tclab `LED()` function to flash the LED on the Temperature Control Lab for a period of 10 seconds at a 100% brightness level. "
   ]
  },
  {
   "cell_type": "code",
   "execution_count": 6,
   "metadata": {
    "scrolled": true
   },
   "outputs": [
    {
     "name": "stdout",
     "output_type": "stream",
     "text": [
      "Opening connection\n",
      "TCLab connected via Arduino on port COM5\n"
     ]
    },
    {
     "data": {
      "text/plain": [
       "50.0"
      ]
     },
     "execution_count": 6,
     "metadata": {},
     "output_type": "execute_result"
    }
   ],
   "source": [
    "#from tclab import TCLab\n",
    "\n",
    "lab = TCLab()\n",
    "lab.LED(100)\n",
    "#lab.close()"
   ]
  },
  {
   "cell_type": "markdown",
   "metadata": {},
   "source": [
    "## Reading Temperatures\n",
    "\n",
    "Once a tclab instance is created and connected to a device, the temperature sensors on the temperature control lab can be acccessed with the attributes `.T1` and `.T2`.  For example, given an instance `lab`, the temperatures are accessed as\n",
    "\n",
    "    T1 = lab.T1\n",
    "    T2 = lab.T2\n",
    "\n",
    "`lab.T1` and `lab.T2` are read-only properties. Any attempt to set them to a value will return a Python error."
   ]
  },
  {
   "cell_type": "code",
   "execution_count": 13,
   "metadata": {},
   "outputs": [
    {
     "name": "stdout",
     "output_type": "stream",
     "text": [
      "Temperature 1: 22.51 °C\n",
      "Temperature 2: 21.87 °C\n"
     ]
    }
   ],
   "source": [
    "# from tclab import TCLab\n",
    "\n",
    "print(\"Temperature 1: %0.2f °C\"%(lab.T1))\n",
    "print(\"Temperature 2: %0.2f °C\"%(lab.T2))"
   ]
  },
  {
   "cell_type": "markdown",
   "metadata": {
    "slideshow": {
     "slide_type": "skip"
    }
   },
   "source": [
    "## Setting Heaters\n",
    "\n",
    "For legacy reasons, there are two ways to set the power levels of the heaters. \n",
    "\n",
    "The first way is to the functions`.Q1()` and `.Q2()` of a `TCLab` instance. For example, both heaters can be set to 100% power with the functions\n",
    "\n",
    "    lab = TCLab()\n",
    "    lab.Q1(100)\n",
    "    lab.Q2(100)\n",
    "\n",
    "The device firmware limits the heaters to a range of 0 to 100%. The current value of attributes may be accessed via\n",
    "\n",
    "    Q1 = lab.Q1()\n",
    "    Q2 = lab.Q2()\n",
    "    \n",
    "Important notes:\n",
    "1. The led on the temperature control laboratory will turns from dim to bright when either heater is on.\n",
    "2. Closing the TCLab instance turns the heaters off.\n",
    "3. The power level of the two heaters may be different. Current versions of the firmware limit maximum power of first heater to 4 watts, and maxium power of the second heater to 2 watts.\n",
    "4. In addition to the constraints imposed by the firmware, the power supply may not be capable of providing all of the power needed to operate both heaters at 100%\n",
    "5. The values retrieved from these functions may be different than the values set due to the power limits enforced by the device firmware."
   ]
  },
  {
   "cell_type": "code",
   "execution_count": 14,
   "metadata": {
    "slideshow": {
     "slide_type": "skip"
    }
   },
   "outputs": [
    {
     "name": "stdout",
     "output_type": "stream",
     "text": [
      "\n",
      "Starting Temperature 1: 22.19 °C\n",
      "Starting Temperature 2: 21.64 °C\n",
      "\n",
      "Turn Heaters On\n",
      "\n",
      "Heat for 30 seconds\n",
      "\n",
      "Turn Heaters Off\n",
      "\n",
      "Final Temperature 1: 25.73 °C\n",
      "Final Temperature 2: 23.93 °C\n"
     ]
    }
   ],
   "source": [
    "#from tclab import TCLab\n",
    "import time\n",
    "\n",
    "print(\"\\nStarting Temperature 1: %0.2f °C\"%(lab.T1))\n",
    "print(\"Starting Temperature 2: %0.2f °C\"%(lab.T2))\n",
    "\n",
    "print(\"\\nTurn Heaters On\")\n",
    "lab.Q1(100)\n",
    "lab.Q2(100)\n",
    "    \n",
    "t_heat = 30\n",
    "print(\"\\nHeat for\", t_heat, \"seconds\")\n",
    "time.sleep(t_heat)\n",
    "\n",
    "print(\"\\nTurn Heaters Off\")\n",
    "lab.Q1(0)\n",
    "lab.Q2(0)\n",
    "    \n",
    "print(\"\\nFinal Temperature 1: %0.2f °C\"%(lab.T1))\n",
    "print(\"Final Temperature 2: %0.2f °C\"%(lab.T2))"
   ]
  },
  {
   "cell_type": "markdown",
   "metadata": {
    "slideshow": {
     "slide_type": "skip"
    }
   },
   "source": [
    "## Synchronizing with Real Time using `clock`\n",
    "\n",
    "The `tclab` module includes `clock` for synchronizing calculations with real time.  `clock(tperiod, tstep)` generates a sequence of iterations over a period of `tperiod` seconds evenly by `tstep` seconds. If `tstep` is omitted then the default period is set to 1 second."
   ]
  },
  {
   "cell_type": "code",
   "execution_count": 15,
   "metadata": {},
   "outputs": [
    {
     "name": "stdout",
     "output_type": "stream",
     "text": [
      "0 sec.\n",
      "2.01 sec.\n",
      "4.01 sec.\n",
      "6.01 sec.\n"
     ]
    }
   ],
   "source": [
    "# from tclab import clock\n",
    "\n",
    "tperiod = 6\n",
    "tstep = 2\n",
    "for t in clock(tperiod,tstep):\n",
    "    print(t, \"sec.\")"
   ]
  },
  {
   "cell_type": "markdown",
   "metadata": {},
   "source": [
    "There are some considerations to keep in mind when using `clock`. Most important, by its nature Python is not a real-time environment. `clock` makes a best effort to stay in sync with evenly spaced ticks of the real time clock. If, for some reason, the loop falls behind the real time clock, then the generator will skip over the event to get back in sync with the real time clock. Thus the total number of iterations may be less than expected. This behavior is demonstrated in the following cell."
   ]
  },
  {
   "cell_type": "code",
   "execution_count": 8,
   "metadata": {},
   "outputs": [
    {
     "name": "stdout",
     "output_type": "stream",
     "text": [
      "0 sec.\n",
      "2.01 sec.\n",
      "4.02 sec.\n",
      "8.0 sec.\n",
      "10.01 sec.\n",
      "12.01 sec.\n"
     ]
    }
   ],
   "source": [
    "#from tclab import TCLab, clock\n",
    "\n",
    "#import time\n",
    "\n",
    "tfinal = 12\n",
    "tstep = 2\n",
    "for t in clock(tfinal, tstep):\n",
    "    print(t, \"sec.\")\n",
    "    \n",
    "    # insert a long time out between 3 and 5 seconds into the event loop\n",
    "    if (t > 3) and (t < 5):\n",
    "        time.sleep(2.2)"
   ]
  },
  {
   "cell_type": "markdown",
   "metadata": {},
   "source": [
    "### Step response using `clock` with TCLab"
   ]
  },
  {
   "cell_type": "markdown",
   "metadata": {},
   "source": [
    "For this exercise, write a code cell that turns on heater 1 at 50% power, then log the temperature response once per second for 600 seconds. The output of the cell should report the time, power level, and temperature for each measurement. You may wish to consult TCLab Python Package notebook for relevant code examples. You will need the clock function from tclab for this exercise.\n",
    "\n",
    "> Effectuez un relever de temperature sur 600s (période d'échantillonage de 1s) pour un échelon de puissance de 0 à 50% sur Q1. Affichez le résultat de mesure de température sur T1 et T2 à l'aide de la fonction `plt` de la librairie matplotlib."
   ]
  },
  {
   "cell_type": "code",
   "execution_count": 16,
   "metadata": {},
   "outputs": [
    {
     "name": "stdout",
     "output_type": "stream",
     "text": [
      "\n",
      "Turn Heater Q1 On\n",
      ".........................................................................................................................................................................................................................................................................................................................................................................................................................................................................................................................................................................................................................\n",
      "Turn Heater Q1 Off\n"
     ]
    },
    {
     "data": {
      "text/plain": [
       "0.0"
      ]
     },
     "execution_count": 16,
     "metadata": {},
     "output_type": "execute_result"
    }
   ],
   "source": [
    "#from tclab import TCLab, clock\n",
    "\n",
    "import matplotlib.pyplot as plt\n",
    "import numpy as np\n",
    "\n",
    "time = []\n",
    "Q1 = []\n",
    "T1 = []\n",
    "T2 = []\n",
    "\n",
    "print(\"\\nTurn Heater Q1 On\")\n",
    "lab.Q1(50)\n",
    "\n",
    "tfinal = 600\n",
    "tstep = 1\n",
    "\n",
    "for t in clock(tfinal, tstep):\n",
    "    print('.', end='')\n",
    "    time = time + [t]\n",
    "    T1 = T1 + [lab.T1]\n",
    "    T2 = T2 + [lab.T2]\n",
    "    Q1 = Q1 + [50]\n",
    "    \n",
    "print(\"\\nTurn Heater Q1 Off\")\n",
    "lab.Q1(0)"
   ]
  },
  {
   "cell_type": "markdown",
   "metadata": {},
   "source": [
    "Ici on affiche la courbe mesurée :"
   ]
  },
  {
   "cell_type": "code",
   "execution_count": 17,
   "metadata": {},
   "outputs": [
    {
     "data": {
      "image/png": "[encoded data removed]",
      "text/plain": [
       "<Figure size 640x480 with 1 Axes>"
      ]
     },
     "metadata": {},
     "output_type": "display_data"
    }
   ],
   "source": [
    "plt.plot(time, T1,'g-', label='T1')\n",
    "plt.plot(time, T2,'r-', label='T2')\n",
    "plt.xlabel('Time (s)')\n",
    "plt.ylabel('Temperature (°C)')\n",
    "plt.legend()\n",
    "plt.show()\n"
   ]
  },
  {
   "cell_type": "markdown",
   "metadata": {},
   "source": [
    "On peut également mettre cette courbe sous la forme d'un dataframe et l'enregistrer comme un fichier excel (.csv également possible)"
   ]
  },
  {
   "cell_type": "code",
   "execution_count": 22,
   "metadata": {},
   "outputs": [
    {
     "data": {
      "image/png": "[encoded data removed]",
      "text/plain": [
       "<Figure size 432x288 with 1 Axes>"
      ]
     },
     "metadata": {
      "needs_background": "light"
     },
     "output_type": "display_data"
    }
   ],
   "source": [
    "import pandas as pd\n",
    "\n",
    "# Creation du dataframe\n",
    "df = pd.DataFrame([time, T1, T2, Q1]).T\n",
    "df.columns = ['Time', 'T1', 'T2', 'Q1']\n",
    "df = df.set_index('Time')\n",
    "\n",
    "# Affichage du dataframe\n",
    "df.plot(grid=True)\n",
    "\n",
    "# Enregistrement sous la forme d'un ficher excel ou csv\n",
    "df.to_csv('Step_Test_Data.csv')\n"
   ]
  },
  {
   "cell_type": "code",
   "execution_count": null,
   "metadata": {},
   "outputs": [],
   "source": []
  }
 ],
 "metadata": {
  "kernelspec": {
   "display_name": "Python 3 (ipykernel)",
   "language": "python",
   "name": "python3"
  },
  "language_info": {
   "codemirror_mode": {
    "name": "ipython",
    "version": 3
   },
   "file_extension": ".py",
   "mimetype": "text/x-python",
   "name": "python",
   "nbconvert_exporter": "python",
   "pygments_lexer": "ipython3",
   "version": "3.9.13"
  }
 },
 "nbformat": 4,
 "nbformat_minor": 4
}
