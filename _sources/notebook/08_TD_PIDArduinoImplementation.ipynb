{
 "cells": [
  {
   "cell_type": "markdown",
   "id": "42c4eddf",
   "metadata": {},
   "source": [
    "# Digital controller: Arduino implementation"
   ]
  },
  {
   "cell_type": "markdown",
   "id": "d2690682",
   "metadata": {},
   "source": [
    "This tutorial aims to implement temperature control on the µ-controller of the TCLab board. The process will be carried out in the Arduino IDE and will involve the following stages:\n",
    "- analysing the proposed C code\n",
    "- implementing the previously defined numerical PID corrector\n",
    "- downloading the program into the Arduino µController for real testing.\n",
    "\n",
    "## PID controller\n",
    "\n",
    "The PID corrector will take the parrallel form:   \n",
    "$G_c(p)=k_p+\\frac{k_i}{p}+k_d p$  \n",
    "form and will be implemented as a recurrence equation:  \n",
    "$o_k = o_{k-1} + k_i e_k T_s + k_p (e_k-e_{k-1}) +  \\frac{k_d}{T_s}(e_k+ e_{k-2}-2e_{k-1})$    \n",
    "\n",
    "The PID algorithm functions best if it is evaluated at a regular interval but managing a call to exact timing can be complicated to implement. Instead, the sample time $T_s$ will be calculated at each step using a `millis()` time measurement function, as proposed by [Beauregard](http://brettbeauregard.com/blog/2011/04/improving-the-beginners-pid-introduction/):\n",
    "```\n",
    "   /*How long since we last calculated*/\n",
    "   unsigned long now = millis();\n",
    "   double timeChange = (double)(now - lastTime);\n",
    "   ```"
   ]
  },
  {
   "cell_type": "markdown",
   "id": "2eeba27e",
   "metadata": {},
   "source": [
    "## C code analysis\n",
    "\n",
    "We're going to work on an Arduino code that evolves from the [following code](./arduino/TCLab-sketch/TCLab-sketch.ino) already present on the TCLab board. We want to retain the ability to communicate with the board via the USB serial port.  But certain functions will evolve to enable us to include a temperature controller directly on the board, and to configure it.\n",
    "In particular, the following commands will be required:\n",
    "\n",
    "| Command | Action |\n",
    "|:-:|:--|\n",
    "  PIDON |  PID output active\n",
    "  PIDOFF |PID output inactive\n",
    "  T1ORDER float | set Temperature T1 order. Returns T1 value in °C.\n",
    "  PID_KP float | set Kp coefficient value.\n",
    "  PID_KI float | set Ki coefficient value\n",
    "  PID_KD float | set Kd coefficient value\n",
    "  PID_TS float | define time sample value\n",
    "  ECHOON | Active echo of PID status\n",
    "  ECHOOFF | Inactive PID echo state\n",
    "\n",
    "> **Exercice:** Analyze the code [here](./arduino/TCLab-PID-Student/TCLab-PID-Student.ino). Complete certain points:\n",
    "> - In the command management section, **complete the 'PIDON' command processing field**: declare the `PIDOn` variable as True, initialize the output and error memory variables to zero (`o_k_1`, `e_k_1`, `e_k_2`), and initialize the `lastTime` variable to the current time (use the `millis()` function), Send a response to the serial port indicating that the controller is active and recalling the corrector gain values. \n",
    "> - In the **setup section**, complete de PID initialisation with the following parameters: $k_p=10.336$, $k_i=0.063$, $k_d=0$, a `Setpoint` at 35°C, initialize the output and error memory variables to zero, eclare the `PIDOn` variable as False, a 'sampleTime' of 2000 ms.  \n",
    "\n",
    "To do this work, use the Arduino IDE 1.8 (installation [link](https://www.arduino.cc/en/software)).\n"
   ]
  },
  {
   "cell_type": "markdown",
   "id": "08603db8",
   "metadata": {},
   "source": [
    "## Arduino digital controller \n",
    "\n",
    "> **Exercice:** Complete the `ComputePID()` function of the C code with the:\n",
    "> - Compute of error variable `e_k`\n",
    "> - Compute of PID `Output` with recurrence equation\n",
    "> - Output variable limited to 100 \n",
    "> - Storage of certain variables for the next calculation step\n"
   ]
  },
  {
   "cell_type": "markdown",
   "id": "2dbfea6a",
   "metadata": {},
   "source": [
    "## Real tests\n",
    "\n",
    "Perform the following steps:  \n",
    "- **Select your board:** Go to the “Tools” computer menu from the menu bar. Select the “Board” option and another menu will appear, where you'll select your Arduino model (Leonardo) from the list.  \n",
    "- **Select your serial port:** Select the serial device of the Arduino board. Go to Tools, and then the serial port menu. You might see COM3 or higher (COM1 and COM2 are usually reserved for hardware serial ports).   \n",
    "- **Upload the program:** Confirm the Arduino is plugged in, and the green light is on - therefore the correct board and port is chosen. Select Upload from the Sketch drop-down menu. After a few seconds, you will get this screen, with the message \"Done uploading.\"   \n",
    "- **Activate the controller** and allow its status to be displayed: Go to Tools, and then the serial monitor. Type `PIDON` and `ECHOON`.\n",
    "- **Visualize controller behavior graphically**:  Go to Tools, and then the serial plotter. The Serial Plotter is a really useful tool for tracking your variables.  \n",
    "\n",
    "*Serial Plotter Tool:*  \n",
    "![SerialPlotter](./figures/SerialPlotter.PNG)\n"
   ]
  },
  {
   "cell_type": "code",
   "execution_count": null,
   "id": "66bb0fb6",
   "metadata": {},
   "outputs": [],
   "source": []
  }
 ],
 "metadata": {
  "kernelspec": {
   "display_name": "Python 3 (ipykernel)",
   "language": "python",
   "name": "python3"
  },
  "language_info": {
   "codemirror_mode": {
    "name": "ipython",
    "version": 3
   },
   "file_extension": ".py",
   "mimetype": "text/x-python",
   "name": "python",
   "nbconvert_exporter": "python",
   "pygments_lexer": "ipython3",
   "version": "3.9.13"
  }
 },
 "nbformat": 4,
 "nbformat_minor": 5
}
