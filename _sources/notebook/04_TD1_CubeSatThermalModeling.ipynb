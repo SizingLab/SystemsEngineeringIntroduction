{
 "cells": [
  {
   "cell_type": "markdown",
   "metadata": {},
   "source": [
    "# Thermal Model for CubeSat\n",
    "\n",
    "The aim of this tutorial is to set up a satellite thermal nodal model in order to assess the power requirements of the thermal control system."
   ]
  },
  {
   "cell_type": "markdown",
   "metadata": {},
   "source": [
    "##  Illumination of satellites\n",
    "\n",
    "Cubsat satellites are generally located in low earth orbit (LEO) at an altitude of between 400 and 600 km.  Their speed is very high, around 27500 km/h or 450 km/min or 7.6 km/s. One rotation around the Earth takes around 90 minutes, and is usually done along an axis perpendicular to the equator. There are therefore around 16 rotations in 24 hours. Their thermal behaviour is strongly influenced by solar radiation and the [Earth's shadows](http://sesp.esep.pro/fr/pages_nanosats/index.html). \n",
    "\n",
    "*Earth shadow:*\n",
    "![Earth shadow](./Figures/pression-radiation-solaire-zone-ombre.png)\n",
    "    "
   ]
  },
  {
   "cell_type": "markdown",
   "metadata": {},
   "source": [
    "## Two nodes thermal model\n",
    "\n",
    "The paper [[Rossi, 2013](#References)] outlines the creation of a Thermal Model Analysis for a CubeSat as based on the SwissCube's flight data from 2009 to 2012. The external faces and internal components of the CubeSat were simplified into two nodes of the aforementioned respective general locations, with the external node pertaining to a spherical surface representative of the six-phases of a CubeSat 1U at mean temperature, and the internal node being based on the thermally controlled battery pack. \n",
    "\n",
    "*SwissCube thermal model:* \n",
    "![SwissCubeThermalModel](./figures/SwissCubeThermalModel.PNG)\n",
    "\n",
    "The above illustrated figures show the simplified two node model defined to eventually simulate heat transfers between and within the internal and external references of a cube satellite (left), and the comparison or validation of the created thermal model by [[Rossi, 2013](#References)] as compared to the actual experimental data from the SwissCube satellite (right).\n",
    "\n",
    "The heat transfer in terms of conduction and radiation were analyzed with each node's interactions with the environment and with each other were taken into account with respect to the Fourier and Stefan-Boltzmann Equations, as well as Lambert's law, to ultimately arrive to the following equations:<br><br>\n",
    "[1] Solar Radiation: $$q_s=A_s\\alpha_sJ_s$$\n",
    "[2] Infrared from Earth: $$q_p=A_pF_{s-p}\\varepsilon\\sigma_nT_p^4$$\n",
    "[3] Albedo: $$q_a=A_pF_a\\alpha_sJ_sa$$\n",
    "[4] Radiation to Deep Space: $$q_r=A_r\\varepsilon\\sigma_nT^4$$<br>\n",
    "Among which the first three equations refer to heat input, and the last to heat output. Where $A$ generally refers to the area, $\\alpha$ the absorptivity, $J_s$ the Solar Constant mean value, $F$ the geometric view factor, $\\varepsilon$ the emmisivity, $\\sigma$ the Stefan-Boltzmann constant, and $T$ the absolute temperature. \n",
    "\n"
   ]
  },
  {
   "cell_type": "markdown",
   "metadata": {},
   "source": [
    "In a more general context, the following equation was used, and the coefficients K and R were derived from the assumption of two concentric nodal spheres with specified radii.<br><br>\n",
    "$C_i\\frac{dT_i}{dt}=\\sum_{i\\not=j}K_{ij}(T_j-T_i)+\\sum_{i\\not=j}R_{ij}(T_j^4-T_i^4)+q_i$, i,j=1,...,n$  \n",
    "\n",
    "$K=\\frac{4\\pi\\lambda r_{int}r_{ext}}{r_{ext}-r_{int}}$  \n",
    "$R=\\frac{4\\pi r_{int}^2}{\\frac{1}{\\varepsilon_{int}}+\\frac{1-\\varepsilon_{ext}}{\\varepsilon_{ext}}(\\frac{r_{int}}{r_{ext}})^2}$  \n",
    "\n",
    "$R_{int}$ and $\\lambda$ parameters was tuned given the flight data and theoretical values. The above figure shows the differential equation with respect to the evolution of time in the system. Overall, the simplified model was proven to be close and consistent in terms of slopes with regards to the actual flight data. To be able to use this lumped parameters model, it is necessary to adapt the value of the parameters to the configurations of interest.\n",
    "\n",
    "*Tuned SwissCube parameters:*\n",
    "<img src=\"./figures/SwissCubeParameters.png\" width=\"300\">\n"
   ]
  },
  {
   "cell_type": "code",
   "execution_count": 1,
   "metadata": {},
   "outputs": [],
   "source": [
    "import math  \n",
    "import numpy as np\n",
    "from scipy.integrate import odeint\n",
    "import matplotlib.pyplot as plt\n",
    "\n",
    "S = 0.06 # [m²] Cubesat surface\n",
    "A = 0.06462 # [m²] Total area for heat transfers\n",
    "A_s = 0.03231 # [m²] Area facing the sun\n",
    "A_p = 0.03231 # [m²] Area facing the planet\n",
    "A_r = 0.06462 # [m²] Radiating area\n",
    "F_sp = 0.5 # [-] view factor between CubeSat and the planet\n",
    "F_a = 0.5 # [-] view factor for the Albedo\n",
    "J_s = 1366 # [W/m²] Mean of the Sun Power\n",
    "E_ext = 0.9 # [-] Emissivity surface\n",
    "E_int = 0.8 # [-] Emissivity internal part\n",
    "SB_const = 5.67e-8 # [-] Stefan Boltzman constant\n",
    "a = 0.34 # [-] Mean albedo value\n",
    "T_p = 288 # [-] Planet temperature\n",
    "ABS_const = 0.65 # [K] Absorbance coefficient\n",
    "C_int = 80 # [J/K] Internal node capacity\n",
    "C_ext = 570  # [J/K] External node capacity\n",
    "HC = 0.25 # [W/mK] Heat conductivity\n",
    "T = 3 # [K] temperature for deep space\n",
    "\n",
    "q_p = A_p*F_sp*E_ext*SB_const*(T_p**4) # Planet radiation\n",
    "q_r = A_r*E_ext*SB_const*(T**4) # Deep space radiation"
   ]
  },
  {
   "cell_type": "markdown",
   "metadata": {},
   "source": [
    "## Modelica implementation\n",
    "\n",
    "The figure below shows a Modelica model implementing the various heat transfers described above. The time diagram opposite represents the temporal evolution of the two thermal capacities or nodes of this model.  \n",
    "\n",
    "*Modelica Model:*\n",
    "![Modelica model](./figures/2nodesModelicaModel.png)\n",
    "\n",
    "> Question: indicate the different phenomena represented by this model.\n"
   ]
  },
  {
   "cell_type": "markdown",
   "metadata": {},
   "source": [
    "## Thermal radiation\n",
    "\n",
    "Heat transfer between the internal and external parts of the satellite can also be achieved by radiative transfer. The  [[Rossi, 2013](#References)] paper assumes transfer between spheres. However, planar geometries may be more realistic, given the shape of the electronic boards that make up the satellites. \n",
    "\n",
    "*Effect of radiation surface form [[Cengel, 2003](#References)]*\n",
    "![Thermal radiation](./Figures/RadiationArea.png)\n",
    "\n",
    "The emissivity coefficient depends on the nature of the surfaces (paint function, for example) or on specfic interfaces such as MLI (Multi-layer insulation) blankets. Link to a [Data base of emissivity coefficients](https://www.design1st.com/Design-Resource-Library/engineering_data/ThermalEmissivityValues.pdf).\n"
   ]
  },
  {
   "cell_type": "code",
   "execution_count": 2,
   "metadata": {},
   "outputs": [],
   "source": [
    "# Radiation\n",
    "# R = (4*math.pi*(r_int**2)*SB_const)/((1/E_int)+(((1-E_ext)/E_ext)*((r_int/r_ext)**2)))\n",
    "\n",
    "R = 2*(70e-3*70e-3)*SB_const/(1/E_int+1/E_ext-1)\n"
   ]
  },
  {
   "cell_type": "markdown",
   "metadata": {},
   "source": [
    "## Thermal conductance\n",
    "\n",
    "The conductive heat transfer term depends on the nature and shape of the fasteners linking the cards to the satelitte structure. \n",
    "Nylon, invar or permaglass can be used to make cylinder-like spacers. \n",
    "\n",
    "| Material | Thermal conductivity |\n",
    "| --- | --- |\n",
    "| Nylon | 0.25 W/mK  |\n",
    "| Invar | 5.8 W/mK  |\n",
    "| Stainless steel | 14 W/mK | \n",
    "| Permaglass | 0.35 W/mK   |\n",
    "\n",
    "Note: Nylon has less mechanical strength at high temperatures. \n",
    "\n",
    "> **Question:** Suggest the expression for a conduction term $K$ corresponding to 4 spacers of diameter $D_{spacer}$ and length $L_{spacer}$."
   ]
  },
  {
   "cell_type": "code",
   "execution_count": 3,
   "metadata": {},
   "outputs": [],
   "source": [
    "# calculate this coefficient  assuming that the corresponding thermal resistance is due to spacers\n",
    "# Rth = L / kS\n",
    "Dspacer = 6e-3 # [m] spacer diameter\n",
    "Lspacer = 15e-3 # [m] length of a spacer\n",
    "Sspacer = 3.14*(Dspacer/2)**2 # [m²] area with diameter\n",
    "kspacer = 0.35 # [W/m/K] thermal conductivity\n",
    "\n",
    "nspacer = 4 # [-] spacers number\n",
    "\n",
    "Rth = Lspacer/kspacer/Sspacer\n",
    "K = nspacer/Rth"
   ]
  },
  {
   "cell_type": "markdown",
   "metadata": {},
   "source": [
    "## Thermal Capacitance\n",
    "\n",
    "The internal capacitance, assumed being 80 J/K in the paper, is mainly due to the battery pack. The [SwissCube Satellite](https://https://pw-sat.pl/wp-content/uploads/2014/07/PW-Sat2-A-03.00-EPS-PRR-EN-v1.1.pdf) utilized two (2) **Varta PoLiFlex LiPo [*Lithium Polymer*]** PLF503759 batteries with a maximum voltage of 4.2 V and a capacity of 1210 mAh of mass of 22.5 g, and dimensions of 58.7 x 5.2 x 37.0 mm (L-H-W). \n",
    "\n",
    "> *Question*: Evaluate the thermal capacitance of a battery pack composed of :\n",
    ">- 2 Varta cells\n",
    ">- One aluminum box (thickness 1mm)\n",
    ">- 1 mm thick epoxy resin\n",
    "\n",
    "with the assumptions:  \n",
    "$c_{lipo}=1000 J/(kg.K)$ and $m=22.5g$  \n",
    "$c_{alu}=896 J/(kg.K)$ and $\\rho_{alu}=2700 kg/m^3$     \n",
    "$c_{epoxy}=300 J/(kg.K)$ and $\\rho_{epoxy}=1440 kg/m^3$"
   ]
  },
  {
   "cell_type": "code",
   "execution_count": 6,
   "metadata": {
    "colab": {
     "base_uri": "https://localhost:8080/"
    },
    "executionInfo": {
     "elapsed": 6,
     "status": "ok",
     "timestamp": 1705675737607,
     "user": {
      "displayName": "Dona Marabe",
      "userId": "17734096341278022673"
     },
     "user_tz": -60
    },
    "id": "nquNMtsSpsbp",
    "outputId": "036a776d-b52d-4da4-a664-4749f8463892"
   },
   "outputs": [
    {
     "name": "stdout",
     "output_type": "stream",
     "text": [
      "C_th_total: 66.683376 J/K\n"
     ]
    }
   ],
   "source": [
    "c_lipo = 1000\n",
    "c_alu = 896\n",
    "c_epoxy = 300\n",
    "\n",
    "p_alu = 2.7\n",
    "p_epoxy = 1.44\n",
    "\n",
    "l = 1.17\n",
    "w = 3.9\n",
    "h = 6.6\n",
    "\n",
    "SA = (2*l*w) + (2*l*h) + (2*w*h)\n",
    "\n",
    "m_lipo = 22.5/1000\n",
    "m_alu = (2.7*0.1*SA)/1000\n",
    "m_epoxy = (1.44*0.1*SA)/1000\n",
    "\n",
    "C_th_tot = (2*c_lipo*m_lipo) + c_alu*m_alu + c_epoxy*m_epoxy\n",
    "print(\"C_th_total: \" + str(C_th_tot) +\" J/K\")\n"
   ]
  },
  {
   "cell_type": "markdown",
   "metadata": {},
   "source": [
    "## Python transient response\n",
    "\n",
    "The rest of the tutorial will enable you to obtain the same type Modelica result using a simulation based on Python."
   ]
  },
  {
   "cell_type": "code",
   "execution_count": 4,
   "metadata": {},
   "outputs": [
    {
     "name": "stdout",
     "output_type": "stream",
     "text": [
      "K: 0.0026376\n",
      "R: 4.0824e-10\n"
     ]
    },
    {
     "data": {
      "image/png": "[encoded data removed]",
      "text/plain": [
       "<Figure size 640x480 with 1 Axes>"
      ]
     },
     "metadata": {},
     "output_type": "display_data"
    },
    {
     "data": {
      "image/png": "[encoded data removed]",
      "text/plain": [
       "<Figure size 640x480 with 1 Axes>"
      ]
     },
     "metadata": {},
     "output_type": "display_data"
    }
   ],
   "source": [
    "#r_ext = math.sqrt(S/(4*math.pi))\n",
    "#r_int = 0.01\n",
    "\n",
    "# Conduction\n",
    "# K = -(4*math.pi*HC*r_ext*r_int)/(r_ext-r_int)*0+1\n",
    "\n",
    "def model(y,t):\n",
    "    global power\n",
    "    T1 = y[0] # Internal temperature\n",
    "    T2 = y[1] # External temperature\n",
    "\n",
    "    if t<35*60:\n",
    "      q_int = 0\n",
    "      q_s = A_s*ABS_const*J_s # Sun power\n",
    "      q_a = A_p*F_a*ABS_const*J_s*a # Albedo power\n",
    "    elif t<75*60:\n",
    "      q_int = 0\n",
    "      q_s = 0\n",
    "      q_a = 0\n",
    "    else:\n",
    "      q_int = 0\n",
    "      q_s = A_s*ABS_const*J_s\n",
    "      q_a = A_p*F_a*ABS_const*J_s*a\n",
    "\n",
    "    q_sp = A_p*F_sp*E_ext*SB_const*((T2+273.15)**4) # Satellite -> Planet radiation\n",
    "    q_sr = A_r*E_ext*SB_const*((T2+273.15)**4) # Satellite -> Space radiation \n",
    "\n",
    "    # Power exchange between external and internal node\n",
    "    Pint=(K*(T2-T1))+(R*((T2+273.15)**4-(T1+273.15)**4)) + q_int\n",
    "        #utilized q_int to keep heat target\n",
    "        #find a peak value for Power so it doesn't get too cold; hysterisis control\n",
    "    \n",
    "    # Internal temperature variation\n",
    "    dT1dt = Pint/C_int\n",
    "\n",
    "    # External temperature variation\n",
    "    dT2dt = ((K*((T1-T2)))+(R*((T1+273.15)**4-(T2+273.15)**4)) + q_s + q_p + q_a + q_r - q_sp - q_sr)/C_ext\n",
    "    \n",
    "    dydt = [dT1dt,dT2dt]\n",
    "\n",
    "    return dydt\n",
    "\n",
    "y0 = [0,5]\n",
    "t = np.linspace(0,90*60,1000)\n",
    "y = odeint(model,y0,t)\n",
    "\n",
    "print('K: ' + str(K))\n",
    "print('R: ' + str(R))\n",
    "\n",
    "plt.plot(t/60,y)\n",
    "plt.xlabel('Time [min]')\n",
    "plt.ylabel('Temperature [°C]')\n",
    "plt.show()\n",
    "\n",
    "T1=y[:,0]\n",
    "T2=y[:,1]\n",
    "Pint=K*(T2-T1)+R*((T2+273.15)**4-(T1+273.15)**4)\n",
    "\n",
    "plt.plot(t/60,Pint)\n",
    "plt.xlabel('Time [min]')\n",
    "plt.ylabel('Thermal Power [W]')\n",
    "plt.show()"
   ]
  },
  {
   "cell_type": "markdown",
   "metadata": {
    "id": "-BdznRS0LoKS"
   },
   "source": [
    "## Defining the power needs for a CubeSat Battery Pack Heating Solution\n"
   ]
  },
  {
   "cell_type": "code",
   "execution_count": null,
   "metadata": {
    "colab": {
     "base_uri": "https://localhost:8080/"
    },
    "executionInfo": {
     "elapsed": 337,
     "status": "ok",
     "timestamp": 1706641018052,
     "user": {
      "displayName": "Dona Marabe",
      "userId": "17734096341278022673"
     },
     "user_tz": -60
    },
    "id": "JvRvNiDylWMr",
    "outputId": "76d43d95-8ffb-4096-d5da-5786b44cb659"
   },
   "outputs": [],
   "source": [
    "# Computing for necessary resistance\n",
    "\n",
    "power_mW = 100  # Power in milliwatts\n",
    "voltage = 12  # Voltage of ideal batteries in volts\n",
    "\n",
    "# P = IV therefore I = P / V\n",
    "current = (power_mW / 1000) / voltage\n",
    "resistance = voltage / current\n",
    "\n",
    "print(\"Resistance (R):\", resistance, \"Ohms\")"
   ]
  },
  {
   "cell_type": "markdown",
   "metadata": {},
   "source": [
    "## Homework\n",
    "\n"
   ]
  },
  {
   "cell_type": "markdown",
   "metadata": {},
   "source": [
    "## References \n",
    "\n",
    "[Rossi, 2013] Rossi, S., & Ivanov, A. (2013). Thermal model for cubesat: A simple and easy model from the Swisscube’s thermal flight data. In *Proceedings of the International Astronautical Congress* (Vol. 13, pp. 9919-9928). [Link](https://www.researchgate.net/publication/299535685_THERMAL_MODEL_FOR_CUBESAT_A_SIMPLE_AND_EASY_MODEL_FROM_THE_SWISSCUBE%27S_THERMAL_FLIGHT_DATA)\n",
    "\n",
    "[Cengel, 2003] Cengel, A. (2003). Heht transfer. New York: McGraw-Hill."
   ]
  },
  {
   "cell_type": "code",
   "execution_count": null,
   "metadata": {},
   "outputs": [],
   "source": []
  }
 ],
 "metadata": {
  "colab": {
   "provenance": []
  },
  "kernelspec": {
   "display_name": "Python 3 (ipykernel)",
   "language": "python",
   "name": "python3"
  },
  "language_info": {
   "codemirror_mode": {
    "name": "ipython",
    "version": 3
   },
   "file_extension": ".py",
   "mimetype": "text/x-python",
   "name": "python",
   "nbconvert_exporter": "python",
   "pygments_lexer": "ipython3",
   "version": "3.9.13"
  }
 },
 "nbformat": 4,
 "nbformat_minor": 1
}
