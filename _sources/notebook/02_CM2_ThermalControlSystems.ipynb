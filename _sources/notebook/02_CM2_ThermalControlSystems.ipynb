{
 "cells": [
  {
   "cell_type": "markdown",
   "id": "0b900c8f",
   "metadata": {},
   "source": [
    "# Thermal Control System"
   ]
  },
  {
   "cell_type": "markdown",
   "id": "d45d392c",
   "metadata": {},
   "source": [
    "## Thermal control technologies\n",
    "\n",
    "To complement the conference, you can find an overview of cubesat's thermal control technologies in the book available [here](https://pressbooks-dev.oer.hawaii.edu/epet302/) in chapter 7.\n",
    "\n",
    "![Livre Cubesat](https://pressbooks-dev.oer.hawaii.edu/epet302/wp-content/uploads/sites/147/2022/09/Screenshot-2022-09-06-134408-350x451.png)\n"
   ]
  },
  {
   "cell_type": "markdown",
   "id": "c5239b93",
   "metadata": {},
   "source": [
    "## Cubesat thermal model\n",
    "\n",
    "The rest of the project requires a thermal model of the satellite to assess the heating requirements of the battery. The paper below:\n",
    "> Rossi, S., & Ivanov, A. (2013, September). Thermal model for cubesat: A simple and easy model from the Swisscube’s thermal flight data. In Proceedings of the International Astronautical Congress (Vol. 13, pp. 9919-9928). [Link](https://www.researchgate.net/publication/299535685_THERMAL_MODEL_FOR_CUBESAT_A_SIMPLE_AND_EASY_MODEL_FROM_THE_SWISSCUBE%27S_THERMAL_FLIGHT_DATA)  \n",
    "\n",
    "proposes a very simple 2-node model that can be used in the preliminary phase of a project.\n"
   ]
  },
  {
   "cell_type": "markdown",
   "id": "29301683",
   "metadata": {},
   "source": [
    "## Homework\n",
    "\n",
    ">- Propose a simple battery thermal control architecture. \n",
    ">- Read the following article in order to be able to carry out a thermal balance taking into account a nanosatellite and a subsystem such as a battery. \n"
   ]
  }
 ],
 "metadata": {
  "kernelspec": {
   "display_name": "Python 3 (ipykernel)",
   "language": "python",
   "name": "python3"
  },
  "language_info": {
   "codemirror_mode": {
    "name": "ipython",
    "version": 3
   },
   "file_extension": ".py",
   "mimetype": "text/x-python",
   "name": "python",
   "nbconvert_exporter": "python",
   "pygments_lexer": "ipython3",
   "version": "3.9.13"
  }
 },
 "nbformat": 4,
 "nbformat_minor": 5
}
