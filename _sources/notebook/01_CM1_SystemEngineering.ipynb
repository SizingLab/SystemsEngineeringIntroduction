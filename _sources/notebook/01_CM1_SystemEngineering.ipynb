{
 "cells": [
  {
   "cell_type": "markdown",
   "id": "f984ccb7",
   "metadata": {},
   "source": [
    "# System engineering\n",
    "\n",
    "- Cycle de conception d'un systeme complexe et d'un sous-système mécatronique. Ici exemple TVC Actuation System type VEGA pour illustrer le cours.   \n",
    "- Analyse du besoin --> exigences techniques : Scénarios, Diagramme d'environnement, Analyse fonctionnelle, Cahier des charges (methode APTE).\n",
    "- Architecture et conceptual design : importance de la fiabilité, redondance (old et new sapce) \n",
    "- Conception préliminaire : hardware () et software (model based design, rapid prototyping)\n",
    "- Vérification et validation : importance dans le domaine spatial\n",
    "- Homework :  Analyse du besoin --> exigences technique ==> preparer question lors conférence Yann Cervantes CNES pour pouvoir couvrir cette partie. "
   ]
  },
  {
   "cell_type": "markdown",
   "id": "15a631b2",
   "metadata": {},
   "source": [
    "# Systems and space systems\n",
    "\n",
    "\n",
    "Systems and space systems\n",
    "\n",
    "- definition d'un système\n",
    "- mécanique vers multitechnologie\n",
    "ingénieur mécanicien peut tout comprendre -> équipe d'ingenieur + ingénieur système\n",
    "- systèmes spatiaux et new space\n",
    "\n",
    "Amont\n",
    "Lanceurs\n",
    "https://www.latitude.eu\n",
    "Logistique dans l'espace (exotrail)\n",
    "\n",
    "Capsule (the exploration company)\n",
    "\n",
    "Voile solaire\n",
    "gamma\n",
    "\n",
    "Nanosatellite \n",
    "https://www.hemeria-group.com/wp-content/uploads/2022/05/NANOSAT_FR_2022.pdf\n",
    "\n",
    "Constellations\n",
    "https://www.kineis.com/iot-technologie/\n",
    "\n",
    "\n",
    "Aval\n",
    "https://www.naio-technologies.com/\n",
    "Autonome avec guidage et paramétrage des tâches par GNSS RTK. Système Naïo Core inclus\n",
    "\n",
    "\n",
    "- système cubesat : \n",
    "système breakdown\n",
    "\n",
    "Reseau de fournisseurs\n",
    "https://www.cubesatshop.com/\n",
    "\n",
    "Exemple de technologies :\n",
    "\n",
    "\n",
    "\n",
    "poussée ionique\n",
    "https://www.exotrail.com/\n",
    "https://comat.space/p/small-sat/fr-pjp-technology/\n",
    "\n",
    "Processus de conception\n",
    "\n",
    "Ingeniérie des exigences\n",
    ". Analyse du besoin\n",
    ". "
   ]
  }
 ],
 "metadata": {
  "kernelspec": {
   "display_name": "Python 3 (ipykernel)",
   "language": "python",
   "name": "python3"
  },
  "language_info": {
   "codemirror_mode": {
    "name": "ipython",
    "version": 3
   },
   "file_extension": ".py",
   "mimetype": "text/x-python",
   "name": "python",
   "nbconvert_exporter": "python",
   "pygments_lexer": "ipython3",
   "version": "3.9.13"
  }
 },
 "nbformat": 4,
 "nbformat_minor": 5
}
