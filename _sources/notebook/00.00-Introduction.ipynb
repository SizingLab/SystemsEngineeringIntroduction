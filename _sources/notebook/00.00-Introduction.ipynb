{
 "cells": [
  {
   "cell_type": "markdown",
   "id": "1bb6ba45",
   "metadata": {
    "id": "1bb6ba45"
   },
   "source": [
    "# System engineering introduction with a cubesat thermal control study case\n",
    "\n",
    "\n",
    "\n",
    "\n"
   ]
  },
  {
   "cell_type": "markdown",
   "id": "OklUiLnBFA6u",
   "metadata": {
    "id": "OklUiLnBFA6u"
   },
   "source": [
    "### Système étudié\n",
    "\n",
    "Les cubesat sont des nanosatellite utilisant des formats standardisés et des kits de sous-sytèmes techniques réutilisables fournis par un ecosystème d'entreprises et start-ups.\n",
    "Votre entreprise veut proposer des kits permettant le controle thermique des cubesat. Votre premier produit s'interessera aux applications nécessitant un réchauffement.\n",
    "\n",
    "![image](https://phxcubesat.asu.edu/sites/default/files/styles/panopoly_image_full/public/general/image_1.png?itok=QFqUmAUZ)\n",
    "\n",
    "\n",
    "\n",
    "### Sous-système ou produit à développer\n",
    "kit de controle en température d'éléments à réchauffer (batterie, liquid propellant, expérience scientifique, ...).\n",
    "\n",
    "![image](https://raw.githubusercontent.com/SizingLab/SystemsEngineeringIntroduction/main/figures/BatteryPack.PNG)\n",
    "\n",
    "![image](https://raw.githubusercontent.com/SizingLab/SystemsEngineeringIntroduction/main/figures/HeaterBatteryPack.PNG)"
   ]
  },
  {
   "cell_type": "markdown",
   "id": "7aquz1baHK_Z",
   "metadata": {
    "id": "7aquz1baHK_Z"
   },
   "source": [
    "### Tâches et attendus\n",
    "Vous aurez :\n",
    "- à adapter le kit aux besoins spécifiques des clients. Ces besoins seront capturés dans un formulaire spécifique .\n",
    "- proposer des éléments chauffants/capteurs adaptés aux besoins (conception préliminaire).\n",
    "- identifier rapidement la dynamique thermique du produit à partir d'une carte d'interface et d'un programme informatique sur PC\n",
    "- proposer une loi de commande validée par simulation et expérimentalement. Vous prouverez par simulation le robustesse de la loi de commande par rapport à des variations paramétriques correspondant à différents environnement de tests/qualification/utilisation. Vous quantifierez également les rejets de perturbation.\n",
    "- implementer la loi de commande sur un microcontroleur et un algorithme de monitoring (state flow) permettant la protection du sous-système à réchauffer.\n"
   ]
  },
  {
   "cell_type": "markdown",
   "id": "E8Oisw90HQ8q",
   "metadata": {
    "id": "E8Oisw90HQ8q"
   },
   "source": [
    "### Déliverables à fournir\n",
    "- Document de spécification (formulaire) permettant de définir les besoins en contrôle de température\n",
    "- Notebook de justification technique de la solution de rechauffage\n",
    "- Notebook d'identification et justification des lois de commande\n",
    "- Codes C 'arduino' d'implementation de la commande et du monitoring.  "
   ]
  },
  {
   "cell_type": "markdown",
   "id": "BXfwt_ReHWMH",
   "metadata": {
    "id": "BXfwt_ReHWMH"
   },
   "source": [
    "### Planning des séances\n",
    "\n",
    "20h de contact et 20 h de travail personnel distribué selon le planning suivant:\n",
    "\n",
    "\n",
    "**Part 1 : Specification and predesign**\n",
    "\n",
    "| Séance | Type | Durée | Moyen / Salle | Objectif |\n",
    "| -:- | -:- | -:- | -:- |-:- |\n",
    "|| CM | 1.25 h | amphi (EM) | System engineering approachs in satellite program |\n",
    "|| CM | 1.25 h | amphi (AM) | Thermal control subsystem requirement |\n",
    "|| Home | 2.5 h | | Document Reading (CubeSat) + First Specification document |\n",
    "|| CM | 1.25 h | amphi (AR) | Jupyter notebook et python (control, odeint, ...) |\n",
    "|| TD | 2.5h | salle TD (EM+AM+AR+ES)| Preliminary design |\n",
    "|| Home | 2.5h | | Specification document + widget de calcul |\n",
    "\n",
    "1er rendu\n",
    "\n",
    "**Part 2 : Control and software development**\n",
    "\n",
    "| Séance | Type | Durée | Moyen / Salle | Objectif |\n",
    "| -:- | -:- | -:- | -:- |-:- |\n",
    "|| CM | 1.25 h (AR ou Th. Rocacher ou LR) | Presentation carte TCLab +  microcontroleurs +  |\n",
    "|| TD | 2.5h | HIL + salle TD (AR+ES+AM+LR/GG) | Carte TClab et échelon d'identification |\n",
    "|| Home | 2.5h | | Identification d'un modèle (1er, 2nd ordre) pour la commande |\n",
    "|| TD | 2.5h | salle TD  (AR+ES+AM+LR/GG) | Commande et validation par simulation (carte TC Lab) |\n",
    "|| Home | 2.5h | | Commande et validation par simulation sur modèle linéarisé |\n",
    "|| TP | 3.75h | salle XAO (AR+ES+AM+LR + GG + MB + IH) | Prototypage de la commande (PID anti-windup) sur micro-controleur (python + arduino)|\n",
    "|| TP | 2.5h | salle HIL (AR+ES+AM+LR + GG + MB + IH) | Réponse à un nouveau besoin, TP exam|\n"
   ]
  },
  {
   "cell_type": "markdown",
   "id": "-DHucTlONem8",
   "metadata": {
    "id": "-DHucTlONem8"
   },
   "source": [
    "### Qui ? Pour quoi ?\n",
    "\n",
    "Volume d'heure global\n",
    "Nb de groupe de TD: 4\n",
    "Nb de groupe de TP: 8\n",
    "\n",
    "Compétences: Notebook Python\n",
    "\n",
    "Compétences: µcontroleurs Arduino\n",
    "\n"
   ]
  },
  {
   "cell_type": "code",
   "execution_count": null,
   "id": "4rlV5KvOYYSH",
   "metadata": {
    "id": "4rlV5KvOYYSH"
   },
   "outputs": [],
   "source": []
  }
 ],
 "metadata": {
  "colab": {
   "provenance": []
  },
  "kernelspec": {
   "display_name": "Python 3 (ipykernel)",
   "language": "python",
   "name": "python3"
  },
  "language_info": {
   "codemirror_mode": {
    "name": "ipython",
    "version": 3
   },
   "file_extension": ".py",
   "mimetype": "text/x-python",
   "name": "python",
   "nbconvert_exporter": "python",
   "pygments_lexer": "ipython3",
   "version": "3.9.13"
  }
 },
 "nbformat": 4,
 "nbformat_minor": 5
}
