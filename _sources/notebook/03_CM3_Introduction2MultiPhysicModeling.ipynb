{
 "cells": [
  {
   "cell_type": "markdown",
   "id": "828692c5",
   "metadata": {},
   "source": [
    "# Introduction to multiphysics modeling of sizing scenarios\n",
    "\n",
    "- Utilisation de la simulation pour dériver des exigences \n",
    "- Exemple sur un actionneur de tuyere : obtention des efforts et vitesses maximales\n",
    "- Utilisation de Modelica \n",
    "- Utilisation de Python : odeint\n"
   ]
  },
  {
   "cell_type": "markdown",
   "id": "4bdfb40b",
   "metadata": {},
   "source": [
    "## Sizing scenarios\n",
    "\n",
    "Exigences niveau fusée ont permis de générer \n",
    "des profils d'odre typiques de déplacement au niveau tuyere pour assurer \n",
    "ces profils pourront être utlisé sur bancs d'essais pour qualifier les performances du système réalisé\n",
    "\n",
    "\n",
    "des critères de rapidité\n",
    "72 ms de temps de réponse sur des petits niveaux\n",
    "\n",
    "The actuation system of the 1st stage of the launcher consists of a set of Lithium-ion batteries, a control unit (2 inverters and control/command electronics) and two electromechanical actuators (EMA). This set makes it possible to control the nozzle according to 2 axes of rotation. We will be interested here only in one axis axis of rotation and we will neglect the couplings between these 2 axes.\n"
   ]
  },
  {
   "cell_type": "markdown",
   "id": "b2f904e7",
   "metadata": {},
   "source": [
    "## Modèle à paramètres localisés d'une tuyère de fusée\n",
    "\n",
    "\n",
    "\n",
    "*P80 Nozzle (from [ESA presentation](http://www.ingaero.uniroma1.it/attachments/1609_VEGA%20%20sapienza%20small.pdf))*:\n",
    "![P80](./figures/nozzle.png)\n",
    "\n",
    "![P80 implantation](./figures/ImplantationNozzle.png)"
   ]
  },
  {
   "cell_type": "markdown",
   "id": "8089f799",
   "metadata": {},
   "source": [
    "\n",
    "\n",
    "Caractéristiques de la tuyère :\n",
    "Bras de levier\n",
    "1,5 m\n",
    "\n",
    "Inertie\n",
    "7800 kg.m²\n",
    "\n",
    "Raideur de la butée flexible\n",
    "49000 Nm/deg\n",
    "\n",
    "Amortissement de la butée flexible\n",
    "\n",
    "\n",
    "Modèle modélica\n",
    "\n",
    "1.\tUtilisez les composants mécaniques Modelica pour représenter la tuyère de la fusée en utilisant les données de la Figure 25. Le vérin hydraulique sera représenté ici sous la forme d’une source d’effort linéaire. \n",
    "2.\tDéterminez la force à appliquer pour obtenir une déflexion de 6°.Vérifiez par simulation (Figure 26a).\n",
    "3.\tImplémenter une boucle fermée idéale en position comme représenté Figure 26b. Simulez la réponse à un déplacement  de 2° à 3° en suivant la dynamique d’un second ordre d’amortissement 0.7 et de temps de réponse 72 ms.\n",
    "4.\tObservez la force et la vitesse à fournir par le vérin hydraulique pour pouvoir suivre ce profil de mission. Relevez les grandeurs maximales Fmax et vmax des efforts et vitesses qui peuvent être utilisées pour la sélection des composants. \n"
   ]
  },
  {
   "cell_type": "markdown",
   "id": "0568cf3a",
   "metadata": {},
   "source": [
    "Ingenieurs IS MBSE  --> Ingénieur Mecatronique Modelisaion Multiphysique\n"
   ]
  },
  {
   "cell_type": "code",
   "execution_count": null,
   "id": "ab66008e",
   "metadata": {},
   "outputs": [],
   "source": [
    "\n",
    "\n"
   ]
  },
  {
   "cell_type": "code",
   "execution_count": null,
   "id": "fcea2ccd",
   "metadata": {},
   "outputs": [],
   "source": []
  },
  {
   "cell_type": "markdown",
   "id": "a348a6f7",
   "metadata": {},
   "source": [
    "## References \n",
    "\n",
    "[Rossi, 2013] Rossi, S., & Ivanov, A. (2013). Thermal model for cubesat: A simple and easy model from the Swisscube’s thermal flight data. In *Proceedings of the International Astronautical Congress* (Vol. 13, pp. 9919-9928). [Link](https://www.nasa.gov/wp-content/uploads/2018/09/nasa_systems_engineering_handbook_0.pdf)\n"
   ]
  }
 ],
 "metadata": {
  "kernelspec": {
   "display_name": "Python 3 (ipykernel)",
   "language": "python",
   "name": "python3"
  },
  "language_info": {
   "codemirror_mode": {
    "name": "ipython",
    "version": 3
   },
   "file_extension": ".py",
   "mimetype": "text/x-python",
   "name": "python",
   "nbconvert_exporter": "python",
   "pygments_lexer": "ipython3",
   "version": "3.9.13"
  }
 },
 "nbformat": 4,
 "nbformat_minor": 5
}
