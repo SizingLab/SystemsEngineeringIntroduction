{
 "cells": [
  {
   "cell_type": "markdown",
   "id": "828692c5",
   "metadata": {},
   "source": [
    "# Introduction to multiphysics modeling of sizing scenarios\n",
    "\n",
    "- Utilisation de la simulation pour dériver des exigences \n",
    "- Exemple sur un actionneur de tuyere : obtention des efforts et vitesses maximales\n",
    "- Utilisation de Modelica \n",
    "- Utilisation de Python : odeint\n"
   ]
  },
  {
   "cell_type": "code",
   "execution_count": null,
   "id": "483bd356",
   "metadata": {},
   "outputs": [],
   "source": []
  }
 ],
 "metadata": {
  "kernelspec": {
   "display_name": "Python 3 (ipykernel)",
   "language": "python",
   "name": "python3"
  },
  "language_info": {
   "codemirror_mode": {
    "name": "ipython",
    "version": 3
   },
   "file_extension": ".py",
   "mimetype": "text/x-python",
   "name": "python",
   "nbconvert_exporter": "python",
   "pygments_lexer": "ipython3",
   "version": "3.9.13"
  }
 },
 "nbformat": 4,
 "nbformat_minor": 5
}
