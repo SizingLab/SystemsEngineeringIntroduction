{
 "cells": [
  {
   "cell_type": "markdown",
   "metadata": {
    "id": "K1CCAXw-Rivn"
   },
   "source": [
    "# Attitude control system"
   ]
  },
  {
   "cell_type": "markdown",
   "metadata": {
    "id": "PfrkuB7YRldL"
   },
   "source": [
    "## Attitude control\n",
    "\n",
    "The attitude control system stabilizes the satellite, ensuring accurate positioning for communication and observation, controls orbital maneuvers, and maintains proper alignment of antennas and sensors, thereby enhancing operational efficiency and mission success. We will be looking at attitude control of a CubeSat along one axis.\n",
    "\n",
    "![3U Cubesat](./Image/AttitudeControl3U.png)"
   ]
  },
  {
   "cell_type": "markdown",
   "metadata": {},
   "source": [
    "## Reaction wheel\n",
    "\n",
    "Nanosatellites, such as CubeSats, employ various technologies for attitude control. Reaction wheels and magnetorquers are common actuators, with reaction wheels providing precise control through momentum exchange and magnetorquers interacting with Earth's magnetic field for torque generation. \n",
    "\n",
    "![Reaction Wheel](./Image/reactionwheel.png)\n",
    "\n",
    "\n",
    "A reaction wheel consists of several key components:\n",
    "-\t**Flywheel:** A disk or wheel with significant mass, designed to spin at high speeds to generate angular momentum for controlling the satellite's orientation.\n",
    "-\t**Electric Motor:** Typically a brushless DC motor, it drives the flywheel to spin at varying speeds in response to control commands.\n",
    "-\t**Motor Controller:** An electronic circuit that regulates the motor's torque, speed and direction, allowing precise control of the flywheel's rotation.\n",
    "-\t**Sensors:** Devices such as gyrometer and magnetometer that monitor the cubesat rotational speed and position, providing feedback to the control system for precise adjustments.\n",
    "These components work together to enable the reaction wheel to effectively manage the satellite's attitude by altering its rotational velocity. "
   ]
  },
  {
   "cell_type": "markdown",
   "metadata": {},
   "source": [
    "## Question\n",
    "\n",
    "> Represent a reaction wheel as an IBD (Internal Block Diagram) with the elements of information processing and power transmission."
   ]
  },
  {
   "cell_type": "markdown",
   "metadata": {},
   "source": [
    "## Objectives\n",
    "\n",
    "In this project, we will study a model representing a CubeSat and a reaction wheel. The objectives are as follows:\n",
    "- Understand the architecture and operation of a Cubesat and its attitude control.\n",
    "- Represent and simulate a multiphysics model\n",
    "- Propose a position control system using a sensor and an actuator\n",
    "- Implement a numerical algorithm for Cubesat position control."
   ]
  }
 ],
 "metadata": {
  "colab": {
   "provenance": []
  },
  "kernelspec": {
   "display_name": "Python 3 (ipykernel)",
   "language": "python",
   "name": "python3"
  },
  "language_info": {
   "codemirror_mode": {
    "name": "ipython",
    "version": 3
   },
   "file_extension": ".py",
   "mimetype": "text/x-python",
   "name": "python",
   "nbconvert_exporter": "python",
   "pygments_lexer": "ipython3",
   "version": "3.9.13"
  }
 },
 "nbformat": 4,
 "nbformat_minor": 1
}
