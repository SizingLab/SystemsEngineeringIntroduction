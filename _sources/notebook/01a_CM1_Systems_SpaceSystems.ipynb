{
 "cells": [
  {
   "cell_type": "markdown",
   "id": "f984ccb7",
   "metadata": {},
   "source": [
    "# Systems, complex technological systems and space systems\n",
    "\n",
    "- Notion de système : évolution historique, définition, technologies\n",
    "- Systèmes spatiaux, new space et cubesat\n",
    "- Description d'architecture, interfaces\n",
    "- Cas d'étude : TMS de cubesat, application au contrôle thermique de batterie\n",
    "- Homework : analyse d'entreprise dans le domaine du new space, de besoins TMS (hardware, software, service) et definition d'interfaces. Préparation d'un pitch de positionnement d'une entrepise du newspace"
   ]
  },
  {
   "cell_type": "markdown",
   "id": "256f5cfc",
   "metadata": {},
   "source": [
    "## Systems\n",
    "\n",
    "### From mechanical systems to complex technological systems\n",
    "\n",
    "Many mechanical systems have evolved into complex technological systems.\n",
    "\n",
    "> Under each figure, answer the following questions:  \n",
    ">- What are their functions, performance and reliability?  \n",
    ">- What technical fields are needed to design them?    \n",
    ">- Which engineers?  \n",
    "\n",
    "![Mechanical Systems](./figures/MechanicalSystems.png)  \n",
    "\n",
    "![Complex Systems](./figures/ComplexSystems.png)  \n"
   ]
  },
  {
   "cell_type": "markdown",
   "id": "8b905fb8",
   "metadata": {},
   "source": [
    "The car is typical of this evolution in technological systems.\n",
    "\n",
    "![Complex Systems](./figures/ElectricAutomotive.png)\n",
    "\n",
    ":::{dropdown} Description  \n",
    ":open:  \n",
    "**Electronic and computer technologies** have been integrated into combustion-powered vehicles:\n",
    "- 10 circuits (electrical and fluids)\n",
    "- 12% value = IT, > 25 computers per vehicle\n",
    "- 30% value other than mechanical \n",
    "\n",
    "**New architectures** are seeing a multiplication of functions:\n",
    "- GPS, Mobile, Multimedia\n",
    "- Active safety (ABS, ESP, lane tracking, ADAS)\n",
    "\n",
    "**Power electronics, electric motors and electrochemical technologies** are playing an increasingly important role in:\n",
    "- Driving assistance: electric steering, variable assistance and gear ratios\n",
    "- Propulsion systems: hybrid and electric\n",
    "- Energy storage: the price of the battery can represent 40 to 50% of the total price of the vehicle.\n",
    ":::"
   ]
  },
  {
   "cell_type": "markdown",
   "id": "faacbec7",
   "metadata": {},
   "source": [
    "### System definition   \n",
    "The System Engineering Handbook of NASA define a system [[Nasa, 2017](#References)] as:   \n",
    "> A **“system”** is the *combination of elements* that function together to produce the capability required to *meet a need*. The elements include all *hardware, software*, equipment, facilities, personnel, processes, and procedures needed for this purpose; that is, all things required to produce system-level results. [...] The value added by the system as a whole, beyond that contributed independently by the parts, is primarily created by the *relationship among the parts*; that is, *how they are interconnected*.\n",
    "\n",
    "The aim of this teaching module is to introduce you to the approaches needed to design a system, particularly with regard to the following aspects:    \n",
    "-*meet a need*: functional analysis, preliminary design    \n",
    "-*hardware, software*: mechatronic and electronic technology, programming   \n",
    "-*how they are interconnected*: architecture, system simulation  \n",
    "through a **space subsystem**."
   ]
  },
  {
   "cell_type": "markdown",
   "id": "15a631b2",
   "metadata": {},
   "source": [
    "### Space systems in new Space\n",
    "\n",
    "NewSpace refers to the emergence of a private-initiative space industry at the beginning of the 21st century, stimulated by certain governments to strengthen international competitiveness while guaranteeing strategic independence in key sectors. \n",
    "\n",
    "> **Note:** [Connect by CNES](https://www.connectbycnes.fr/) is a CNES field programme launched in 2016 to support the development of new space in France.\n",
    "\n",
    "![Complex Systems](./figures/ConnectByCnes.png)\n",
    "\n",
    "NewSpace concern in particular a group of relatively new aerospace companies working to develop low-cost, public access to space exploration and space applications:  \n",
    "\n",
    "- new naunchers: https://www.latitude.eu\n",
    "- space logistics: \n",
    "Logistique dans l'espace (exotrail)\n",
    "\n",
    "Capsule (the exploration company)\n",
    "\n",
    "- Nanosatellites constellations: \n",
    "https://www.hemeria-group.com/wp-content/uploads/2022/05/NANOSAT_FR_2022.pdf\n",
    "- Constellations\n",
    "https://www.kineis.com/iot-technologie/\n",
    "\n",
    "\n",
    "Aval\n",
    "https://www.naio-technologies.com/\n",
    "Autonome avec guidage et paramétrage des tâches par GNSS RTK. Système Naïo Core inclus\n",
    "\n"
   ]
  },
  {
   "cell_type": "markdown",
   "id": "711973f3",
   "metadata": {},
   "source": [
    "### Cubesat platform\n",
    "- système cubesat : \n",
    "système breakdown\n",
    "\n",
    "Reseau de fournisseurs\n",
    "https://www.cubesatshop.com/\n",
    "\n",
    "Exemple de technologies :\n",
    "\n",
    "\n",
    "\n",
    "poussée ionique\n",
    "https://www.exotrail.com/\n",
    "https://comat.space/p/small-sat/fr-pjp-technology/\n",
    "\n",
    "Processus de conception\n",
    "\n",
    "Ingeniérie des exigences\n",
    ". Analyse du besoin\n",
    ". "
   ]
  },
  {
   "cell_type": "markdown",
   "id": "addeeea3",
   "metadata": {},
   "source": [
    "### References \n",
    "\n",
    "[Nasa, 2017] Hirshorn, S. R., Voss, L. D., & Bromley, L. K. (2017). Nasa systems engineering handbook (No. HQ-E-DAA-TN38707). [Link](https://www.nasa.gov/wp-content/uploads/2018/09/nasa_systems_engineering_handbook_0.pdf)\n",
    "\n",
    "https://www.nasa.gov/wp-content/uploads/2017/03/nasa_csli_cubesat_101_508.pdf\n",
    "\n"
   ]
  },
  {
   "cell_type": "code",
   "execution_count": null,
   "id": "f6ffb6fe",
   "metadata": {},
   "outputs": [],
   "source": []
  }
 ],
 "metadata": {
  "kernelspec": {
   "display_name": "Python 3 (ipykernel)",
   "language": "python",
   "name": "python3"
  },
  "language_info": {
   "codemirror_mode": {
    "name": "ipython",
    "version": 3
   },
   "file_extension": ".py",
   "mimetype": "text/x-python",
   "name": "python",
   "nbconvert_exporter": "python",
   "pygments_lexer": "ipython3",
   "version": "3.9.13"
  }
 },
 "nbformat": 4,
 "nbformat_minor": 5
}
