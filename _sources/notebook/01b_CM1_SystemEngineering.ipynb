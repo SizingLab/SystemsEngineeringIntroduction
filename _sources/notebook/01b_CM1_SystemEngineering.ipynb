{
 "cells": [
  {
   "cell_type": "markdown",
   "id": "f984ccb7",
   "metadata": {},
   "source": [
    "# System engineering\n",
    "\n",
    "- Cycle de conception d'un systeme complexe et d'un sous-système mécatronique. Ici exemple TVC Actuation System type VEGA pour illustrer le cours.   \n",
    "- Analyse du besoin --> exigences techniques : Scénarios, Diagramme d'environnement, Analyse fonctionnelle, Cahier des charges (methode APTE).\n",
    "- Architecture et conceptual design : importance de la fiabilité, redondance (old et new sapce) \n",
    "- Conception préliminaire : hardware () et software (model based design, rapid prototyping)\n",
    "- Vérification et validation : importance dans le domaine spatial\n"
   ]
  },
  {
   "cell_type": "markdown",
   "id": "c74c0819",
   "metadata": {},
   "source": [
    "Figure below illustrates the complete lifecycle of a complex technological system. Differents standards define the interdisciplinary tasks required to transform needs, requirements and constraints encountered. We will focus in this lecture on the first step: the system definition.\n",
    "\n",
    "![System lifecycle](./figures/SystemEngineeringStandards.png)"
   ]
  },
  {
   "cell_type": "markdown",
   "id": "255e72d9",
   "metadata": {},
   "source": [
    "## System design process\n",
    "\n",
    "The NASA System Engineering Handbook [[NASA, 2017](#References)] distingues four system design processes enabling the system definition: developing stakeholder expectations, technical requirements, logical decompositions, and design solutions. These system design processes are interdependent, highly iterative and recursive processes resulting on the different systems, subsystems in a validated set of requirements and a design solution that satisfies a set of stakeholder expectations.  \n",
    "\n",
    "![System design process](./figures/NasaDesignProcess.PNG)\n"
   ]
  },
  {
   "cell_type": "markdown",
   "id": "8c5ee1df",
   "metadata": {},
   "source": [
    "Graphical representation tools can be uses for theses processes:\n",
    "- Those of the APTE method [[Audry, 2010](#References)]  derived from value analysis applied to the redesign of technical systems. \n",
    "- The SYSML language, which offers a wide range of diagrams for representing technological or IT systems.\n",
    "\n",
    "We will follow the theses processes on a example of a space sub-system: the rocket nozzle thrust vector control actuation system. The actuation system of the 1st stage of a launcher consists of two actuators used to control the nozzle according to 2 axes of rotation. \n",
    "\n",
    "*Vega Launcher 1st stage (P80) (from [ESA presentation](http://www.ingaero.uniroma1.it/attachments/1609_VEGA%20%20sapienza%20small.pdf)):*  \n",
    "![Vega 1st stage](./figures/P80_stage1.png)\n"
   ]
  },
  {
   "cell_type": "markdown",
   "id": "106f12b1",
   "metadata": {},
   "source": [
    "## Stakeholders expectations\n",
    "\n",
    "### Fundamental need\n",
    "\n",
    "The objective is first to understand the fundamental need justifying the development of the system studied. This can be done by answering the questions:\n",
    "- Who does it serve? À qui le Produit rend-il service ?\n",
    "- Who does it affect? Sur quoi le Produit agit-il ? \n",
    "- \"For what purpose\" (what for?) « Dans quel but ? » (pour_quoi faire ?) \n",
    "\n",
    ":::{dropdown} Thrust Vector Control Actuation System, fundamental need:\n",
    ":closed\n",
    "- Who does it serve? À qui le Produit rend-il service ?\n",
    "*The launcher flight control system*\n",
    "\n",
    "- Who does it affect? Sur quoi le Produit agit-il ? \n",
    "*The system acts on the nozzle*\n",
    "\n",
    "- \"For what purpose\" (what for?) « Dans quel but ? » (pour_quoi faire ?) \n",
    "*To control the angular velocities of the vehicle*\n",
    ":::\n",
    "\n",
    "### Life cycle analysis\n",
    "An analysis of the various life phases can help to determine which of them may have a significant influence on the solution finally developed. \n",
    "Examples of life phases: \n",
    "\n",
    "|   |   |\n",
    "|:-:|:-:|\n",
    "design |normal (primary) use\n",
    "manufacturing |normal use (secondary)\n",
    "metrology / integration testing |abnormal use (degraded mode)\n",
    "packaging |maintenance\n",
    "transportation |non-use\n",
    "marketing |storage\n",
    "assembly |repackaging\n",
    "installation / implementation |updating\n",
    "validation |recycling / destruction\n",
    "\n",
    ":::{dropdown} The main ones or Concept of Operations (ConOps) scenarios for our example are:\n",
    ":closed\n",
    "- Qualification tests \n",
    "- The operating phase from take-off to separation of the propulsion stage\n",
    "- Recovery and return to service\n",
    ":::\n"
   ]
  },
  {
   "cell_type": "markdown",
   "id": "acf9ae02",
   "metadata": {},
   "source": [
    "### System boundaries definition \n",
    "\n",
    "It is also important to define the boundaries of the system under study. This will make it possible to \n",
    "define: \n",
    "- what is imposed = the external elements with which the system will interact\n",
    "- on what the designer can act = the system\n",
    "\n",
    "\n",
    ":::{dropdown} Main interfaces of the TVC system:\n",
    ":closed\n",
    "- The system will be self-sufficient in energy = no power interface\n",
    "- It will communicate with the rocket controller via a data bus = data communication interfaces\n",
    "- It will be mechanically connected to the nozzle and skirt of the lquncher stage = structural interfaces\n",
    ":::"
   ]
  },
  {
   "cell_type": "markdown",
   "id": "dd3ced0d",
   "metadata": {},
   "source": [
    "## Requirements Definition\n",
    "By analysing each life phase, we can determine all the service functions and constraints.\n",
    "\n",
    "Definition\n",
    "Main or Service function \n",
    "Constraint function \n",
    "\n",
    "Notation\n",
    "According to APTE method\n",
    "une fonction se compose d'un verbe ou d'un groupe verbal caractérisant l'action, et de compléments représentant les éléments du milieu extérieur concernés par la fonction. Le sujet de la phrase n'apparait pas, mais il renvoie toujours au produit.\n",
    "\n",
    "\n",
    "According to nasa handbook\n",
    "The requirement is in the form “product ABC shall XYZ.” A requirement should state “The product shall” (do, perform, provide, weigh, or other verb) followed by a description of what should be done.\n",
    " \n",
    "\n",
    "These functions make up the functional specifications. There are different specifications depending on the design stage. \n",
    "\n",
    "Requirements specification\n",
    "Independent of the solution and technological choices. \n",
    "Avoid influencing the designers or sub-contractors and focus on the fundamental need to be met.\n",
    "\n",
    "Technological specifications\n",
    "The choice of solution can lead to additional functions or requirements.\n",
    "\n",
    "For example, an elctromechanical solution is required in a thermal environment.\n"
   ]
  },
  {
   "cell_type": "markdown",
   "id": "20b15e5c",
   "metadata": {},
   "source": [
    "### Logical definition\n",
    "\n"
   ]
  },
  {
   "cell_type": "markdown",
   "id": "b816a77d",
   "metadata": {},
   "source": [
    "## Homework\n",
    "\n",
    "Homework :  Analyse du besoin --> exigences technique ==> preparer question lors conférence Yann Cervantes CNES pour pouvoir couvrir cette partie. \n",
    ">- \n",
    ">- Study the requirements for Thermal Managment Systems for CubeSats.  \n",
    ">-"
   ]
  },
  {
   "cell_type": "markdown",
   "id": "3ce5a85a",
   "metadata": {},
   "source": [
    "## References \n",
    "\n",
    "[Nasa, 2017] Hirshorn, S. R., Voss, L. D., & Bromley, L. K. (2017). Nasa systems engineering handbook (No. HQ-E-DAA-TN38707). [Link](https://www.nasa.gov/wp-content/uploads/2018/09/nasa_systems_engineering_handbook_0.pdf)\n",
    "\n",
    "[Rossi, 2013] Rossi, S., & Ivanov, A. (2013). Thermal model for cubesat: A simple and easy model from the Swisscube’s thermal flight data. In *Proceedings of the International Astronautical Congress* (Vol. 13, pp. 9919-9928). [Link](https://www.nasa.gov/wp-content/uploads/2018/09/nasa_systems_engineering_handbook_0.pdf)\n",
    "\n",
    "[Audry, 2010] Audry, M. F. (2010). La démarche d’analyse fonctionnelle. Académie de Versailles. [Link](https://sti.ac-versailles.fr/IMG/pdf/analyse_fonctionnelle_guide_pour_le_professeur-2.pdf)"
   ]
  },
  {
   "cell_type": "code",
   "execution_count": null,
   "id": "8b09e327",
   "metadata": {},
   "outputs": [],
   "source": []
  }
 ],
 "metadata": {
  "kernelspec": {
   "display_name": "Python 3 (ipykernel)",
   "language": "python",
   "name": "python3"
  },
  "language_info": {
   "codemirror_mode": {
    "name": "ipython",
    "version": 3
   },
   "file_extension": ".py",
   "mimetype": "text/x-python",
   "name": "python",
   "nbconvert_exporter": "python",
   "pygments_lexer": "ipython3",
   "version": "3.9.13"
  }
 },
 "nbformat": 4,
 "nbformat_minor": 5
}
