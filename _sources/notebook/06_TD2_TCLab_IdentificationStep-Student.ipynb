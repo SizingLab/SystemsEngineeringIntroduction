{
 "cells": [
  {
   "cell_type": "markdown",
   "metadata": {},
   "source": [
    "# Temperature Control Lab, step identification\n",
    "\n",
    "The [temperature control lab](https://apmonitor.com/pdc/index.php/Main/ArduinoTemperatureControl) or TCLab is a laboratory device used for thermal projects. It can be used to simulate and develop thermal control and regulation systems. The TCLab features a feedback control application with an Arduino, an LED, 2 heaters and 2 temperature sensors:  \n",
    "- one heater will represent the TCS heating elements used for temperature control. \n",
    "- another will represent external disturbances such as solar radiation in the Cubesat application.\n",
    "\n",
    "During this tutorial we will start using this card and carry out temperature measurements on control steps. The aim is to identify a dynamic model that can be used to synthesise the control."
   ]
  },
  {
   "cell_type": "markdown",
   "metadata": {},
   "source": [
    "## The TCLab Arduino Package\n",
    "\n",
    "The Temperature Control Laboratory hardware consists of five components:\n",
    "\n",
    "1. Arduino microcontroller board (Arduino Uno, Arduino Leonardo, or equivalents).\n",
    "\n",
    "2. The Temperature Control Laboratory plug-in board (also known as a shield).\n",
    "\n",
    "3. Five watt USB power supply.\n",
    "\n",
    "4. 5.5mm to USB power supply cable.\n",
    "\n",
    "5. USB 2.0 data cable. (w/mini-USB connector for Arduino Uno, or micro-USB cable for Arduino \n",
    "Leonardo.)\n",
    "\n",
    "*TCLab kit:*\n",
    "![TCLab](figures/B.00-arduino_lab_kit.png)\n",
    "\n",
    "#### The main TCLab components\n",
    "Thermistors: These are temperature sensors, there are two thermistors on a TCLab to measure at two different points.\n",
    "The TCLab is equipped with 2 heaters to heat the system for temperature control experiments.\n",
    "#### Assembly \n",
    "The TCLab is attached to the inputs of the arduino board (sort of metal teeth), then a blue cable connects the micro USB type B port on the arduino board to the USBA port on the PC. The TCLab is powered via the mains and its DC power port.\n",
    "#### Setup\n",
    "Before going further, be sure to complete the steps outlined under *Hardware setup* as described in TCLab [README](https://github.com/jckantor/TCLab/blob/master/README.rst). Mac OS users may need to install a serial driver available [here](https://github.com/adrianmihalko/ch340g-ch34g-ch34x-mac-os-x-driver). Normally the TCLab shield will already be mounted on the Arduino board, and the firmware driver will have been loaded on to the Arduino.\n",
    "\n"
   ]
  },
  {
   "cell_type": "markdown",
   "metadata": {},
   "source": [
    "## Getting to grips with the Arduino code\n",
    "\n",
    "The Arduino sketch, when downloaded and installed on a compatible Arduino device, supports the Temperature Control Lab. The sketch is used in conjunction with the compatible Python library TCLab for programmable control of the Temperature Control Lab with Python via Python Serial library.\n",
    "\n",
    "> Read the Arduino .ino code in C language from the file [here](https://github.com/jckantor/TCLab-sketch/blob/master/TCLab-sketch/TCLab-sketch.ino). Describe its structure and, in particular, its temporal execution. Copy below the part of the code that initalises the microntroleur at start-up, as well as the main loop.  \n",
    "\n",
    "**Note:** For a better understanding, read the following page [Basic structure of an arduino code](https://catsr.vse.gmu.edu/SYST460/Intro%20to%20Arduino%20Programming.pdf)"
   ]
  },
  {
   "cell_type": "markdown",
   "metadata": {
    "slideshow": {
     "slide_type": "slide"
    }
   },
   "source": [
    ":::{dropdown} Answers  \n",
    "`setup()`: The setup function starts configurations with analogReference(EXTERNAL), then initializes serial communication using Serial.begin(baud) where baud is the communication speed. There is a while() that waits for serial communication to be established. This empty loop is necessary to ensure that the program doesn't try to communicate via the serial port until it's ready. \n",
    "The pinQ1 and pinQ2 outputs are initialized to a value of 0 using analogWrite, which initially switches off the 2 radiators. \n",
    "\n",
    "```\n",
    "// arduino startup\n",
    "void setup() {\n",
    "  analogReference(EXTERNAL);\n",
    "  Serial.begin(baud); \n",
    "  while (!Serial) {\n",
    "    ; // wait for serial port to connect.\n",
    "  }\n",
    "  analogWrite(pinQ1, 0);\n",
    "  analogWrite(pinQ2, 0);\n",
    "}\n",
    "```\n",
    "\n",
    "`loop()`: This function is the main execution function and is executed in a loop, at each iteration of the loop it calls parseSerial() to analyze the data received via the serial port, then it calls dispatchCommand() to execute the commands. The checkTemp() function is written as a comment and is inactive.\n",
    " \n",
    "``` \n",
    "// arduino main event loop\n",
    "void loop() {\n",
    "  parseSerial();\n",
    "  dispatchCommand();\n",
    "  //checkTemp();\n",
    "}\n",
    "```\n",
    ":::"
   ]
  },
  {
   "cell_type": "markdown",
   "metadata": {},
   "source": [
    "### Compiling and uploading code to an Arduino microcontroller\n",
    "\n",
    "Complete the following steps:\n",
    "- Install Arduino software (if not done)\n",
    "- If necessary upload the TClab [TCLab-sketch.ino](https://github.com/jckantor/TCLab-sketch/blob/master/TCLab-sketch/TCLab-sketch.ino) code in the Arduino microcontroller (select the right Arduino card before with `Tools/Card` the right card type)\n",
    "- Select the communication port `Tools/Port`\n",
    "- Open the serial monitor `Tools/Serial Monitor`  \n"
   ]
  },
  {
   "cell_type": "markdown",
   "metadata": {},
   "source": [
    "### Reading Temperatures with serial monitor\n",
    "\n",
    "The temperature sensors on the temperature control lab can be acccessed with the attributes `T1` and `T2`.  \n",
    "> In the serial monitor, send orders `T1` and `T2` what do you observe? Can you find the corresponding part of the code? "
   ]
  },
  {
   "cell_type": "markdown",
   "metadata": {},
   "source": [
    ":::{dropdown} Answers  \n",
    "\n",
    "The `dispatchcommand()` function in the main execution loop executes commands (cmd) received over the serial link from the serial monitor or the python environment. \n",
    "\n",
    "```\n",
    "void dispatchCommand(void) {\n",
    "[...]\n",
    "  else if (cmd == \"T1\") {\n",
    "    sendFloatResponse(readTemperature(pinT1));\n",
    "  }\n",
    "[...]\n",
    "  else if (cmd == \"T2\") {\n",
    "    sendFloatResponse(readTemperature(pinT2));\n",
    "  }\n",
    "```\n",
    "\n",
    "In our case, it executes commands T1 or T2 and calls the functions below: \n",
    "- Reading an analogue input with analogue-to-digital conversion and scaling. Averaging several acquisitions reduces sensitivity to measurement noise. \n",
    "\n",
    "``` \n",
    "// return average  of n reads of thermister temperature in °C\n",
    "inline float readTemperature(int pin) {\n",
    "  float degC = 0.0;\n",
    "  for (int i = 0; i < n; i++) {\n",
    "    degC += analogRead(pin) * 0.322265625 - 50.0;    // use for 3.3v AREF\n",
    "    //degC += analogRead(pin) * 0.170898438 - 50.0;  // use for 1.75v AREF\n",
    "  }\n",
    "  return degC / float(n);\n",
    "}\n",
    "```\n",
    "\n",
    "- The averaged value is sent via the serial link. \n",
    "```\n",
    "void sendFloatResponse(float val) {\n",
    "  Serial.println(String(val, 3));\n",
    "}\n",
    "```\n",
    ":::"
   ]
  },
  {
   "cell_type": "markdown",
   "metadata": {},
   "source": [
    "### Setting Heaters\n",
    "\n",
    "Both heaters can be set between 0 to 100% power with the functions `Q1 x` ou `Q2 x` (where x is between 0 and 100). The device firmware limits the heaters to a range of 0 to 100%. The current value of attributes may be accessed via\n",
    "    \n",
    "> Using the serial monitor, set source Q1 to 100% heat and observe the change in temperatures T1 and T2. What do you observe? **Stop all the heaters** with the `X` command.\n",
    " \n",
    "    \n",
    "**Note A:**  \n",
    "1. The led on the temperature control laboratory will turns from dim to bright when either heater is on.\n",
    "2. Closing the TCLab instance turns the heaters off.\n",
    "3. The power level of the two heaters may be different. Current versions of the firmware limit maximum power of first heater to 4 watts, and maximum power of the second heater to 2 watts.\n",
    "4. In addition to the constraints imposed by the firmware, the power supply may not be capable of providing all of the power needed to operate both heaters at 100%\n",
    "5. The values retrieved from these functions may be different than the values set due to the power limits enforced by the device firmware.\n",
    "\n",
    "**Note B:**  \n",
    "Each command returns a result string.  \n",
    "\n",
    " Command | Action  \n",
    " -:- | -:-  \n",
    "  A |        software restart. Returns \"Start\"  \n",
    "  LED float | set LED to float for 10 sec. range 0 to 100. Returns actual float  \n",
    "  P1 float  | set pwm limit on heater 1, range 0 to 255. Default 200. Returns P1.  \n",
    "  P2 float  | set pwm limit on heater 2, range 0 to 255. Default 100. Returns P2.  \n",
    "  Q1 float  | set Heater 1, range 0 to 100. Returns value of Q1.  \n",
    "  Q2 float  | set Heater 2, range 0 to 100. Returns value of Q2.  \n",
    "  Q1B float | set Heater 1, range 0 to 100. Returns value of Q1 as a 32-bit float.  \n",
    "  Q2B float | set Heater 2, range 0 to 100. Returns value of Q2 as a 32-bit float.  \n",
    "  R1  |      get value of Heater 1, range 0 to 100  \n",
    "  R2   |     get value of Heater 2, range 0 to 100  \n",
    "  SCAN  |    get values T1 T2 Q1 Q1 in line delimited values  \n",
    "  T1   |     get Temperature T1. Returns value of T1 in °C.  \n",
    "  T2   |     get Temperature T2. Returns value of T2 in °C.  \n",
    "  T1B  |     get Temperature T1. Returns value of T1 in °C as a 32-bit float.  \n",
    "  T2B  |     get Temperature T2. Returns value of T2 in °C as a 32-bit float.  \n",
    "  VER  |     get firmware version string  \n",
    "  X    |     stop, enter sleep mode. Returns \"Stop\"  "
   ]
  },
  {
   "cell_type": "markdown",
   "metadata": {
    "slideshow": {
     "slide_type": "skip"
    }
   },
   "source": [
    "## Getting to grips with the Python code\n",
    "\n",
    "### Installing the tclab library\n",
    "\n",
    "The TCLab package is installed from a terminal window (MacOS) or command window (PC) with the command\n",
    "\n",
    "    pip install tclab\n",
    "\n",
    "Alternatively, the installation can be performed from within a Jupyter/Python notebook with the command\n",
    "\n",
    "    !pip install tclab\n",
    "\n",
    "There are occasional updates to the library. These can be installed by appending a ` --upgrade` to the above commands and demonstrated in the next cell."
   ]
  },
  {
   "cell_type": "code",
   "execution_count": null,
   "metadata": {},
   "outputs": [],
   "source": [
    "!pip install tclab --upgrade"
   ]
  },
  {
   "cell_type": "markdown",
   "metadata": {
    "slideshow": {
     "slide_type": "skip"
    }
   },
   "source": [
    "### Importing\n",
    "    \n",
    "Once installed, the `tclab` package can be imported into Python and an instance created with the Python statements\n",
    "\n",
    "    from tclab import TCLab\n",
    "    lab = TCLab()\n",
    "\n",
    "TCLab() attempts to find a device connected to a serial port and return a connection. An error is generated if no device is found.  The connection should be closed when no longer in use.\n",
    "\n",
    "The following cell demonstrates this process, and uses the tclab `LED()` function to flash the LED on the Temperature Control Lab for a period of 10 seconds at a 100% brightness level. "
   ]
  },
  {
   "cell_type": "markdown",
   "metadata": {
    "scrolled": true
   },
   "source": [
    "Connect TCLab card:\n",
    "```\n",
    "from tclab import TCLab\n",
    "\n",
    "lab = TCLab()\n",
    "lab.LED(100)\n",
    "```\n",
    "\n",
    "If you have no TCLab card use the simulator:\n",
    "```\n",
    "from tclab import TCLabModel as TCLab\n",
    "\n",
    "lab = TCLab()\n",
    "lab.LED(100)\n",
    "```"
   ]
  },
  {
   "cell_type": "markdown",
   "metadata": {},
   "source": [
    "## Reading Temperatures\n",
    "\n",
    "Once a tclab instance is created and connected to a device, the temperature sensors on the temperature control lab can be acccessed with the attributes `.T1` and `.T2`.  For example, given an instance `lab`, the temperatures are accessed as\n",
    "\n",
    "    T1 = lab.T1\n",
    "    T2 = lab.T2\n",
    "\n",
    "`lab.T1` and `lab.T2` are read-only properties. Any attempt to set them to a value will return a Python error."
   ]
  },
  {
   "cell_type": "code",
   "execution_count": null,
   "metadata": {},
   "outputs": [],
   "source": [
    "# from tclab import TCLab\n",
    "\n",
    "print(\"Temperature 1: %0.2f °C\"%(lab.T1))\n",
    "print(\"Temperature 2: %0.2f °C\"%(lab.T2))"
   ]
  },
  {
   "cell_type": "markdown",
   "metadata": {
    "slideshow": {
     "slide_type": "skip"
    }
   },
   "source": [
    "## Setting Heaters\n",
    "\n",
    "For legacy reasons, there are two ways to set the power levels of the heaters. \n",
    "\n",
    "The first way is to the functions`.Q1()` and `.Q2()` of a `TCLab` instance. For example, both heaters can be set to 100% power with the functions\n",
    "\n",
    "    lab = TCLab()\n",
    "    lab.Q1(100)\n",
    "    lab.Q2(100)\n",
    "\n",
    "The device firmware limits the heaters to a range of 0 to 100%. The current value of attributes may be accessed via\n",
    "\n",
    "    Q1 = lab.Q1()\n",
    "    Q2 = lab.Q2()\n",
    "    \n",
    "Important notes:\n",
    "1. The led on the temperature control laboratory will turns from dim to bright when either heater is on.\n",
    "2. Closing the TCLab instance turns the heaters off.\n",
    "3. The power level of the two heaters may be different. Current versions of the firmware limit maximum power of first heater to 4 watts, and maxium power of the second heater to 2 watts.\n",
    "4. In addition to the constraints imposed by the firmware, the power supply may not be capable of providing all of the power needed to operate both heaters at 100%\n",
    "5. The values retrieved from these functions may be different than the values set due to the power limits enforced by the device firmware."
   ]
  },
  {
   "cell_type": "code",
   "execution_count": null,
   "metadata": {
    "slideshow": {
     "slide_type": "skip"
    }
   },
   "outputs": [],
   "source": [
    "import time\n",
    "\n",
    "print(\"\\nStarting Temperature 1: %0.2f °C\"%(lab.T1))\n",
    "print(\"Starting Temperature 2: %0.2f °C\"%(lab.T2))\n",
    "\n",
    "print(\"\\nTurn Heaters On\")\n",
    "lab.Q1(100)\n",
    "lab.Q2(100)\n",
    "    \n",
    "t_heat = 30\n",
    "print(\"\\nHeat for\", t_heat, \"seconds\")\n",
    "time.sleep(t_heat)\n",
    "\n",
    "print(\"\\nTurn Heaters Off\")\n",
    "lab.Q1(0)\n",
    "lab.Q2(0)\n",
    "    \n",
    "print(\"\\nFinal Temperature 1: %0.2f °C\"%(lab.T1))\n",
    "print(\"Final Temperature 2: %0.2f °C\"%(lab.T2))"
   ]
  },
  {
   "cell_type": "markdown",
   "metadata": {
    "slideshow": {
     "slide_type": "skip"
    }
   },
   "source": [
    "## Synchronizing with Real Time using `clock`\n",
    "\n",
    "The `tclab` module includes `clock` for synchronizing calculations with real time.  `clock(tperiod, tstep)` generates a sequence of iterations over a period of `tperiod` seconds evenly by `tstep` seconds. If `tstep` is omitted then the default period is set to 1 second."
   ]
  },
  {
   "cell_type": "code",
   "execution_count": null,
   "metadata": {},
   "outputs": [],
   "source": [
    "from tclab import clock\n",
    "\n",
    "# from tclab import clock\n",
    "\n",
    "tperiod = 6\n",
    "tstep = 2\n",
    "for t in clock(tperiod,tstep):\n",
    "    print(t, \"sec.\")"
   ]
  },
  {
   "cell_type": "markdown",
   "metadata": {},
   "source": [
    "There are some considerations to keep in mind when using `clock`. Most important, by its nature Python is not a real-time environment. `clock` makes a best effort to stay in sync with evenly spaced ticks of the real time clock. If, for some reason, the loop falls behind the real time clock, then the generator will skip over the event to get back in sync with the real time clock. Thus the total number of iterations may be less than expected. This behavior is demonstrated in the following cell."
   ]
  },
  {
   "cell_type": "code",
   "execution_count": null,
   "metadata": {},
   "outputs": [],
   "source": [
    "#from tclab import TCLab, clock\n",
    "\n",
    "#import time\n",
    "\n",
    "tfinal = 12\n",
    "tstep = 2\n",
    "for t in clock(tfinal, tstep):\n",
    "    print(t, \"sec.\")\n",
    "    \n",
    "    # insert a long time out between 3 and 5 seconds into the event loop\n",
    "    if (t > 3) and (t < 5):\n",
    "        time.sleep(2.2)"
   ]
  },
  {
   "cell_type": "markdown",
   "metadata": {},
   "source": [
    "**Note:** The clock command is based on the `yield` keyword which is similar to a `return` statement used for returning values or objects in Python. However, there is a slight difference. The yield statement returns a generator object to the one who calls the function which contains yield, instead of simply returning a value. For more details read this [tutorial]( https://www.simplilearn.com/tutorials/python-tutorial/yield-in-python). Meanwhile, consider the example below. "
   ]
  },
  {
   "cell_type": "code",
   "execution_count": null,
   "metadata": {},
   "outputs": [],
   "source": [
    "def generator():\n",
    "   yield \"Welcome\"\n",
    "   yield \"in\"\n",
    "   yield \"space\"\n",
    "\n",
    "gen_object = generator()\n",
    "\n",
    "for i in gen_object:\n",
    "    print(i)"
   ]
  },
  {
   "cell_type": "markdown",
   "metadata": {},
   "source": [
    "## Step response using `clock` with TCLab"
   ]
  },
  {
   "cell_type": "markdown",
   "metadata": {},
   "source": [
    "> **Exercise:** write a code cell that turns on heater 1 at 50% power, then log the temperature responses (T1 and T2) once per second for 600 seconds. The output of the cell should report the time, power level, and temperature for each measurement. You will need the `clock` function from tclab for this exercise. The data have to be stored into vectors : `time`, `Q1`, `T1`, `T2`."
   ]
  },
  {
   "cell_type": "code",
   "execution_count": null,
   "metadata": {},
   "outputs": [],
   "source": [
    "#from tclab import TCLab, clock\n",
    "\n",
    "import matplotlib.pyplot as plt\n",
    "import numpy as np\n",
    "\n",
    "time = []\n",
    "Q1 = []\n",
    "T1 = []\n",
    "T2 = []\n",
    "\n",
    "print(\"\\nTurn Heater Q1 On\")\n",
    "lab.Q1(50)\n",
    "\n",
    "tfinal = 600\n",
    "tstep = 1\n",
    "\n",
    "for t in clock(tfinal, tstep):\n",
    "    print('.', end='')\n",
    "    time = time + [t]\n",
    "    T1 = T1 + [lab.T1]\n",
    "    T2 = T2 + [lab.T2]\n",
    "    Q1 = Q1 + [50]\n",
    "    \n",
    "print(\"\\nTurn Heater Q1 Off\")\n",
    "lab.Q1(0)"
   ]
  },
  {
   "cell_type": "markdown",
   "metadata": {},
   "source": [
    "The measured curve can then be displayed:"
   ]
  },
  {
   "cell_type": "code",
   "execution_count": null,
   "metadata": {},
   "outputs": [],
   "source": [
    "plt.plot(time, T1,'g-', label='T1')\n",
    "plt.plot(time, T2,'r-', label='T2')\n",
    "plt.xlabel('Time (s)')\n",
    "plt.ylabel('Temperature (°C)')\n",
    "plt.legend()\n",
    "plt.show()"
   ]
  },
  {
   "cell_type": "markdown",
   "metadata": {},
   "source": [
    "This curve can also be converted into a dataframe and saved as an Excel file (.csv also possible):"
   ]
  },
  {
   "cell_type": "code",
   "execution_count": null,
   "metadata": {},
   "outputs": [],
   "source": [
    "import pandas as pd\n",
    "\n",
    "# Dataframe creation\n",
    "df = pd.DataFrame([time, T1, T2, Q1]).T\n",
    "df.columns = ['Time', 'T1', 'T2', 'Q1']\n",
    "df = df.set_index('Time')\n",
    "\n",
    "# Dataframe plot\n",
    "df.plot(grid=True)\n",
    "\n",
    "# Save the dataframe into a .csv file\n",
    "df.to_csv('./data/Step_Test_Data.csv')\n"
   ]
  },
  {
   "cell_type": "markdown",
   "metadata": {},
   "source": [
    "## Fitting the Step Change Data to a First Order Model\n",
    "\n",
    "For a first-order linear system initially at steady-state, the response to a step input change at $t=0$ is given by\n",
    "\n",
    "$$y(t) = y(0) + K(1 - e^{-t/\\tau}) \\Delta U$$\n",
    "\n",
    "where $\\Delta U$ is the magnitude of the step change. Converting to notation used for the temperature control lab where $y(t) = T_1(t)$ and $\\Delta U = \\Delta Q_1$\n",
    "\n",
    "$$T_1(t) = T_1(0) + K_1(1 - e^{-t/\\tau_1}) \\Delta Q_1$$\n",
    "\n",
    "> **Questions:** \n",
    ">- Recall the differential equation and the transfer function of a 1st order SISO (Single Input Single Output) dynamic system. Use notations compatible with the description of the step response above. \n",
    "> - Identify the steady state gain $K_1$ and time constant $\\tau_1$\n",
    ">- Compare the 1st order response with the measured data. Conclusion."
   ]
  },
  {
   "cell_type": "code",
   "execution_count": null,
   "metadata": {},
   "outputs": [],
   "source": [
    "%matplotlib inline\n",
    "import pandas as pd\n",
    "\n",
    "# Read data\n",
    "df = pd.read_csv('./data/Step_Test_Data.csv') # my data\n",
    "\n",
    "df = df.set_index('Time')\n",
    "\n",
    "T1 = df['T1']\n",
    "Q1 = df['Q1']\n",
    "\n",
    "# Static gain K1\n",
    "# complete\n",
    "\n",
    "# Time constant tau1\n",
    "# complete\n",
    "\n",
    "\n",
    "import matplotlib.pyplot as plt\n",
    "import numpy as np\n",
    "\n",
    "exp = np.exp\n",
    "t = df.index\n",
    "\n",
    "T1_est = T1.min() + K1*(1 - exp(-t/tau1))*DeltaQ1\n",
    "\n",
    "plt.figure(figsize=(10,5))\n",
    "ax = plt.subplot(2,1,1)\n",
    "df['T1'].plot(ax = ax, grid=True)\n",
    "plt.plot(t,T1_est)\n",
    "plt.title('Step Test Data Compared to Model')\n",
    "\n",
    "plt.subplot(2,1,2)\n",
    "plt.plot(t,T1_est-T1)\n",
    "plt.grid()\n",
    "plt.title('Residual Error')"
   ]
  },
  {
   "cell_type": "markdown",
   "metadata": {},
   "source": [
    "## Nodal thermal model\n",
    "\n",
    "We will show here that a physical model made up of thermal resistances and capacities can explain the dynamic responses observed and the transfer functions identified previously.\n",
    "\n",
    "> **Questions:** \n",
    ">- Recall the characteristic equations for thermal resistances and capacities relating temperatures $T_i$ and heat flows (power) $P$.   \n",
    ">- Select the thermal model to represent the temperature rise if we assume that the heating element and the temperature sensor are at the same temperature. \n",
    ">- Determine the values of the thermal resistance $R_{th}$ and the thermal capacity $C_{th}$ from the 1st order transfer function identified above. Assume that the maximum power of the heating element (4W) and the outside temperature are known.    \n",
    "    \n",
    "![Modèle thermique 1 corps](figures/Order1.png)"
   ]
  },
  {
   "cell_type": "code",
   "execution_count": null,
   "metadata": {},
   "outputs": [],
   "source": [
    "%matplotlib inline\n",
    "import numpy as np                  # basic package for numerical calculations\n",
    "import matplotlib.pyplot as plt     # plotting package\n",
    "from scipy.signal import step       # Import from scipy of the step response\n",
    "\n",
    "# parameter values and units\n",
    "# complete\n",
    "\n",
    "# First order step response\n",
    "num = [Rth]\n",
    "den = [Rth*Cth, 1]\n",
    "t, y = step(system=(num, den))\n",
    "T1_est = T_ambient  + P1*y\n",
    "\n",
    "plt.figure(figsize=(10,5))\n",
    "ax = plt.subplot(1,1,1)\n",
    "df['T1'].plot(ax = ax, grid=True)\n",
    "plt.plot(t,T1_est)\n",
    "plt.title('Step Test Data Compared to Model')\n",
    "\n",
    "#Print data\n",
    "print(\"Thermal resistance Rth = %.2f K/W\"%Rth)\n",
    "print(\"Thermal capcitance Cth = %.2f J/K\"%Cth)"
   ]
  },
  {
   "cell_type": "markdown",
   "metadata": {},
   "source": [
    "The parameter values in the above plot were chosen to (at least roughly) reproduce the measured response of temperature control laboratory. The [specific heat capacity for solids](https://en.wikipedia.org/wiki/Heat_capacity) is typically has values in the range of 0.2 to 0.9 J/K/gram. Using a value of 0.9 that is typical of aluminum and plastics used for electronic products, the estimated mass of the heater/sensor pair would be:"
   ]
  },
  {
   "cell_type": "code",
   "execution_count": null,
   "metadata": {},
   "outputs": [],
   "source": [
    "print(\"Equivalent mass : %.2f g\"%(Cth/0.9))"
   ]
  },
  {
   "cell_type": "markdown",
   "metadata": {},
   "source": [
    "## Two State Model \n",
    "\n",
    "### From first order to second order thermal model\n",
    "\n",
    "> **Question:** Explain why the 1st order model is not completely satisfactory. \n",
    "\n",
    "> **Question:** Propose a nodal thermal diagram to represent the observed dynamics, taking into account the response of the temperature sensor. For this third model, we consider the possibility that the heater and sensor may not be at the same temperature. In other words, that the heater/sensor assembly is not at a uniform temperature. To account for this possibility, we introduce $𝑇_𝐻$ to denote the temperature of heater one and $𝑇_𝑆$ to denote the temperature of the corresponding sensor. We'll further assume that sensor mainly exchanges heat with the heater, and the dominant heat transfer to the surroundings is through the heat sink attached to the heater.\n",
    "\n",
    "> **Exercice or homework:** Determine the form of the transfer function corresponding to this thermal diagram. The input is the temperature rise in %, the output is the temperature measurement in °C. \n",
    "\n",
    "### Fitting a Second Order Model by Least Squares\n",
    "\n",
    "Graphically determining a large number of parameters can be difficult. Second-order parameters can be determined using the [least_square function](https://docs.scipy.org/doc/scipy/reference/generated/scipy.optimize.least_squares.html), which minimises an error by optimisation.  \n",
    "\n",
    "> **Exercice:** Propose a Python code to determine the second-order transfer function best suited to the measurement.\n"
   ]
  },
  {
   "cell_type": "code",
   "execution_count": null,
   "metadata": {},
   "outputs": [],
   "source": [
    "from scipy.optimize import least_squares\n",
    "import numpy as np\n",
    "Qmax = 50\n",
    "\n",
    "def f(x):\n",
    "# complete\n",
    "    return resid\n",
    "\n",
    "ic = [0.86,40,130,20]\n",
    "\n",
    "r = least_squares(f,ic,bounds=(0,np.inf))\n",
    "r.x"
   ]
  },
  {
   "cell_type": "markdown",
   "metadata": {},
   "source": [
    "For the next tutorial, we'll use the following transfer function: \n",
    "$ G_1(s) = \\frac{0.65}{(27s + 1)(160s + 1)} $"
   ]
  },
  {
   "cell_type": "code",
   "execution_count": null,
   "metadata": {},
   "outputs": [],
   "source": [
    "%matplotlib inline\n",
    "import numpy as np                  # basic package for numerical calculations\n",
    "import matplotlib.pyplot as plt     # plotting package\n",
    "from scipy.signal import step       # Import from scipy of the step response\n",
    "\n",
    "# First order step response\n",
    "num = [0.657]\n",
    "den = [160*27,160+27,1]\n",
    "t, y = step(system=(num, den),T=np.linspace(0,600,100))\n",
    "T1_est = 20.25  + y*50\n",
    "\n",
    "plt.figure(figsize=(10,5))\n",
    "ax = plt.subplot(1,1,1)\n",
    "df['T1'].plot(ax = ax, grid=True)\n",
    "plt.plot(t,T1_est)\n",
    "plt.title('Step Test Data Compared to Model')"
   ]
  },
  {
   "cell_type": "markdown",
   "metadata": {},
   "source": [
    "## References \n",
    "\n",
    "[Hedengren] Hedengren, J., Process Dynamics and Control, Brigham Young University.  [Link](http://apmonitor.com/pdc/index.php/Main/ArduinoTemperatureControl)\n",
    "\n",
    "[Kantor, 2021] Kantor, JC., Chemical Process Control class materials, University of Notre Dame. [Link](https://jckantor.github.io/cbe30338-2021/) / [Github](https://github.com/jckantor/cbe30338-2021)"
   ]
  },
  {
   "cell_type": "code",
   "execution_count": null,
   "metadata": {},
   "outputs": [],
   "source": []
  }
 ],
 "metadata": {
  "kernelspec": {
   "display_name": "Python 3 (ipykernel)",
   "language": "python",
   "name": "python3"
  },
  "language_info": {
   "codemirror_mode": {
    "name": "ipython",
    "version": 3
   },
   "file_extension": ".py",
   "mimetype": "text/x-python",
   "name": "python",
   "nbconvert_exporter": "python",
   "pygments_lexer": "ipython3",
   "version": "3.9.13"
  }
 },
 "nbformat": 4,
 "nbformat_minor": 4
}
